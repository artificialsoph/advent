{
 "cells": [
  {
   "cell_type": "code",
   "execution_count": 1,
   "id": "d2640487-460f-4f09-9a12-9e1c8edace65",
   "metadata": {
    "execution": {
     "iopub.execute_input": "2021-12-06T16:33:49.335781Z",
     "iopub.status.busy": "2021-12-06T16:33:49.335413Z",
     "iopub.status.idle": "2021-12-06T16:33:49.344463Z",
     "shell.execute_reply": "2021-12-06T16:33:49.343107Z",
     "shell.execute_reply.started": "2021-12-06T16:33:49.335707Z"
    },
    "tags": []
   },
   "outputs": [],
   "source": [
    "from functools import cache\n",
    "from pathlib import Path"
   ]
  },
  {
   "cell_type": "code",
   "execution_count": 2,
   "id": "5099adda-bde9-4e02-93ec-d912859a2cb6",
   "metadata": {
    "execution": {
     "iopub.execute_input": "2021-12-06T16:33:49.346572Z",
     "iopub.status.busy": "2021-12-06T16:33:49.346310Z",
     "iopub.status.idle": "2021-12-06T16:33:49.350837Z",
     "shell.execute_reply": "2021-12-06T16:33:49.349550Z",
     "shell.execute_reply.started": "2021-12-06T16:33:49.346548Z"
    },
    "tags": []
   },
   "outputs": [],
   "source": [
    "test_text = \"3,4,3,1,2\""
   ]
  },
  {
   "cell_type": "code",
   "execution_count": 3,
   "id": "f23f22ab-0672-4057-8629-4b476476f827",
   "metadata": {
    "execution": {
     "iopub.execute_input": "2021-12-06T16:33:49.352473Z",
     "iopub.status.busy": "2021-12-06T16:33:49.352061Z",
     "iopub.status.idle": "2021-12-06T16:33:49.355882Z",
     "shell.execute_reply": "2021-12-06T16:33:49.355289Z",
     "shell.execute_reply.started": "2021-12-06T16:33:49.352446Z"
    },
    "tags": []
   },
   "outputs": [],
   "source": [
    "input_text = Path(\"input.txt\").read_text()"
   ]
  },
  {
   "cell_type": "code",
   "execution_count": 4,
   "id": "474d953d-7a42-42eb-9e8b-4d6176c651cf",
   "metadata": {
    "execution": {
     "iopub.execute_input": "2021-12-06T16:33:49.359631Z",
     "iopub.status.busy": "2021-12-06T16:33:49.359376Z",
     "iopub.status.idle": "2021-12-06T16:33:49.363717Z",
     "shell.execute_reply": "2021-12-06T16:33:49.363032Z",
     "shell.execute_reply.started": "2021-12-06T16:33:49.359604Z"
    },
    "tags": []
   },
   "outputs": [],
   "source": [
    "@cache\n",
    "def project_fish(timer, days):\n",
    "\n",
    "    if days <= timer:\n",
    "        return 1\n",
    "    else:\n",
    "        return project_fish(7, days - timer) + project_fish(9, days - timer)"
   ]
  },
  {
   "cell_type": "code",
   "execution_count": 5,
   "id": "68db420c-c89e-4271-811a-da64217c1e2d",
   "metadata": {
    "execution": {
     "iopub.execute_input": "2021-12-06T16:33:49.364885Z",
     "iopub.status.busy": "2021-12-06T16:33:49.364589Z",
     "iopub.status.idle": "2021-12-06T16:33:49.368115Z",
     "shell.execute_reply": "2021-12-06T16:33:49.367563Z",
     "shell.execute_reply.started": "2021-12-06T16:33:49.364860Z"
    },
    "tags": []
   },
   "outputs": [],
   "source": [
    "def count_fish(initial_state, days):\n",
    "    n_fish = 0\n",
    "    for i in initial_state.split(\",\"):\n",
    "        n_fish += project_fish(int(i), days)\n",
    "\n",
    "    return n_fish"
   ]
  },
  {
   "cell_type": "code",
   "execution_count": 6,
   "id": "57f17ea0-e33e-4f20-8e1e-0c4af258f582",
   "metadata": {
    "execution": {
     "iopub.execute_input": "2021-12-06T16:33:49.369197Z",
     "iopub.status.busy": "2021-12-06T16:33:49.369001Z",
     "iopub.status.idle": "2021-12-06T16:33:49.379450Z",
     "shell.execute_reply": "2021-12-06T16:33:49.378840Z",
     "shell.execute_reply.started": "2021-12-06T16:33:49.369174Z"
    },
    "tags": []
   },
   "outputs": [
    {
     "data": {
      "text/plain": [
       "26"
      ]
     },
     "execution_count": 6,
     "metadata": {},
     "output_type": "execute_result"
    }
   ],
   "source": [
    "count_fish(test_text, 18)"
   ]
  },
  {
   "cell_type": "code",
   "execution_count": 7,
   "id": "f51c4c59-e1ce-4954-9508-d3d648906773",
   "metadata": {
    "execution": {
     "iopub.execute_input": "2021-12-06T16:33:49.381146Z",
     "iopub.status.busy": "2021-12-06T16:33:49.380897Z",
     "iopub.status.idle": "2021-12-06T16:33:49.385083Z",
     "shell.execute_reply": "2021-12-06T16:33:49.384436Z",
     "shell.execute_reply.started": "2021-12-06T16:33:49.381119Z"
    },
    "tags": []
   },
   "outputs": [
    {
     "data": {
      "text/plain": [
       "5934"
      ]
     },
     "execution_count": 7,
     "metadata": {},
     "output_type": "execute_result"
    }
   ],
   "source": [
    "count_fish(test_text, 80)"
   ]
  },
  {
   "cell_type": "code",
   "execution_count": 8,
   "id": "f104cd1f-17c4-4f81-8501-1c5811d17b16",
   "metadata": {
    "execution": {
     "iopub.execute_input": "2021-12-06T16:33:49.386301Z",
     "iopub.status.busy": "2021-12-06T16:33:49.385950Z",
     "iopub.status.idle": "2021-12-06T16:33:49.390341Z",
     "shell.execute_reply": "2021-12-06T16:33:49.389635Z",
     "shell.execute_reply.started": "2021-12-06T16:33:49.386278Z"
    },
    "tags": []
   },
   "outputs": [
    {
     "data": {
      "text/plain": [
       "353079"
      ]
     },
     "execution_count": 8,
     "metadata": {},
     "output_type": "execute_result"
    }
   ],
   "source": [
    "count_fish(input_text, 80)"
   ]
  },
  {
   "cell_type": "code",
   "execution_count": 9,
   "id": "1d3f53ca-392a-4c38-802d-73214404893f",
   "metadata": {
    "execution": {
     "iopub.execute_input": "2021-12-06T16:33:49.391733Z",
     "iopub.status.busy": "2021-12-06T16:33:49.391157Z",
     "iopub.status.idle": "2021-12-06T16:33:49.395785Z",
     "shell.execute_reply": "2021-12-06T16:33:49.395246Z",
     "shell.execute_reply.started": "2021-12-06T16:33:49.391684Z"
    },
    "tags": []
   },
   "outputs": [
    {
     "data": {
      "text/plain": [
       "26984457539"
      ]
     },
     "execution_count": 9,
     "metadata": {},
     "output_type": "execute_result"
    }
   ],
   "source": [
    "count_fish(test_text, 256)"
   ]
  },
  {
   "cell_type": "code",
   "execution_count": 10,
   "id": "ceddde44-ad64-4374-b126-259fb63661f8",
   "metadata": {
    "execution": {
     "iopub.execute_input": "2021-12-06T16:33:49.397147Z",
     "iopub.status.busy": "2021-12-06T16:33:49.396949Z",
     "iopub.status.idle": "2021-12-06T16:33:49.401023Z",
     "shell.execute_reply": "2021-12-06T16:33:49.400426Z",
     "shell.execute_reply.started": "2021-12-06T16:33:49.397126Z"
    }
   },
   "outputs": [
    {
     "data": {
      "text/plain": [
       "1605400130036"
      ]
     },
     "execution_count": 10,
     "metadata": {},
     "output_type": "execute_result"
    }
   ],
   "source": [
    "count_fish(input_text, 256)"
   ]
  },
  {
   "cell_type": "code",
   "execution_count": null,
   "id": "423e0f08-cbb4-42b9-b404-92f36f283628",
   "metadata": {},
   "outputs": [],
   "source": []
  }
 ],
 "metadata": {
  "kernelspec": {
   "display_name": "Python [conda env:ds]",
   "language": "python",
   "name": "conda-env-ds-py"
  },
  "language_info": {
   "codemirror_mode": {
    "name": "ipython",
    "version": 3
   },
   "file_extension": ".py",
   "mimetype": "text/x-python",
   "name": "python",
   "nbconvert_exporter": "python",
   "pygments_lexer": "ipython3",
   "version": "3.9.7"
  }
 },
 "nbformat": 4,
 "nbformat_minor": 5
}

{
 "cells": [
  {
   "cell_type": "code",
   "execution_count": 141,
   "id": "c4637975-85c8-4b20-a20d-1e6b72a67c92",
   "metadata": {
    "execution": {
     "iopub.execute_input": "2021-12-17T16:52:38.128986Z",
     "iopub.status.busy": "2021-12-17T16:52:38.128545Z",
     "iopub.status.idle": "2021-12-17T16:52:38.134799Z",
     "shell.execute_reply": "2021-12-17T16:52:38.134198Z",
     "shell.execute_reply.started": "2021-12-17T16:52:38.128951Z"
    },
    "tags": []
   },
   "outputs": [],
   "source": [
    "import itertools\n",
    "import re\n",
    "from pathlib import Path\n",
    "\n",
    "import matplotlib.pyplot as plt\n",
    "import numpy as np\n",
    "import numpy.typing as npt\n",
    "from typing import Optional"
   ]
  },
  {
   "cell_type": "code",
   "execution_count": 118,
   "id": "9bb9aa85-ce6e-4ee5-9a4f-37589857c34f",
   "metadata": {
    "execution": {
     "iopub.execute_input": "2021-12-17T16:34:28.047389Z",
     "iopub.status.busy": "2021-12-17T16:34:28.047099Z",
     "iopub.status.idle": "2021-12-17T16:34:28.052841Z",
     "shell.execute_reply": "2021-12-17T16:34:28.052104Z",
     "shell.execute_reply.started": "2021-12-17T16:34:28.047353Z"
    },
    "tags": []
   },
   "outputs": [],
   "source": [
    "test_text = \"\"\"target area: x=20..30, y=-10..-5\"\"\"\n",
    "input_text = Path(\"input.txt\").read_text()"
   ]
  },
  {
   "cell_type": "code",
   "execution_count": 119,
   "id": "69d1a70e-ddd9-4e7b-97a5-943be8509012",
   "metadata": {
    "execution": {
     "iopub.execute_input": "2021-12-17T16:34:30.051710Z",
     "iopub.status.busy": "2021-12-17T16:34:30.051410Z",
     "iopub.status.idle": "2021-12-17T16:34:30.057394Z",
     "shell.execute_reply": "2021-12-17T16:34:30.056155Z",
     "shell.execute_reply.started": "2021-12-17T16:34:30.051676Z"
    },
    "tags": []
   },
   "outputs": [],
   "source": [
    "box_re = re.compile(r\".*x=(-?\\d*)\\.\\.(-?\\d*).*y=(-?\\d*)\\.\\.(-?\\d*)\")\n",
    "\n",
    "\n",
    "def parse_box(box_text: str) -> npt.NDArray:\n",
    "\n",
    "    m = box_re.match(box_text)\n",
    "\n",
    "    return np.array(m.group(1, 2, 3, 4), dtype=int)\n",
    "\n",
    "\n",
    "assert np.array_equal(parse_box(test_text), np.array([20, 30, -10, -5]))"
   ]
  },
  {
   "cell_type": "code",
   "execution_count": 152,
   "id": "32d6548c-3e10-4784-9591-3fa32ee6192c",
   "metadata": {
    "execution": {
     "iopub.execute_input": "2021-12-17T16:57:22.453787Z",
     "iopub.status.busy": "2021-12-17T16:57:22.453411Z",
     "iopub.status.idle": "2021-12-17T16:57:22.460132Z",
     "shell.execute_reply": "2021-12-17T16:57:22.459454Z",
     "shell.execute_reply.started": "2021-12-17T16:57:22.453753Z"
    },
    "tags": []
   },
   "outputs": [],
   "source": [
    "def find_trajectory(\n",
    "    init_velocity: npt.ArrayLike,\n",
    "    init_loc: npt.ArrayLike = (0, 0),\n",
    "    n_steps: int = 1000,\n",
    "    box: Optional[npt.NDArray] = None,\n",
    ") -> npt.NDArray:\n",
    "\n",
    "    loc = np.array(init_loc)\n",
    "    velocity = np.array(init_velocity)\n",
    "\n",
    "    trajectory = np.zeros((n_steps + 1, 2))\n",
    "\n",
    "    trajectory[0, :] = loc\n",
    "\n",
    "    for i in range(1, n_steps + 1):\n",
    "\n",
    "        loc += velocity\n",
    "\n",
    "        velocity[0] = np.sign(velocity[0]) * np.max(np.abs(velocity[0]) - 1, 0)\n",
    "        velocity[1] = velocity[1] - 1\n",
    "\n",
    "        trajectory[i, :] = loc\n",
    "        \n",
    "        if box is not None:\n",
    "            \n",
    "            if (loc[0] > box[1]) or (loc[1] < box[2]):\n",
    "                break\n",
    "                \n",
    "            if (velocity[0] == 0) and (loc[0] < box[0]):\n",
    "                break\n",
    "\n",
    "    return trajectory"
   ]
  },
  {
   "cell_type": "code",
   "execution_count": 153,
   "id": "fbc20f0c-d7cf-41bb-a8a8-4867e81db594",
   "metadata": {
    "execution": {
     "iopub.execute_input": "2021-12-17T16:57:23.022398Z",
     "iopub.status.busy": "2021-12-17T16:57:23.021958Z",
     "iopub.status.idle": "2021-12-17T16:57:23.073689Z",
     "shell.execute_reply": "2021-12-17T16:57:23.073115Z",
     "shell.execute_reply.started": "2021-12-17T16:57:23.022343Z"
    },
    "tags": []
   },
   "outputs": [],
   "source": [
    "def traj_intersect(trajectory: npt.NDArray, box: npt.NDArray) -> bool:\n",
    "\n",
    "    return np.any(\n",
    "        np.all((box[[0, 2]] <= trajectory) & (trajectory <= box[[1, 3]]), axis=1)\n",
    "    )\n",
    "\n",
    "\n",
    "test_box = parse_box(test_text)\n",
    "\n",
    "assert traj_intersect(find_trajectory((7, 2), box=test_box), test_box)\n",
    "assert traj_intersect(find_trajectory((6, 3)), test_box)\n",
    "assert traj_intersect(find_trajectory((9, 0)), test_box)\n",
    "assert not traj_intersect(find_trajectory((17, -4)), test_box)"
   ]
  },
  {
   "cell_type": "code",
   "execution_count": 154,
   "id": "02249025-434c-424a-b68c-c8d6fdf60524",
   "metadata": {
    "execution": {
     "iopub.execute_input": "2021-12-17T16:57:24.969047Z",
     "iopub.status.busy": "2021-12-17T16:57:24.968744Z",
     "iopub.status.idle": "2021-12-17T16:57:24.974528Z",
     "shell.execute_reply": "2021-12-17T16:57:24.973464Z",
     "shell.execute_reply.started": "2021-12-17T16:57:24.969012Z"
    },
    "tags": []
   },
   "outputs": [],
   "source": [
    "def find_all_traj(\n",
    "    box: npt.NDArray,\n",
    "    x_vel: npt.NDArray = np.arange(20),\n",
    "    y_vel: npt.NDArray = np.arange(20),\n",
    "    n_steps: int = 40,\n",
    ") -> int:\n",
    "\n",
    "    traj_dict = {}\n",
    "\n",
    "    for vel in itertools.product(x_vel, y_vel):\n",
    "\n",
    "        traj = find_trajectory(vel, n_steps=n_steps, box=box)\n",
    "        intersect = traj_intersect(traj, box)\n",
    "\n",
    "        if intersect:\n",
    "\n",
    "            traj_dict[vel] = np.max(traj[:, 1])\n",
    "            \n",
    "    return traj_dict"
   ]
  },
  {
   "cell_type": "code",
   "execution_count": 159,
   "id": "95787421-4238-4f15-8234-881baca60fe0",
   "metadata": {
    "execution": {
     "iopub.execute_input": "2021-12-17T17:49:59.663114Z",
     "iopub.status.busy": "2021-12-17T17:49:59.662845Z",
     "iopub.status.idle": "2021-12-17T17:49:59.667120Z",
     "shell.execute_reply": "2021-12-17T17:49:59.666119Z",
     "shell.execute_reply.started": "2021-12-17T17:49:59.663080Z"
    },
    "tags": []
   },
   "outputs": [],
   "source": [
    "# find_all_traj(parse_box(input_text), x_vel=np.arange(40), y_vel=np.arange(200), n_steps=400)"
   ]
  },
  {
   "cell_type": "code",
   "execution_count": 157,
   "id": "02ae6d10-b9eb-4ffb-8a7f-9c658198ed63",
   "metadata": {
    "execution": {
     "iopub.execute_input": "2021-12-17T16:59:47.027191Z",
     "iopub.status.busy": "2021-12-17T16:59:47.026942Z",
     "iopub.status.idle": "2021-12-17T16:59:48.418045Z",
     "shell.execute_reply": "2021-12-17T16:59:48.417539Z",
     "shell.execute_reply.started": "2021-12-17T16:59:47.027159Z"
    },
    "tags": []
   },
   "outputs": [],
   "source": [
    "def part_one(box_text) -> int:\n",
    "\n",
    "    traj_dict = find_all_traj(parse_box(box_text), x_vel=np.arange(40), y_vel=np.arange(200), n_steps=400)\n",
    "            \n",
    "    return max(traj_dict.values())\n",
    "\n",
    "\n",
    "assert part_one(test_text) == 45"
   ]
  },
  {
   "cell_type": "code",
   "execution_count": 158,
   "id": "6b66ba15-1317-4917-b47a-9dbde5578f2e",
   "metadata": {
    "execution": {
     "iopub.execute_input": "2021-12-17T17:00:08.608104Z",
     "iopub.status.busy": "2021-12-17T17:00:08.607792Z",
     "iopub.status.idle": "2021-12-17T17:00:10.904110Z",
     "shell.execute_reply": "2021-12-17T17:00:10.903604Z",
     "shell.execute_reply.started": "2021-12-17T17:00:08.608085Z"
    },
    "tags": []
   },
   "outputs": [
    {
     "data": {
      "text/plain": [
       "9180.0"
      ]
     },
     "execution_count": 158,
     "metadata": {},
     "output_type": "execute_result"
    }
   ],
   "source": [
    "part_one(input_text)"
   ]
  },
  {
   "cell_type": "code",
   "execution_count": 179,
   "id": "1cd22a0a-5bd3-434d-9e93-95b0c6bc9989",
   "metadata": {
    "execution": {
     "iopub.execute_input": "2021-12-17T17:56:43.853586Z",
     "iopub.status.busy": "2021-12-17T17:56:43.853271Z",
     "iopub.status.idle": "2021-12-17T17:56:58.356849Z",
     "shell.execute_reply": "2021-12-17T17:56:58.356394Z",
     "shell.execute_reply.started": "2021-12-17T17:56:43.853567Z"
    },
    "tags": []
   },
   "outputs": [],
   "source": [
    "traj_dict = find_all_traj(parse_box(input_text), x_vel=np.arange(300), y_vel=np.arange(-200, 300), n_steps=1000)"
   ]
  },
  {
   "cell_type": "code",
   "execution_count": 180,
   "id": "40b607af-f20c-4c96-9d5a-3c300a31fcbe",
   "metadata": {
    "execution": {
     "iopub.execute_input": "2021-12-17T17:56:58.358456Z",
     "iopub.status.busy": "2021-12-17T17:56:58.358266Z",
     "iopub.status.idle": "2021-12-17T17:56:58.487492Z",
     "shell.execute_reply": "2021-12-17T17:56:58.486375Z",
     "shell.execute_reply.started": "2021-12-17T17:56:58.358439Z"
    },
    "tags": []
   },
   "outputs": [
    {
     "data": {
      "text/plain": [
       "<matplotlib.collections.PathCollection at 0x7fde68fcc850>"
      ]
     },
     "execution_count": 180,
     "metadata": {},
     "output_type": "execute_result"
    },
    {
     "data": {
      "image/png": "[encoded data removed]",
      "text/plain": [
       "<Figure size 1440x720 with 1 Axes>"
      ]
     },
     "metadata": {
      "needs_background": "light"
     },
     "output_type": "display_data"
    }
   ],
   "source": [
    "plt.figure(figsize=(20,10))\n",
    "\n",
    "valid_traj = np.array(list(traj_dict.keys()))\n",
    "\n",
    "plt.scatter(valid_traj[:,0], valid_traj[:,1], marker=\".\")"
   ]
  },
  {
   "cell_type": "code",
   "execution_count": 181,
   "id": "83b967ce-25f7-40a1-960a-9092cf4a4e5a",
   "metadata": {
    "execution": {
     "iopub.execute_input": "2021-12-17T17:57:17.137079Z",
     "iopub.status.busy": "2021-12-17T17:57:17.136868Z",
     "iopub.status.idle": "2021-12-17T17:57:17.140634Z",
     "shell.execute_reply": "2021-12-17T17:57:17.140089Z",
     "shell.execute_reply.started": "2021-12-17T17:57:17.137055Z"
    }
   },
   "outputs": [
    {
     "data": {
      "text/plain": [
       "3767"
      ]
     },
     "execution_count": 181,
     "metadata": {},
     "output_type": "execute_result"
    }
   ],
   "source": [
    "len(traj_dict)"
   ]
  },
  {
   "cell_type": "code",
   "execution_count": 80,
   "id": "db4b5686-cf38-498a-a515-d6261ce1f4be",
   "metadata": {
    "execution": {
     "iopub.execute_input": "2021-12-17T16:14:02.077307Z",
     "iopub.status.busy": "2021-12-17T16:14:02.076933Z",
     "iopub.status.idle": "2021-12-17T16:14:02.082695Z",
     "shell.execute_reply": "2021-12-17T16:14:02.081948Z",
     "shell.execute_reply.started": "2021-12-17T16:14:02.077282Z"
    },
    "tags": []
   },
   "outputs": [],
   "source": [
    "def plot_traj(traj, box):\n",
    "\n",
    "    plt.scatter(traj[:, 0], traj[:, 1], marker=\".\", color=\"black\")\n",
    "    plt.gca().add_patch(\n",
    "        plt.Rectangle(\n",
    "            box[[0, 2]],\n",
    "            np.abs(box[1] - box[0]),\n",
    "            np.abs(box[3] - box[2]),\n",
    "            zorder=-1,\n",
    "        )\n",
    "    )"
   ]
  },
  {
   "cell_type": "code",
   "execution_count": null,
   "id": "adafc289-7552-4679-bb29-a78885f77c99",
   "metadata": {},
   "outputs": [],
   "source": []
  },
  {
   "cell_type": "code",
   "execution_count": 104,
   "id": "afb97c3c-803e-4ebf-90df-a47d3adf9899",
   "metadata": {
    "execution": {
     "iopub.execute_input": "2021-12-17T16:29:37.076892Z",
     "iopub.status.busy": "2021-12-17T16:29:37.076426Z",
     "iopub.status.idle": "2021-12-17T16:29:37.180612Z",
     "shell.execute_reply": "2021-12-17T16:29:37.180067Z",
     "shell.execute_reply.started": "2021-12-17T16:29:37.076860Z"
    },
    "tags": []
   },
   "outputs": [
    {
     "data": {
      "image/png": "[encoded data removed]",
      "text/plain": [
       "<Figure size 720x720 with 1 Axes>"
      ]
     },
     "metadata": {
      "needs_background": "light"
     },
     "output_type": "display_data"
    }
   ],
   "source": [
    "plt.figure(figsize=(10, 10))\n",
    "\n",
    "plot_traj(find_trajectory((7, 9), n_steps=20), test_box)"
   ]
  },
  {
   "cell_type": "code",
   "execution_count": 61,
   "id": "4acc4a6e-d50b-4d26-aca4-44c15eb43584",
   "metadata": {
    "execution": {
     "iopub.execute_input": "2021-12-17T15:56:48.215546Z",
     "iopub.status.busy": "2021-12-17T15:56:48.215289Z",
     "iopub.status.idle": "2021-12-17T15:56:48.219900Z",
     "shell.execute_reply": "2021-12-17T15:56:48.219149Z",
     "shell.execute_reply.started": "2021-12-17T15:56:48.215519Z"
    },
    "tags": []
   },
   "outputs": [],
   "source": [
    "traj = find_trajectory((17, -4), (0, 0))\n",
    "box = parse_box(test_text)"
   ]
  },
  {
   "cell_type": "code",
   "execution_count": 62,
   "id": "47471d05-6a23-4b5a-8232-85d9a20e1b71",
   "metadata": {
    "execution": {
     "iopub.execute_input": "2021-12-17T15:56:49.336971Z",
     "iopub.status.busy": "2021-12-17T15:56:49.336693Z",
     "iopub.status.idle": "2021-12-17T15:56:49.342042Z",
     "shell.execute_reply": "2021-12-17T15:56:49.341404Z",
     "shell.execute_reply.started": "2021-12-17T15:56:49.336941Z"
    },
    "tags": []
   },
   "outputs": [
    {
     "data": {
      "text/plain": [
       "array([ 20, -10])"
      ]
     },
     "execution_count": 62,
     "metadata": {},
     "output_type": "execute_result"
    }
   ],
   "source": [
    "box[[0, 2]]"
   ]
  },
  {
   "cell_type": "code",
   "execution_count": 63,
   "id": "79cd34f3-fb9f-41fd-a824-40af0278ec6a",
   "metadata": {
    "execution": {
     "iopub.execute_input": "2021-12-17T15:56:59.099085Z",
     "iopub.status.busy": "2021-12-17T15:56:59.098771Z",
     "iopub.status.idle": "2021-12-17T15:56:59.104558Z",
     "shell.execute_reply": "2021-12-17T15:56:59.103882Z",
     "shell.execute_reply.started": "2021-12-17T15:56:59.099057Z"
    }
   },
   "outputs": [
    {
     "data": {
      "text/plain": [
       "array([[False,  True],\n",
       "       [False,  True],\n",
       "       [ True,  True],\n",
       "       [ True, False],\n",
       "       [ True, False],\n",
       "       [ True, False],\n",
       "       [ True, False],\n",
       "       [ True, False],\n",
       "       [ True, False],\n",
       "       [ True, False],\n",
       "       [ True, False],\n",
       "       [ True, False],\n",
       "       [ True, False],\n",
       "       [ True, False],\n",
       "       [ True, False],\n",
       "       [ True, False],\n",
       "       [ True, False],\n",
       "       [ True, False],\n",
       "       [ True, False],\n",
       "       [ True, False],\n",
       "       [ True, False]])"
      ]
     },
     "execution_count": 63,
     "metadata": {},
     "output_type": "execute_result"
    }
   ],
   "source": [
    "box[[0, 2]] < traj"
   ]
  },
  {
   "cell_type": "code",
   "execution_count": 64,
   "id": "3285524a-36d0-4390-921f-4c04c10d9931",
   "metadata": {
    "execution": {
     "iopub.execute_input": "2021-12-17T15:57:28.145339Z",
     "iopub.status.busy": "2021-12-17T15:57:28.145053Z",
     "iopub.status.idle": "2021-12-17T15:57:28.150285Z",
     "shell.execute_reply": "2021-12-17T15:57:28.149429Z",
     "shell.execute_reply.started": "2021-12-17T15:57:28.145310Z"
    }
   },
   "outputs": [
    {
     "data": {
      "text/plain": [
       "array([[ True, False],\n",
       "       [ True, False],\n",
       "       [False,  True],\n",
       "       [False,  True],\n",
       "       [False,  True],\n",
       "       [False,  True],\n",
       "       [False,  True],\n",
       "       [False,  True],\n",
       "       [False,  True],\n",
       "       [False,  True],\n",
       "       [False,  True],\n",
       "       [False,  True],\n",
       "       [False,  True],\n",
       "       [False,  True],\n",
       "       [False,  True],\n",
       "       [False,  True],\n",
       "       [False,  True],\n",
       "       [False,  True],\n",
       "       [False,  True],\n",
       "       [False,  True],\n",
       "       [False,  True]])"
      ]
     },
     "execution_count": 64,
     "metadata": {},
     "output_type": "execute_result"
    }
   ],
   "source": [
    "traj < box[[1, 3]]"
   ]
  },
  {
   "cell_type": "code",
   "execution_count": 65,
   "id": "9d821860-10f8-4d34-9c50-8a80ff671a3a",
   "metadata": {
    "execution": {
     "iopub.execute_input": "2021-12-17T15:57:51.522227Z",
     "iopub.status.busy": "2021-12-17T15:57:51.521958Z",
     "iopub.status.idle": "2021-12-17T15:57:51.527674Z",
     "shell.execute_reply": "2021-12-17T15:57:51.526945Z",
     "shell.execute_reply.started": "2021-12-17T15:57:51.522194Z"
    }
   },
   "outputs": [
    {
     "data": {
      "text/plain": [
       "array([[False, False],\n",
       "       [False, False],\n",
       "       [False,  True],\n",
       "       [False, False],\n",
       "       [False, False],\n",
       "       [False, False],\n",
       "       [False, False],\n",
       "       [False, False],\n",
       "       [False, False],\n",
       "       [False, False],\n",
       "       [False, False],\n",
       "       [False, False],\n",
       "       [False, False],\n",
       "       [False, False],\n",
       "       [False, False],\n",
       "       [False, False],\n",
       "       [False, False],\n",
       "       [False, False],\n",
       "       [False, False],\n",
       "       [False, False],\n",
       "       [False, False]])"
      ]
     },
     "execution_count": 65,
     "metadata": {},
     "output_type": "execute_result"
    }
   ],
   "source": [
    "(box[[0, 2]] < traj) & (traj < box[[1, 3]])"
   ]
  },
  {
   "cell_type": "code",
   "execution_count": 66,
   "id": "d1dc456d-a05b-4263-923f-38fefb432c40",
   "metadata": {
    "execution": {
     "iopub.execute_input": "2021-12-17T15:58:10.227249Z",
     "iopub.status.busy": "2021-12-17T15:58:10.226989Z",
     "iopub.status.idle": "2021-12-17T15:58:10.232305Z",
     "shell.execute_reply": "2021-12-17T15:58:10.231737Z",
     "shell.execute_reply.started": "2021-12-17T15:58:10.227223Z"
    }
   },
   "outputs": [
    {
     "data": {
      "text/plain": [
       "array([False, False, False, False, False, False, False, False, False,\n",
       "       False, False, False, False, False, False, False, False, False,\n",
       "       False, False, False])"
      ]
     },
     "execution_count": 66,
     "metadata": {},
     "output_type": "execute_result"
    }
   ],
   "source": [
    "np.all((box[[0, 2]] < traj) & (traj < box[[1, 3]]), axis=1)"
   ]
  },
  {
   "cell_type": "code",
   "execution_count": 67,
   "id": "9f25740e-30e4-47b7-87a9-fbe9a161d774",
   "metadata": {
    "execution": {
     "iopub.execute_input": "2021-12-17T15:58:16.040659Z",
     "iopub.status.busy": "2021-12-17T15:58:16.040387Z",
     "iopub.status.idle": "2021-12-17T15:58:16.045979Z",
     "shell.execute_reply": "2021-12-17T15:58:16.045245Z",
     "shell.execute_reply.started": "2021-12-17T15:58:16.040626Z"
    },
    "tags": []
   },
   "outputs": [
    {
     "data": {
      "text/plain": [
       "False"
      ]
     },
     "execution_count": 67,
     "metadata": {},
     "output_type": "execute_result"
    }
   ],
   "source": [
    "np.any(np.all((box[[0, 2]] < traj) & (traj < box[[1, 3]]), axis=1))"
   ]
  },
  {
   "cell_type": "code",
   "execution_count": 51,
   "id": "d69d1630-08d4-4860-aad6-cb34582a6db9",
   "metadata": {
    "execution": {
     "iopub.execute_input": "2021-12-17T15:51:20.925334Z",
     "iopub.status.busy": "2021-12-17T15:51:20.925069Z",
     "iopub.status.idle": "2021-12-17T15:51:20.930150Z",
     "shell.execute_reply": "2021-12-17T15:51:20.929514Z",
     "shell.execute_reply.started": "2021-12-17T15:51:20.925308Z"
    }
   },
   "outputs": [
    {
     "data": {
      "text/plain": [
       "array([[ True, False],\n",
       "       [ True, False],\n",
       "       [ True, False],\n",
       "       [ True, False],\n",
       "       [ True, False],\n",
       "       [ True, False],\n",
       "       [ True, False],\n",
       "       [ True,  True],\n",
       "       [ True,  True],\n",
       "       [ True,  True],\n",
       "       [ True,  True],\n",
       "       [ True,  True],\n",
       "       [ True,  True],\n",
       "       [ True,  True],\n",
       "       [ True,  True],\n",
       "       [ True,  True],\n",
       "       [ True,  True],\n",
       "       [ True,  True],\n",
       "       [ True,  True],\n",
       "       [ True,  True],\n",
       "       [ True,  True]])"
      ]
     },
     "execution_count": 51,
     "metadata": {},
     "output_type": "execute_result"
    }
   ],
   "source": [
    "traj < box[[1, 3]]"
   ]
  },
  {
   "cell_type": "code",
   "execution_count": 19,
   "id": "a45d3be4-2ef7-4064-a288-5ced7312d3c9",
   "metadata": {
    "execution": {
     "iopub.execute_input": "2021-12-17T15:14:56.168967Z",
     "iopub.status.busy": "2021-12-17T15:14:56.168691Z",
     "iopub.status.idle": "2021-12-17T15:14:56.305538Z",
     "shell.execute_reply": "2021-12-17T15:14:56.305033Z",
     "shell.execute_reply.started": "2021-12-17T15:14:56.168936Z"
    },
    "tags": []
   },
   "outputs": [
    {
     "data": {
      "text/plain": [
       "<matplotlib.collections.PathCollection at 0x7fde91c2e7f0>"
      ]
     },
     "execution_count": 19,
     "metadata": {},
     "output_type": "execute_result"
    },
    {
     "data": {
      "image/png": "[encoded data removed]",
      "text/plain": [
       "<Figure size 432x288 with 1 Axes>"
      ]
     },
     "metadata": {
      "needs_background": "light"
     },
     "output_type": "display_data"
    }
   ],
   "source": [
    "traj = trajectory((7, 2), (0, 0))\n",
    "\n",
    "plt.scatter(traj[:, 0], traj[:, 1])"
   ]
  },
  {
   "cell_type": "code",
   "execution_count": null,
   "id": "256ab47e-995b-4bf6-aad5-acd39a134d1b",
   "metadata": {},
   "outputs": [],
   "source": []
  }
 ],
 "metadata": {
  "kernelspec": {
   "display_name": "Python [conda env:ds]",
   "language": "python",
   "name": "conda-env-ds-py"
  },
  "language_info": {
   "codemirror_mode": {
    "name": "ipython",
    "version": 3
   },
   "file_extension": ".py",
   "mimetype": "text/x-python",
   "name": "python",
   "nbconvert_exporter": "python",
   "pygments_lexer": "ipython3",
   "version": "3.9.7"
  }
 },
 "nbformat": 4,
 "nbformat_minor": 5
}

{
 "cells": [
  {
   "cell_type": "code",
   "execution_count": 18,
   "id": "222ff2a1-9bfe-43bd-8bf2-86b354c6df08",
   "metadata": {
    "execution": {
     "iopub.execute_input": "2022-12-01T13:50:39.804459Z",
     "iopub.status.busy": "2022-12-01T13:50:39.804155Z",
     "iopub.status.idle": "2022-12-01T13:50:39.964437Z",
     "shell.execute_reply": "2022-12-01T13:50:39.963618Z",
     "shell.execute_reply.started": "2022-12-01T13:50:39.804427Z"
    },
    "tags": []
   },
   "outputs": [],
   "source": [
    "from pathlib import Path\n",
    "\n",
    "import numpy as np"
   ]
  },
  {
   "cell_type": "code",
   "execution_count": 1,
   "id": "070e894f-779b-49cd-a1f3-fdb0e7f6c070",
   "metadata": {
    "execution": {
     "iopub.execute_input": "2022-12-01T13:42:30.369009Z",
     "iopub.status.busy": "2022-12-01T13:42:30.368719Z",
     "iopub.status.idle": "2022-12-01T13:42:30.373095Z",
     "shell.execute_reply": "2022-12-01T13:42:30.372208Z",
     "shell.execute_reply.started": "2022-12-01T13:42:30.368982Z"
    }
   },
   "outputs": [],
   "source": [
    "test_input = \"\"\"1000\n",
    "2000\n",
    "3000\n",
    "\n",
    "4000\n",
    "\n",
    "5000\n",
    "6000\n",
    "\n",
    "7000\n",
    "8000\n",
    "9000\n",
    "\n",
    "10000\"\"\""
   ]
  },
  {
   "cell_type": "markdown",
   "id": "eb920684-3c0e-41fb-8bd8-8537a6c68889",
   "metadata": {},
   "source": [
    "# Part 1"
   ]
  },
  {
   "cell_type": "code",
   "execution_count": 47,
   "id": "baaa7acd-ac7b-4a32-a914-af8fa18ac765",
   "metadata": {
    "execution": {
     "iopub.execute_input": "2022-12-01T13:57:54.885995Z",
     "iopub.status.busy": "2022-12-01T13:57:54.885717Z",
     "iopub.status.idle": "2022-12-01T13:57:54.890267Z",
     "shell.execute_reply": "2022-12-01T13:57:54.889461Z",
     "shell.execute_reply.started": "2022-12-01T13:57:54.885966Z"
    },
    "tags": []
   },
   "outputs": [],
   "source": [
    "def find_elf_calories(input_text):\n",
    "    return np.array([sum(map(int, elf.split())) for elf in input_text.split(\"\\n\\n\")])"
   ]
  },
  {
   "cell_type": "markdown",
   "id": "7d65ad6a-bae9-42e8-aed6-d3d85ca80d46",
   "metadata": {},
   "source": [
    "### SOLN"
   ]
  },
  {
   "cell_type": "code",
   "execution_count": 48,
   "id": "f8a4ca39-259b-4d4b-aa22-59a3ad0f1c04",
   "metadata": {
    "execution": {
     "iopub.execute_input": "2022-12-01T13:57:55.699717Z",
     "iopub.status.busy": "2022-12-01T13:57:55.699169Z",
     "iopub.status.idle": "2022-12-01T13:57:55.704681Z",
     "shell.execute_reply": "2022-12-01T13:57:55.704051Z",
     "shell.execute_reply.started": "2022-12-01T13:57:55.699685Z"
    },
    "tags": []
   },
   "outputs": [
    {
     "data": {
      "text/plain": [
       "24000"
      ]
     },
     "execution_count": 48,
     "metadata": {},
     "output_type": "execute_result"
    }
   ],
   "source": [
    "max(find_elf_calories(test_input))"
   ]
  },
  {
   "cell_type": "code",
   "execution_count": 49,
   "id": "38806a9c-cb23-4448-808f-afe6b2aa7f83",
   "metadata": {
    "execution": {
     "iopub.execute_input": "2022-12-01T13:57:56.173922Z",
     "iopub.status.busy": "2022-12-01T13:57:56.173639Z",
     "iopub.status.idle": "2022-12-01T13:57:56.180215Z",
     "shell.execute_reply": "2022-12-01T13:57:56.179461Z",
     "shell.execute_reply.started": "2022-12-01T13:57:56.173892Z"
    },
    "tags": []
   },
   "outputs": [
    {
     "data": {
      "text/plain": [
       "69528"
      ]
     },
     "execution_count": 49,
     "metadata": {},
     "output_type": "execute_result"
    }
   ],
   "source": [
    "max(find_elf_calories(Path(\"input.txt\").read_text()))"
   ]
  },
  {
   "cell_type": "markdown",
   "id": "a0382306-0b2c-4269-8149-dad57637c89b",
   "metadata": {},
   "source": [
    "# Part 2"
   ]
  },
  {
   "cell_type": "markdown",
   "id": "18bc2907-eeb3-40ef-b9da-0896f9b5ac0d",
   "metadata": {},
   "source": [
    "### SOLN"
   ]
  },
  {
   "cell_type": "code",
   "execution_count": 56,
   "id": "b00a922c-5e68-4585-8d4d-d8d362c29cdd",
   "metadata": {
    "execution": {
     "iopub.execute_input": "2022-12-01T14:00:41.647226Z",
     "iopub.status.busy": "2022-12-01T14:00:41.646945Z",
     "iopub.status.idle": "2022-12-01T14:00:41.652966Z",
     "shell.execute_reply": "2022-12-01T14:00:41.652291Z",
     "shell.execute_reply.started": "2022-12-01T14:00:41.647196Z"
    },
    "tags": []
   },
   "outputs": [
    {
     "data": {
      "text/plain": [
       "45000"
      ]
     },
     "execution_count": 56,
     "metadata": {},
     "output_type": "execute_result"
    }
   ],
   "source": [
    "sum(np.partition(find_elf_calories(test_input), -3)[-3:])"
   ]
  },
  {
   "cell_type": "code",
   "execution_count": 57,
   "id": "8569558a-ca4a-4884-a193-abd6809c1e9d",
   "metadata": {
    "execution": {
     "iopub.execute_input": "2022-12-01T14:00:42.111658Z",
     "iopub.status.busy": "2022-12-01T14:00:42.111373Z",
     "iopub.status.idle": "2022-12-01T14:00:42.118348Z",
     "shell.execute_reply": "2022-12-01T14:00:42.117651Z",
     "shell.execute_reply.started": "2022-12-01T14:00:42.111628Z"
    },
    "tags": []
   },
   "outputs": [
    {
     "data": {
      "text/plain": [
       "206152"
      ]
     },
     "execution_count": 57,
     "metadata": {},
     "output_type": "execute_result"
    }
   ],
   "source": [
    "sum(np.partition(find_elf_calories(Path(\"input.txt\").read_text()), -3)[-3:])"
   ]
  }
 ],
 "metadata": {
  "kernelspec": {
   "display_name": "Python [conda env:soph]",
   "language": "python",
   "name": "conda-env-soph-py"
  },
  "language_info": {
   "codemirror_mode": {
    "name": "ipython",
    "version": 3
   },
   "file_extension": ".py",
   "mimetype": "text/x-python",
   "name": "python",
   "nbconvert_exporter": "python",
   "pygments_lexer": "ipython3",
   "version": "3.9.10"
  }
 },
 "nbformat": 4,
 "nbformat_minor": 5
}

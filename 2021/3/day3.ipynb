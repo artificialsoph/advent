{
 "cells": [
  {
   "cell_type": "code",
   "execution_count": 1,
   "id": "53625f36-d6cc-4eec-97c0-3558812f4d65",
   "metadata": {},
   "outputs": [],
   "source": [
    "from pathlib import Path\n",
    "\n",
    "import numpy as np"
   ]
  },
  {
   "cell_type": "code",
   "execution_count": 4,
   "id": "ecb6868e-e7c7-46ed-9919-54a1e58ee262",
   "metadata": {},
   "outputs": [
    {
     "data": {
      "text/plain": [
       "['011110011110',\n",
       " '101101001111',\n",
       " '000000010101',\n",
       " '100111001010',\n",
       " '110000011010',\n",
       " '011101010101',\n",
       " '011110001100',\n",
       " '010111111001',\n",
       " '111011100101',\n",
       " '011110000110']"
      ]
     },
     "execution_count": 4,
     "metadata": {},
     "output_type": "execute_result"
    }
   ],
   "source": [
    "input_text = Path(\"input.txt\").read_text()\n",
    "input_text.split()[:10]"
   ]
  },
  {
   "cell_type": "code",
   "execution_count": 5,
   "id": "1075b0e6-610b-4c94-b4a2-387dc4be3601",
   "metadata": {},
   "outputs": [],
   "source": [
    "input_nested_list = [[int(i) for i in row] for row in input_text.split()]"
   ]
  },
  {
   "cell_type": "code",
   "execution_count": 10,
   "id": "1762abba-7446-4a9a-8951-2c79a303ed76",
   "metadata": {},
   "outputs": [
    {
     "data": {
      "text/plain": [
       "(1000, 12)"
      ]
     },
     "execution_count": 10,
     "metadata": {},
     "output_type": "execute_result"
    }
   ],
   "source": [
    "input_arr = np.array(input_nested_list)\n",
    "\n",
    "input_arr.shape"
   ]
  },
  {
   "cell_type": "code",
   "execution_count": 14,
   "id": "7a1b8014-79b9-42f5-8546-c2a1f71ceae6",
   "metadata": {},
   "outputs": [
    {
     "data": {
      "text/plain": [
       "array([0, 0, 0, 0, 1, 1, 0, 0, 0, 1, 1, 1])"
      ]
     },
     "execution_count": 14,
     "metadata": {},
     "output_type": "execute_result"
    }
   ],
   "source": [
    "gamma_arr = np.array(np.sum(input_arr, axis=0) > 500, dtype=int)\n",
    "gamma_arr"
   ]
  },
  {
   "cell_type": "code",
   "execution_count": 26,
   "id": "5d1e544f-0a0e-4787-aa5b-12f4f7b93277",
   "metadata": {},
   "outputs": [],
   "source": [
    "def bin_arr_2_int(bin_arr):\n",
    "    \"\"\"\n",
    "    convert array of 1s and 0s to integer equivalent of binary representation\n",
    "    \"\"\"\n",
    "    \n",
    "    return int(\"\".join([str(i) for i in bin_arr]), 2)"
   ]
  },
  {
   "cell_type": "code",
   "execution_count": 27,
   "id": "5d6ba58d-9456-4f40-a459-2fb44c14a966",
   "metadata": {},
   "outputs": [
    {
     "data": {
      "text/plain": [
       "199"
      ]
     },
     "execution_count": 27,
     "metadata": {},
     "output_type": "execute_result"
    }
   ],
   "source": [
    "gamma = bin_arr_2_int(gamma_arr)\n",
    "gamma"
   ]
  },
  {
   "cell_type": "code",
   "execution_count": 28,
   "id": "b8d89781-21dd-40c1-9ba6-0d4d716c1331",
   "metadata": {},
   "outputs": [
    {
     "data": {
      "text/plain": [
       "3896"
      ]
     },
     "execution_count": 28,
     "metadata": {},
     "output_type": "execute_result"
    }
   ],
   "source": [
    "eps_arr = np.array(np.sum(input_arr, axis=0) <= 500, dtype=int)\n",
    "\n",
    "eps = bin_arr_2_int(eps_arr)\n",
    "\n",
    "eps"
   ]
  },
  {
   "cell_type": "code",
   "execution_count": 21,
   "id": "8ba23a6e-00ea-418c-ae91-f16a8f093484",
   "metadata": {},
   "outputs": [
    {
     "data": {
      "text/plain": [
       "775304"
      ]
     },
     "execution_count": 21,
     "metadata": {},
     "output_type": "execute_result"
    }
   ],
   "source": [
    "gamma*eps"
   ]
  },
  {
   "cell_type": "markdown",
   "id": "10f07c27-6547-4773-b20e-5ef8c9639cb9",
   "metadata": {},
   "source": [
    "# Part 2"
   ]
  },
  {
   "cell_type": "code",
   "execution_count": 24,
   "id": "b705b3c3-7374-4c5d-80e9-73b51ca59098",
   "metadata": {},
   "outputs": [
    {
     "name": "stdout",
     "output_type": "stream",
     "text": [
      "Step 0\n",
      "Oxy shape (1000, 12)\n",
      "Oxy head [[0 1 1 1 1 0 0 1 1 1 1 0]\n",
      " [1 0 1 1 0 1 0 0 1 1 1 1]\n",
      " [0 0 0 0 0 0 0 1 0 1 0 1]\n",
      " [1 0 0 1 1 1 0 0 1 0 1 0]\n",
      " [1 1 0 0 0 0 0 1 1 0 1 0]\n",
      " [0 1 1 1 0 1 0 1 0 1 0 1]\n",
      " [0 1 1 1 1 0 0 0 1 1 0 0]\n",
      " [0 1 0 1 1 1 1 1 1 0 0 1]\n",
      " [1 1 1 0 1 1 1 0 0 1 0 1]\n",
      " [0 1 1 1 1 0 0 0 0 1 1 0]]\n",
      "Most Common Bit Value 0\n",
      "Step 1\n",
      "Oxy shape (506, 12)\n",
      "Oxy head [[0 1 1 1 1 0 0 1 1 1 1 0]\n",
      " [0 0 0 0 0 0 0 1 0 1 0 1]\n",
      " [0 1 1 1 0 1 0 1 0 1 0 1]\n",
      " [0 1 1 1 1 0 0 0 1 1 0 0]\n",
      " [0 1 0 1 1 1 1 1 1 0 0 1]\n",
      " [0 1 1 1 1 0 0 0 0 1 1 0]\n",
      " [0 1 0 1 0 0 0 0 1 1 1 1]\n",
      " [0 0 0 0 0 1 0 0 1 1 0 0]\n",
      " [0 0 1 0 0 0 1 0 0 1 0 1]\n",
      " [0 1 0 1 0 0 0 1 1 1 1 0]]\n",
      "Most Common Bit Value 0\n",
      "Step 2\n",
      "Oxy shape (262, 12)\n",
      "Oxy head [[0 0 0 0 0 0 0 1 0 1 0 1]\n",
      " [0 0 0 0 0 1 0 0 1 1 0 0]\n",
      " [0 0 1 0 0 0 1 0 0 1 0 1]\n",
      " [0 0 0 0 1 1 0 1 0 1 0 1]\n",
      " [0 0 0 1 1 1 0 1 0 0 1 1]\n",
      " [0 0 1 0 0 0 0 1 0 0 0 1]\n",
      " [0 0 1 1 1 0 0 1 1 1 1 0]\n",
      " [0 0 1 1 1 1 1 0 1 1 0 1]\n",
      " [0 0 0 1 0 1 1 0 1 0 0 0]\n",
      " [0 0 0 0 0 1 0 1 0 1 0 0]]\n",
      "Most Common Bit Value 0\n",
      "Step 3\n",
      "Oxy shape (137, 12)\n",
      "Oxy head [[0 0 0 0 0 0 0 1 0 1 0 1]\n",
      " [0 0 0 0 0 1 0 0 1 1 0 0]\n",
      " [0 0 0 0 1 1 0 1 0 1 0 1]\n",
      " [0 0 0 1 1 1 0 1 0 0 1 1]\n",
      " [0 0 0 1 0 1 1 0 1 0 0 0]\n",
      " [0 0 0 0 0 1 0 1 0 1 0 0]\n",
      " [0 0 0 1 0 0 1 0 0 1 0 0]\n",
      " [0 0 0 0 1 0 1 1 0 1 0 1]\n",
      " [0 0 0 1 1 1 1 0 0 0 1 1]\n",
      " [0 0 0 0 1 1 0 0 0 0 0 1]]\n",
      "Most Common Bit Value 1\n",
      "Step 4\n",
      "Oxy shape (74, 12)\n",
      "Oxy head [[0 0 0 1 1 1 0 1 0 0 1 1]\n",
      " [0 0 0 1 0 1 1 0 1 0 0 0]\n",
      " [0 0 0 1 0 0 1 0 0 1 0 0]\n",
      " [0 0 0 1 1 1 1 0 0 0 1 1]\n",
      " [0 0 0 1 1 0 0 0 1 0 0 1]\n",
      " [0 0 0 1 0 0 0 0 1 0 0 1]\n",
      " [0 0 0 1 1 0 1 0 1 1 1 0]\n",
      " [0 0 0 1 0 0 1 1 0 0 0 0]\n",
      " [0 0 0 1 1 0 1 1 0 0 0 1]\n",
      " [0 0 0 1 1 1 1 1 1 1 1 1]]\n",
      "Most Common Bit Value 1\n",
      "Step 5\n",
      "Oxy shape (40, 12)\n",
      "Oxy head [[0 0 0 1 1 1 0 1 0 0 1 1]\n",
      " [0 0 0 1 1 1 1 0 0 0 1 1]\n",
      " [0 0 0 1 1 0 0 0 1 0 0 1]\n",
      " [0 0 0 1 1 0 1 0 1 1 1 0]\n",
      " [0 0 0 1 1 0 1 1 0 0 0 1]\n",
      " [0 0 0 1 1 1 1 1 1 1 1 1]\n",
      " [0 0 0 1 1 0 0 1 0 1 1 1]\n",
      " [0 0 0 1 1 1 1 1 1 0 1 1]\n",
      " [0 0 0 1 1 1 1 0 1 1 1 1]\n",
      " [0 0 0 1 1 1 0 1 0 1 0 0]]\n",
      "Most Common Bit Value 1\n",
      "Step 6\n",
      "Oxy shape (26, 12)\n",
      "Oxy head [[0 0 0 1 1 1 0 1 0 0 1 1]\n",
      " [0 0 0 1 1 1 1 0 0 0 1 1]\n",
      " [0 0 0 1 1 1 1 1 1 1 1 1]\n",
      " [0 0 0 1 1 1 1 1 1 0 1 1]\n",
      " [0 0 0 1 1 1 1 0 1 1 1 1]\n",
      " [0 0 0 1 1 1 0 1 0 1 0 0]\n",
      " [0 0 0 1 1 1 0 0 0 0 0 1]\n",
      " [0 0 0 1 1 1 1 1 0 0 0 0]\n",
      " [0 0 0 1 1 1 1 0 1 1 0 0]\n",
      " [0 0 0 1 1 1 0 0 1 0 0 1]]\n",
      "Most Common Bit Value 1\n",
      "Step 7\n",
      "Oxy shape (16, 12)\n",
      "Oxy head [[0 0 0 1 1 1 1 0 0 0 1 1]\n",
      " [0 0 0 1 1 1 1 1 1 1 1 1]\n",
      " [0 0 0 1 1 1 1 1 1 0 1 1]\n",
      " [0 0 0 1 1 1 1 0 1 1 1 1]\n",
      " [0 0 0 1 1 1 1 1 0 0 0 0]\n",
      " [0 0 0 1 1 1 1 0 1 1 0 0]\n",
      " [0 0 0 1 1 1 1 0 0 1 0 1]\n",
      " [0 0 0 1 1 1 1 1 1 1 0 0]\n",
      " [0 0 0 1 1 1 1 1 0 1 1 1]\n",
      " [0 0 0 1 1 1 1 1 0 0 1 1]]\n",
      "Most Common Bit Value 1\n",
      "Step 8\n",
      "Oxy shape (10, 12)\n",
      "Oxy head [[0 0 0 1 1 1 1 1 1 1 1 1]\n",
      " [0 0 0 1 1 1 1 1 1 0 1 1]\n",
      " [0 0 0 1 1 1 1 1 0 0 0 0]\n",
      " [0 0 0 1 1 1 1 1 1 1 0 0]\n",
      " [0 0 0 1 1 1 1 1 0 1 1 1]\n",
      " [0 0 0 1 1 1 1 1 0 0 1 1]\n",
      " [0 0 0 1 1 1 1 1 1 1 0 1]\n",
      " [0 0 0 1 1 1 1 1 0 1 1 0]\n",
      " [0 0 0 1 1 1 1 1 1 0 1 0]\n",
      " [0 0 0 1 1 1 1 1 0 1 0 1]]\n",
      "Most Common Bit Value 1\n",
      "Step 9\n",
      "Oxy shape (5, 12)\n",
      "Oxy head [[0 0 0 1 1 1 1 1 1 1 1 1]\n",
      " [0 0 0 1 1 1 1 1 1 0 1 1]\n",
      " [0 0 0 1 1 1 1 1 1 1 0 0]\n",
      " [0 0 0 1 1 1 1 1 1 1 0 1]\n",
      " [0 0 0 1 1 1 1 1 1 0 1 0]]\n",
      "Most Common Bit Value 1\n",
      "Step 10\n",
      "Oxy shape (3, 12)\n",
      "Oxy head [[0 0 0 1 1 1 1 1 1 1 1 1]\n",
      " [0 0 0 1 1 1 1 1 1 1 0 0]\n",
      " [0 0 0 1 1 1 1 1 1 1 0 1]]\n",
      "Most Common Bit Value 0\n",
      "Step 11\n",
      "Oxy shape (2, 12)\n",
      "Oxy head [[0 0 0 1 1 1 1 1 1 1 0 0]\n",
      " [0 0 0 1 1 1 1 1 1 1 0 1]]\n",
      "Most Common Bit Value 1\n"
     ]
    }
   ],
   "source": [
    "oxy_arr = input_arr\n",
    "\n",
    "for i in range(oxy_arr.shape[1]):\n",
    "    \n",
    "    print(f\"Step {i}\")\n",
    "    \n",
    "    print(\"Oxy shape\", oxy_arr.shape)\n",
    "    print(\"Oxy head\", oxy_arr[:10, :])\n",
    "    \n",
    "    most_common_bit_value = int(sum(oxy_arr[:,i]) >= oxy_arr.shape[0]/2)\n",
    "    \n",
    "    print(\"Most Common Bit Value\" , most_common_bit_value)\n",
    "    \n",
    "    oxy_arr = oxy_arr[ oxy_arr[:,i] == most_common_bit_value, :]"
   ]
  },
  {
   "cell_type": "code",
   "execution_count": 35,
   "id": "8b8d316c-54e6-4cc6-b107-c895ee232f2e",
   "metadata": {},
   "outputs": [
    {
     "data": {
      "text/plain": [
       "509"
      ]
     },
     "execution_count": 35,
     "metadata": {},
     "output_type": "execute_result"
    }
   ],
   "source": [
    "oxy = bin_arr_2_int(oxy_arr.flat)\n",
    "oxy"
   ]
  },
  {
   "cell_type": "code",
   "execution_count": 41,
   "id": "9fe01cc0-b12a-4c7f-8c6d-55b4c4b843f0",
   "metadata": {},
   "outputs": [
    {
     "name": "stdout",
     "output_type": "stream",
     "text": [
      "Step 0\n",
      "co2 shape (1000, 12)\n",
      "co2 head\n",
      " [[0 1 1 1 1 0 0 1 1 1 1 0]\n",
      " [1 0 1 1 0 1 0 0 1 1 1 1]\n",
      " [0 0 0 0 0 0 0 1 0 1 0 1]\n",
      " [1 0 0 1 1 1 0 0 1 0 1 0]\n",
      " [1 1 0 0 0 0 0 1 1 0 1 0]\n",
      " [0 1 1 1 0 1 0 1 0 1 0 1]\n",
      " [0 1 1 1 1 0 0 0 1 1 0 0]\n",
      " [0 1 0 1 1 1 1 1 1 0 0 1]\n",
      " [1 1 1 0 1 1 1 0 0 1 0 1]\n",
      " [0 1 1 1 1 0 0 0 0 1 1 0]]\n",
      "Least Common Bit Value 1\n",
      "Step 1\n",
      "co2 shape (494, 12)\n",
      "co2 head\n",
      " [[1 0 1 1 0 1 0 0 1 1 1 1]\n",
      " [1 0 0 1 1 1 0 0 1 0 1 0]\n",
      " [1 1 0 0 0 0 0 1 1 0 1 0]\n",
      " [1 1 1 0 1 1 1 0 0 1 0 1]\n",
      " [1 1 0 0 0 1 0 0 1 0 0 0]\n",
      " [1 1 0 1 0 1 0 0 1 1 1 1]\n",
      " [1 0 0 1 1 1 0 1 1 1 0 0]\n",
      " [1 1 1 0 0 1 0 0 0 1 1 1]\n",
      " [1 0 0 1 0 1 1 1 1 1 1 1]\n",
      " [1 1 0 0 1 0 1 0 1 1 0 0]]\n",
      "Least Common Bit Value 0\n",
      "Step 2\n",
      "co2 shape (240, 12)\n",
      "co2 head\n",
      " [[1 0 1 1 0 1 0 0 1 1 1 1]\n",
      " [1 0 0 1 1 1 0 0 1 0 1 0]\n",
      " [1 0 0 1 1 1 0 1 1 1 0 0]\n",
      " [1 0 0 1 0 1 1 1 1 1 1 1]\n",
      " [1 0 1 1 1 0 0 0 1 0 1 1]\n",
      " [1 0 0 1 1 0 0 0 0 1 1 1]\n",
      " [1 0 1 0 0 0 0 0 1 0 1 1]\n",
      " [1 0 1 0 0 0 1 0 0 1 1 0]\n",
      " [1 0 0 0 0 1 0 0 0 1 1 1]\n",
      " [1 0 1 1 0 1 1 0 0 0 0 1]]\n",
      "Least Common Bit Value 1\n",
      "Step 3\n",
      "co2 shape (110, 12)\n",
      "co2 head\n",
      " [[1 0 1 1 0 1 0 0 1 1 1 1]\n",
      " [1 0 1 1 1 0 0 0 1 0 1 1]\n",
      " [1 0 1 0 0 0 0 0 1 0 1 1]\n",
      " [1 0 1 0 0 0 1 0 0 1 1 0]\n",
      " [1 0 1 1 0 1 1 0 0 0 0 1]\n",
      " [1 0 1 1 1 0 1 0 0 0 1 0]\n",
      " [1 0 1 0 0 0 0 0 0 0 1 1]\n",
      " [1 0 1 0 1 0 1 1 0 1 1 1]\n",
      " [1 0 1 0 0 1 0 0 0 0 1 0]\n",
      " [1 0 1 1 1 0 0 0 1 0 0 0]]\n",
      "Least Common Bit Value 0\n",
      "Step 4\n",
      "co2 shape (54, 12)\n",
      "co2 head\n",
      " [[1 0 1 0 0 0 0 0 1 0 1 1]\n",
      " [1 0 1 0 0 0 1 0 0 1 1 0]\n",
      " [1 0 1 0 0 0 0 0 0 0 1 1]\n",
      " [1 0 1 0 1 0 1 1 0 1 1 1]\n",
      " [1 0 1 0 0 1 0 0 0 0 1 0]\n",
      " [1 0 1 0 0 1 0 0 0 1 1 1]\n",
      " [1 0 1 0 0 0 1 1 0 1 0 0]\n",
      " [1 0 1 0 1 0 0 1 0 0 1 0]\n",
      " [1 0 1 0 0 0 1 0 1 0 1 1]\n",
      " [1 0 1 0 1 1 0 1 0 1 1 1]]\n",
      "Least Common Bit Value 1\n",
      "Step 5\n",
      "co2 shape (24, 12)\n",
      "co2 head\n",
      " [[1 0 1 0 1 0 1 1 0 1 1 1]\n",
      " [1 0 1 0 1 0 0 1 0 0 1 0]\n",
      " [1 0 1 0 1 1 0 1 0 1 1 1]\n",
      " [1 0 1 0 1 0 0 1 1 0 1 1]\n",
      " [1 0 1 0 1 0 1 0 0 0 0 1]\n",
      " [1 0 1 0 1 1 0 1 1 0 1 1]\n",
      " [1 0 1 0 1 0 1 0 0 1 0 1]\n",
      " [1 0 1 0 1 0 1 1 0 1 0 1]\n",
      " [1 0 1 0 1 1 1 0 1 1 1 1]\n",
      " [1 0 1 0 1 1 0 0 0 0 0 0]]\n",
      "Least Common Bit Value 0\n",
      "Step 6\n",
      "co2 shape (11, 12)\n",
      "co2 head\n",
      " [[1 0 1 0 1 0 1 1 0 1 1 1]\n",
      " [1 0 1 0 1 0 0 1 0 0 1 0]\n",
      " [1 0 1 0 1 0 0 1 1 0 1 1]\n",
      " [1 0 1 0 1 0 1 0 0 0 0 1]\n",
      " [1 0 1 0 1 0 1 0 0 1 0 1]\n",
      " [1 0 1 0 1 0 1 1 0 1 0 1]\n",
      " [1 0 1 0 1 0 0 0 0 1 0 1]\n",
      " [1 0 1 0 1 0 1 0 0 1 1 1]\n",
      " [1 0 1 0 1 0 0 0 1 1 1 0]\n",
      " [1 0 1 0 1 0 1 0 1 0 1 0]]\n",
      "Least Common Bit Value 0\n",
      "Step 7\n",
      "co2 shape (4, 12)\n",
      "co2 head\n",
      " [[1 0 1 0 1 0 0 1 0 0 1 0]\n",
      " [1 0 1 0 1 0 0 1 1 0 1 1]\n",
      " [1 0 1 0 1 0 0 0 0 1 0 1]\n",
      " [1 0 1 0 1 0 0 0 1 1 1 0]]\n",
      "Least Common Bit Value 0\n",
      "Step 8\n",
      "co2 shape (2, 12)\n",
      "co2 head\n",
      " [[1 0 1 0 1 0 0 0 0 1 0 1]\n",
      " [1 0 1 0 1 0 0 0 1 1 1 0]]\n",
      "Least Common Bit Value 0\n",
      "Step 9\n",
      "co2 shape (1, 12)\n",
      "co2 head\n",
      " [[1 0 1 0 1 0 0 0 0 1 0 1]]\n"
     ]
    }
   ],
   "source": [
    "co2_arr = input_arr\n",
    "\n",
    "for i in range(co2_arr.shape[1]):\n",
    "    \n",
    "    print(f\"Step {i}\")\n",
    "    \n",
    "    print(\"co2 shape\", co2_arr.shape)\n",
    "    print(\"co2 head\\n\", co2_arr[:10, :])\n",
    "    \n",
    "    if co2_arr.shape[0] == 1:\n",
    "        break\n",
    "    \n",
    "    least_common_bit_value = int(sum(co2_arr[:,i]) < co2_arr.shape[0]/2)\n",
    "    \n",
    "    print(\"Least Common Bit Value\" , least_common_bit_value)\n",
    "    \n",
    "    co2_arr = co2_arr[ co2_arr[:,i] == least_common_bit_value, :]\n",
    "    \n",
    "    "
   ]
  },
  {
   "cell_type": "code",
   "execution_count": 42,
   "id": "7f8306dc-235c-4f77-a826-563e6f860675",
   "metadata": {},
   "outputs": [
    {
     "data": {
      "text/plain": [
       "array([[1, 0, 1, 0, 1, 0, 0, 0, 0, 1, 0, 1]])"
      ]
     },
     "execution_count": 42,
     "metadata": {},
     "output_type": "execute_result"
    }
   ],
   "source": [
    "co2_arr"
   ]
  },
  {
   "cell_type": "code",
   "execution_count": 43,
   "id": "b73d59c4-b33a-45ff-acf5-97322656df61",
   "metadata": {},
   "outputs": [
    {
     "data": {
      "text/plain": [
       "2693"
      ]
     },
     "execution_count": 43,
     "metadata": {},
     "output_type": "execute_result"
    }
   ],
   "source": [
    "co2 = bin_arr_2_int(co2_arr.flat)\n",
    "co2"
   ]
  },
  {
   "cell_type": "code",
   "execution_count": 44,
   "id": "2d52eba9-251d-42fd-9c44-6e6aee03a60b",
   "metadata": {},
   "outputs": [
    {
     "data": {
      "text/plain": [
       "1370737"
      ]
     },
     "execution_count": 44,
     "metadata": {},
     "output_type": "execute_result"
    }
   ],
   "source": [
    "co2*oxy"
   ]
  },
  {
   "cell_type": "code",
   "execution_count": null,
   "id": "01853d53-957f-4dcc-8b94-7eb2abd8b097",
   "metadata": {},
   "outputs": [],
   "source": []
  }
 ],
 "metadata": {
  "kernelspec": {
   "display_name": "Python [conda env:ds]",
   "language": "python",
   "name": "conda-env-ds-py"
  },
  "language_info": {
   "codemirror_mode": {
    "name": "ipython",
    "version": 3
   },
   "file_extension": ".py",
   "mimetype": "text/x-python",
   "name": "python",
   "nbconvert_exporter": "python",
   "pygments_lexer": "ipython3",
   "version": "3.9.7"
  }
 },
 "nbformat": 4,
 "nbformat_minor": 5
}

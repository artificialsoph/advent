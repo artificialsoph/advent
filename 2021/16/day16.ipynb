{
 "cells": [
  {
   "cell_type": "code",
   "execution_count": 73,
   "id": "4a5b5d3d-8c4e-4e03-806a-7418f22effbc",
   "metadata": {
    "execution": {
     "iopub.execute_input": "2021-12-16T17:15:28.285502Z",
     "iopub.status.busy": "2021-12-16T17:15:28.285244Z",
     "iopub.status.idle": "2021-12-16T17:15:28.289060Z",
     "shell.execute_reply": "2021-12-16T17:15:28.288096Z",
     "shell.execute_reply.started": "2021-12-16T17:15:28.285476Z"
    }
   },
   "outputs": [],
   "source": [
    "from pathlib import Path"
   ]
  },
  {
   "cell_type": "code",
   "execution_count": 74,
   "id": "7aaa6848-8d04-4950-9b80-7aeb28f818b5",
   "metadata": {
    "execution": {
     "iopub.execute_input": "2021-12-16T17:15:45.664762Z",
     "iopub.status.busy": "2021-12-16T17:15:45.664497Z",
     "iopub.status.idle": "2021-12-16T17:15:45.669066Z",
     "shell.execute_reply": "2021-12-16T17:15:45.668443Z",
     "shell.execute_reply.started": "2021-12-16T17:15:45.664735Z"
    },
    "tags": []
   },
   "outputs": [],
   "source": [
    "test_text = \"8A004A801A8002F478\"\n",
    "input_text = Path(\"input.txt\").read_text()"
   ]
  },
  {
   "cell_type": "code",
   "execution_count": 20,
   "id": "21a5f720-dc53-4635-b6d9-9f8ce95d2a6d",
   "metadata": {
    "execution": {
     "iopub.execute_input": "2021-12-16T16:16:25.016745Z",
     "iopub.status.busy": "2021-12-16T16:16:25.016485Z",
     "iopub.status.idle": "2021-12-16T16:16:25.021794Z",
     "shell.execute_reply": "2021-12-16T16:16:25.020770Z",
     "shell.execute_reply.started": "2021-12-16T16:16:25.016717Z"
    },
    "tags": []
   },
   "outputs": [],
   "source": [
    "def hex2bin(hex_str):\n",
    "    return \"\".join([format(int(c, 16), \"04b\") for c in hex_str])\n",
    "\n",
    "\n",
    "assert hex2bin(\"D2FE28\") == \"110100101111111000101000\"\n",
    "assert (\n",
    "    hex2bin(\"38006F45291200\")\n",
    "    == \"00111000000000000110111101000101001010010001001000000000\"\n",
    ")\n",
    "assert (\n",
    "    hex2bin(\"EE00D40C823060\")\n",
    "    == \"11101110000000001101010000001100100000100011000001100000\"\n",
    ")"
   ]
  },
  {
   "cell_type": "code",
   "execution_count": 97,
   "id": "345fb284-d3b6-4e65-9c4c-752456cb149f",
   "metadata": {
    "execution": {
     "iopub.execute_input": "2021-12-16T19:40:13.615403Z",
     "iopub.status.busy": "2021-12-16T19:40:13.615090Z",
     "iopub.status.idle": "2021-12-16T19:40:13.620518Z",
     "shell.execute_reply": "2021-12-16T19:40:13.619775Z",
     "shell.execute_reply.started": "2021-12-16T19:40:13.615376Z"
    },
    "tags": []
   },
   "outputs": [
    {
     "data": {
      "text/plain": [
       "True"
      ]
     },
     "execution_count": 97,
     "metadata": {},
     "output_type": "execute_result"
    }
   ],
   "source": [
    "type(\"test\") == str"
   ]
  },
  {
   "cell_type": "code",
   "execution_count": 61,
   "id": "57e34b4e-bffe-4b17-88b3-f62aca8fd45c",
   "metadata": {
    "execution": {
     "iopub.execute_input": "2021-12-16T17:07:32.111958Z",
     "iopub.status.busy": "2021-12-16T17:07:32.111707Z",
     "iopub.status.idle": "2021-12-16T17:07:32.120931Z",
     "shell.execute_reply": "2021-12-16T17:07:32.120221Z",
     "shell.execute_reply.started": "2021-12-16T17:07:32.111934Z"
    },
    "tags": []
   },
   "outputs": [],
   "source": [
    "def interpret_packet(packet):\n",
    "    \n",
    "    if type(packet) == str\n",
    "    \n",
    "    packet_dict = dict(packet_bin = packet_bin)\n",
    "\n",
    "    version = int(packet_bin[:3], 2)\n",
    "    type_id = int(packet_bin[3:6], 2)\n",
    "\n",
    "    packet_bin = packet_bin[6:]\n",
    "\n",
    "    packet_dict = {}\n",
    "    packet_dict[\"version\"] = version\n",
    "    packet_dict[\"type_id\"] = type_id\n",
    "\n",
    "    if type_id == 4:\n",
    "\n",
    "        number = \"\"\n",
    "        keep_reading = True\n",
    "\n",
    "        while keep_reading:\n",
    "\n",
    "            number += packet_bin[1:5]\n",
    "            keep_reading = packet_bin[0] == \"1\"\n",
    "\n",
    "            packet_bin = packet_bin[5:]\n",
    "\n",
    "        literal = int(number, 2)\n",
    "        packet_dict[\"literal\"] = literal\n",
    "\n",
    "        return packet_dict, packet_bin\n",
    "\n",
    "    else:\n",
    "\n",
    "        length_type_id = packet_bin[0]\n",
    "        packet_dict[\"length_type_id\"] = length_type_id\n",
    "\n",
    "        if length_type_id == \"0\":\n",
    "\n",
    "            sub_packet_length = int(packet_bin[1:16], 2)\n",
    "            packet_dict[\"sub_packet_length\"] = sub_packet_length\n",
    "\n",
    "            sub_packets = []\n",
    "\n",
    "            sub_packet_bin = packet_bin[16 : 16 + sub_packet_length]\n",
    "            packet_bin = packet_bin[16 + sub_packet_length :]\n",
    "\n",
    "            while sub_packet_bin:\n",
    "\n",
    "                sub_packet, sub_packet_bin = interpret_bin_packet(sub_packet_bin)\n",
    "                sub_packets.append(sub_packet)\n",
    "\n",
    "            packet_dict[\"sub_packets\"] = sub_packets\n",
    "\n",
    "            return packet_dict, packet_bin\n",
    "\n",
    "        if length_type_id == \"1\":\n",
    "\n",
    "            n_sub_packets = int(packet_bin[1:12], 2)\n",
    "            packet_dict[\"n_sub_packets\"] = n_sub_packets\n",
    "\n",
    "            sub_packets = []\n",
    "\n",
    "            packet_bin = packet_bin[12:]\n",
    "\n",
    "            for i in range(n_sub_packets):\n",
    "\n",
    "                sub_packet, packet_bin = interpret_bin_packet(packet_bin)\n",
    "                sub_packets.append(sub_packet)\n",
    "\n",
    "            packet_dict[\"sub_packets\"] = sub_packets\n",
    "\n",
    "            return packet_dict, packet_bin"
   ]
  },
  {
   "cell_type": "code",
   "execution_count": 63,
   "id": "7209f471-9917-4c6d-8925-76f9847c3ace",
   "metadata": {
    "execution": {
     "iopub.execute_input": "2021-12-16T17:10:59.088185Z",
     "iopub.status.busy": "2021-12-16T17:10:59.087931Z",
     "iopub.status.idle": "2021-12-16T17:10:59.093091Z",
     "shell.execute_reply": "2021-12-16T17:10:59.092297Z",
     "shell.execute_reply.started": "2021-12-16T17:10:59.088161Z"
    }
   },
   "outputs": [],
   "source": [
    "def find_version_sum(packet):\n",
    "\n",
    "    version_sum = packet[\"version\"]\n",
    "\n",
    "    if \"sub_packets\" in packet:\n",
    "\n",
    "        for sub_packet in packet[\"sub_packets\"]:\n",
    "\n",
    "            version_sum += find_version_sum(sub_packet)\n",
    "\n",
    "    return version_sum"
   ]
  },
  {
   "cell_type": "code",
   "execution_count": 60,
   "id": "103d5c1d-c44c-44b1-9b3a-1530c3805d7e",
   "metadata": {
    "execution": {
     "iopub.execute_input": "2021-12-16T17:06:39.900862Z",
     "iopub.status.busy": "2021-12-16T17:06:39.900597Z",
     "iopub.status.idle": "2021-12-16T17:06:39.905632Z",
     "shell.execute_reply": "2021-12-16T17:06:39.905085Z",
     "shell.execute_reply.started": "2021-12-16T17:06:39.900835Z"
    },
    "tags": []
   },
   "outputs": [
    {
     "data": {
      "text/plain": [
       "({'version': 1,\n",
       "  'type_id': 6,\n",
       "  'length_type_id': '0',\n",
       "  'sub_packet_length': 27,\n",
       "  'sub_packets': [{'version': 6, 'type_id': 4, 'literal': 10},\n",
       "   {'version': 2, 'type_id': 4, 'literal': 20}]},\n",
       " '0000000')"
      ]
     },
     "execution_count": 60,
     "metadata": {},
     "output_type": "execute_result"
    }
   ],
   "source": [
    "interpret_bin_packet(hex2bin(\"38006F45291200\"))"
   ]
  },
  {
   "cell_type": "code",
   "execution_count": 62,
   "id": "ede8536c-131f-487e-9d27-235de424aa43",
   "metadata": {
    "execution": {
     "iopub.execute_input": "2021-12-16T17:07:44.349726Z",
     "iopub.status.busy": "2021-12-16T17:07:44.349200Z",
     "iopub.status.idle": "2021-12-16T17:07:44.354960Z",
     "shell.execute_reply": "2021-12-16T17:07:44.354165Z",
     "shell.execute_reply.started": "2021-12-16T17:07:44.349697Z"
    }
   },
   "outputs": [
    {
     "data": {
      "text/plain": [
       "({'version': 7,\n",
       "  'type_id': 3,\n",
       "  'length_type_id': '1',\n",
       "  'n_sub_packets': 3,\n",
       "  'sub_packets': [{'version': 2, 'type_id': 4, 'literal': 1},\n",
       "   {'version': 4, 'type_id': 4, 'literal': 2},\n",
       "   {'version': 1, 'type_id': 4, 'literal': 3}]},\n",
       " '00000')"
      ]
     },
     "execution_count": 62,
     "metadata": {},
     "output_type": "execute_result"
    }
   ],
   "source": [
    "interpret_bin_packet(hex2bin(\"EE00D40C823060\"))"
   ]
  },
  {
   "cell_type": "code",
   "execution_count": 64,
   "id": "f8c2e5e9-71f3-49bb-a6aa-b92c53715d50",
   "metadata": {
    "execution": {
     "iopub.execute_input": "2021-12-16T17:11:26.869135Z",
     "iopub.status.busy": "2021-12-16T17:11:26.868803Z",
     "iopub.status.idle": "2021-12-16T17:11:26.874624Z",
     "shell.execute_reply": "2021-12-16T17:11:26.873879Z",
     "shell.execute_reply.started": "2021-12-16T17:11:26.869104Z"
    }
   },
   "outputs": [
    {
     "data": {
      "text/plain": [
       "({'version': 4,\n",
       "  'type_id': 2,\n",
       "  'length_type_id': '1',\n",
       "  'n_sub_packets': 1,\n",
       "  'sub_packets': [{'version': 1,\n",
       "    'type_id': 2,\n",
       "    'length_type_id': '1',\n",
       "    'n_sub_packets': 1,\n",
       "    'sub_packets': [{'version': 5,\n",
       "      'type_id': 2,\n",
       "      'length_type_id': '0',\n",
       "      'sub_packet_length': 11,\n",
       "      'sub_packets': [{'version': 6, 'type_id': 4, 'literal': 15}]}]}]},\n",
       " '000')"
      ]
     },
     "execution_count": 64,
     "metadata": {},
     "output_type": "execute_result"
    }
   ],
   "source": [
    "interpret_bin_packet(hex2bin(\"8A004A801A8002F478\"))"
   ]
  },
  {
   "cell_type": "code",
   "execution_count": 70,
   "id": "ddee2c78-f0ab-4578-a95a-e55d6cdde7ef",
   "metadata": {
    "execution": {
     "iopub.execute_input": "2021-12-16T17:14:10.525051Z",
     "iopub.status.busy": "2021-12-16T17:14:10.524834Z",
     "iopub.status.idle": "2021-12-16T17:14:10.529297Z",
     "shell.execute_reply": "2021-12-16T17:14:10.528557Z",
     "shell.execute_reply.started": "2021-12-16T17:14:10.525030Z"
    },
    "tags": []
   },
   "outputs": [
    {
     "data": {
      "text/plain": [
       "16"
      ]
     },
     "execution_count": 70,
     "metadata": {},
     "output_type": "execute_result"
    }
   ],
   "source": [
    "find_version_sum(interpret_bin_packet(hex2bin(\"8A004A801A8002F478\"))[0])"
   ]
  },
  {
   "cell_type": "code",
   "execution_count": 72,
   "id": "fa29d354-976a-42f8-814f-a84b7114a706",
   "metadata": {
    "execution": {
     "iopub.execute_input": "2021-12-16T17:15:00.902891Z",
     "iopub.status.busy": "2021-12-16T17:15:00.902680Z",
     "iopub.status.idle": "2021-12-16T17:15:00.906558Z",
     "shell.execute_reply": "2021-12-16T17:15:00.906010Z",
     "shell.execute_reply.started": "2021-12-16T17:15:00.902868Z"
    },
    "tags": []
   },
   "outputs": [],
   "source": [
    "def hex2sum(hex_packet):\n",
    "\n",
    "    return find_version_sum(interpret_bin_packet(hex2bin(hex_packet))[0])\n",
    "\n",
    "\n",
    "assert hex2sum(\"8A004A801A8002F478\") == 16\n",
    "assert hex2sum(\"620080001611562C8802118E34\") == 12\n",
    "assert hex2sum(\"C0015000016115A2E0802F182340\") == 23\n",
    "assert hex2sum(\"A0016C880162017C3686B18A3D4780\") == 31"
   ]
  },
  {
   "cell_type": "code",
   "execution_count": 75,
   "id": "20e650e4-5a04-499e-ac72-2091974cc2eb",
   "metadata": {
    "execution": {
     "iopub.execute_input": "2021-12-16T17:15:55.507124Z",
     "iopub.status.busy": "2021-12-16T17:15:55.506687Z",
     "iopub.status.idle": "2021-12-16T17:15:55.512818Z",
     "shell.execute_reply": "2021-12-16T17:15:55.512218Z",
     "shell.execute_reply.started": "2021-12-16T17:15:55.507097Z"
    },
    "tags": []
   },
   "outputs": [
    {
     "data": {
      "text/plain": [
       "923"
      ]
     },
     "execution_count": 75,
     "metadata": {},
     "output_type": "execute_result"
    }
   ],
   "source": [
    "hex2sum(input_text)"
   ]
  },
  {
   "cell_type": "markdown",
   "id": "6afa2565-a9e8-4fb1-b8bc-0f90493cd8b1",
   "metadata": {},
   "source": [
    "# Part 2"
   ]
  },
  {
   "cell_type": "code",
   "execution_count": 93,
   "id": "84becd6c-a8ba-476a-8999-b9b2b218b947",
   "metadata": {
    "execution": {
     "iopub.execute_input": "2021-12-16T17:30:23.287835Z",
     "iopub.status.busy": "2021-12-16T17:30:23.287584Z",
     "iopub.status.idle": "2021-12-16T17:30:23.298151Z",
     "shell.execute_reply": "2021-12-16T17:30:23.297464Z",
     "shell.execute_reply.started": "2021-12-16T17:30:23.287809Z"
    },
    "tags": []
   },
   "outputs": [],
   "source": [
    "def evaluate_packet(packet):\n",
    "\n",
    "    if packet[\"type_id\"] == 4:\n",
    "        return packet[\"literal\"]\n",
    "\n",
    "    if packet[\"type_id\"] == 0:\n",
    "        # sum\n",
    "\n",
    "        return sum(evaluate_packet(p) for p in packet[\"sub_packets\"])\n",
    "\n",
    "    if packet[\"type_id\"] == 1:\n",
    "        # prod\n",
    "\n",
    "        prod = 1\n",
    "\n",
    "        for p in packet[\"sub_packets\"]:\n",
    "            prod *= evaluate_packet(p)\n",
    "\n",
    "        return prod\n",
    "\n",
    "    if packet[\"type_id\"] == 2:\n",
    "        # min\n",
    "\n",
    "        return min(evaluate_packet(p) for p in packet[\"sub_packets\"])\n",
    "\n",
    "    if packet[\"type_id\"] == 3:\n",
    "        # max\n",
    "\n",
    "        return max(evaluate_packet(p) for p in packet[\"sub_packets\"])\n",
    "\n",
    "    if packet[\"type_id\"] == 5:\n",
    "        # gt\n",
    "\n",
    "        return int(\n",
    "            evaluate_packet(packet[\"sub_packets\"][0])\n",
    "            > evaluate_packet(packet[\"sub_packets\"][1])\n",
    "        )\n",
    "    \n",
    "    if packet[\"type_id\"] == 6:\n",
    "        # lt\n",
    "\n",
    "        return int(\n",
    "            evaluate_packet(packet[\"sub_packets\"][0])\n",
    "            < evaluate_packet(packet[\"sub_packets\"][1])\n",
    "        )\n",
    "    \n",
    "    if packet[\"type_id\"] == 7:\n",
    "        # eq\n",
    "\n",
    "        return int(\n",
    "            evaluate_packet(packet[\"sub_packets\"][0])\n",
    "            == evaluate_packet(packet[\"sub_packets\"][1])\n",
    "        )\n",
    "\n",
    "\n",
    "assert evaluate_packet(interpret_bin_packet(hex2bin(\"C200B40A82\"))[0]) == 3\n",
    "assert evaluate_packet(interpret_bin_packet(hex2bin(\"04005AC33890\"))[0]) == 54\n",
    "assert evaluate_packet(interpret_bin_packet(hex2bin(\"880086C3E88112\"))[0]) == 7\n",
    "assert evaluate_packet(interpret_bin_packet(hex2bin(\"CE00C43D881120\"))[0]) == 9\n",
    "assert evaluate_packet(interpret_bin_packet(hex2bin(\"D8005AC2A8F0\"))[0]) == 1\n",
    "assert evaluate_packet(interpret_bin_packet(hex2bin(\"F600BC2D8F\"))[0]) == 0\n",
    "assert evaluate_packet(interpret_bin_packet(hex2bin(\"9C005AC2F8F0\"))[0]) == 0\n",
    "assert evaluate_packet(interpret_bin_packet(hex2bin(\"9C0141080250320F1802104A08\"))[0]) == 1"
   ]
  },
  {
   "cell_type": "code",
   "execution_count": 94,
   "id": "c0442f11-852b-4b0a-9720-8b91557f55d2",
   "metadata": {
    "execution": {
     "iopub.execute_input": "2021-12-16T17:30:52.925404Z",
     "iopub.status.busy": "2021-12-16T17:30:52.925111Z",
     "iopub.status.idle": "2021-12-16T17:30:52.931658Z",
     "shell.execute_reply": "2021-12-16T17:30:52.931031Z",
     "shell.execute_reply.started": "2021-12-16T17:30:52.925376Z"
    },
    "tags": []
   },
   "outputs": [
    {
     "data": {
      "text/plain": [
       "258888628940"
      ]
     },
     "execution_count": 94,
     "metadata": {},
     "output_type": "execute_result"
    }
   ],
   "source": [
    "evaluate_packet(interpret_bin_packet(hex2bin(input_text))[0])"
   ]
  },
  {
   "cell_type": "code",
   "execution_count": 78,
   "id": "c1a8f2cc-268f-4857-8583-903ee4573aa8",
   "metadata": {
    "execution": {
     "iopub.execute_input": "2021-12-16T17:21:09.129486Z",
     "iopub.status.busy": "2021-12-16T17:21:09.129225Z",
     "iopub.status.idle": "2021-12-16T17:21:09.134366Z",
     "shell.execute_reply": "2021-12-16T17:21:09.133659Z",
     "shell.execute_reply.started": "2021-12-16T17:21:09.129460Z"
    },
    "tags": []
   },
   "outputs": [
    {
     "data": {
      "text/plain": [
       "({'version': 6,\n",
       "  'type_id': 0,\n",
       "  'length_type_id': '1',\n",
       "  'n_sub_packets': 2,\n",
       "  'sub_packets': [{'version': 6, 'type_id': 4, 'literal': 1},\n",
       "   {'version': 2, 'type_id': 4, 'literal': 2}]},\n",
       " '')"
      ]
     },
     "execution_count": 78,
     "metadata": {},
     "output_type": "execute_result"
    }
   ],
   "source": [
    "interpret_bin_packet(hex2bin(\"C200B40A82\"))"
   ]
  },
  {
   "cell_type": "code",
   "execution_count": 80,
   "id": "355de336-6c73-4c8a-8a2e-5e3cc418f8e3",
   "metadata": {
    "execution": {
     "iopub.execute_input": "2021-12-16T17:21:32.517498Z",
     "iopub.status.busy": "2021-12-16T17:21:32.517239Z",
     "iopub.status.idle": "2021-12-16T17:21:32.522238Z",
     "shell.execute_reply": "2021-12-16T17:21:32.521674Z",
     "shell.execute_reply.started": "2021-12-16T17:21:32.517469Z"
    },
    "tags": []
   },
   "outputs": [
    {
     "data": {
      "text/plain": [
       "3"
      ]
     },
     "execution_count": 80,
     "metadata": {},
     "output_type": "execute_result"
    }
   ],
   "source": [
    "evaluate_packet(interpret_bin_packet(hex2bin(\"C200B40A82\"))[0])"
   ]
  },
  {
   "cell_type": "code",
   "execution_count": 83,
   "id": "5589be7a-1364-459d-974a-ed6e81ed2c76",
   "metadata": {
    "execution": {
     "iopub.execute_input": "2021-12-16T17:24:11.643323Z",
     "iopub.status.busy": "2021-12-16T17:24:11.643059Z",
     "iopub.status.idle": "2021-12-16T17:24:11.648474Z",
     "shell.execute_reply": "2021-12-16T17:24:11.647432Z",
     "shell.execute_reply.started": "2021-12-16T17:24:11.643297Z"
    }
   },
   "outputs": [
    {
     "data": {
      "text/plain": [
       "54"
      ]
     },
     "execution_count": 83,
     "metadata": {},
     "output_type": "execute_result"
    }
   ],
   "source": [
    "evaluate_packet(interpret_bin_packet(hex2bin(\"04005AC33890\"))[0])"
   ]
  },
  {
   "cell_type": "code",
   "execution_count": 85,
   "id": "c36901f8-2180-4b77-a3c7-707aa7eaf2aa",
   "metadata": {
    "execution": {
     "iopub.execute_input": "2021-12-16T17:25:20.072380Z",
     "iopub.status.busy": "2021-12-16T17:25:20.072113Z",
     "iopub.status.idle": "2021-12-16T17:25:20.077292Z",
     "shell.execute_reply": "2021-12-16T17:25:20.076496Z",
     "shell.execute_reply.started": "2021-12-16T17:25:20.072346Z"
    }
   },
   "outputs": [
    {
     "data": {
      "text/plain": [
       "7"
      ]
     },
     "execution_count": 85,
     "metadata": {},
     "output_type": "execute_result"
    }
   ],
   "source": [
    "evaluate_packet(interpret_bin_packet(hex2bin(\"880086C3E88112\"))[0])"
   ]
  },
  {
   "cell_type": "code",
   "execution_count": null,
   "id": "a26fb3ad-e90c-4d87-80c0-75ae13d45b62",
   "metadata": {},
   "outputs": [],
   "source": []
  }
 ],
 "metadata": {
  "kernelspec": {
   "display_name": "Python [conda env:ds]",
   "language": "python",
   "name": "conda-env-ds-py"
  },
  "language_info": {
   "codemirror_mode": {
    "name": "ipython",
    "version": 3
   },
   "file_extension": ".py",
   "mimetype": "text/x-python",
   "name": "python",
   "nbconvert_exporter": "python",
   "pygments_lexer": "ipython3",
   "version": "3.9.7"
  }
 },
 "nbformat": 4,
 "nbformat_minor": 5
}

{
 "cells": [
  {
   "cell_type": "code",
   "execution_count": 1,
   "id": "e17079a0-42e6-419f-a0fb-58a6f686ea83",
   "metadata": {},
   "outputs": [],
   "source": [
    "test_text = \"\"\"0,9 -> 5,9\n",
    "8,0 -> 0,8\n",
    "9,4 -> 3,4\n",
    "2,2 -> 2,1\n",
    "7,0 -> 7,4\n",
    "6,4 -> 2,0\n",
    "0,9 -> 2,9\n",
    "3,4 -> 1,4\n",
    "0,0 -> 8,8\n",
    "5,5 -> 8,2\"\"\""
   ]
  },
  {
   "cell_type": "code",
   "execution_count": 2,
   "id": "6738a9b9-d702-4331-ac45-73335a05482d",
   "metadata": {},
   "outputs": [],
   "source": [
    "import numpy as np\n",
    "from pathlib import Path"
   ]
  },
  {
   "cell_type": "code",
   "execution_count": 57,
   "id": "8c986f88-a3c0-48f0-a895-414dc2dc3f91",
   "metadata": {},
   "outputs": [],
   "source": [
    "input_text = Path(\"input.txt\").read_text()\n",
    "curr_text = test_text # input_text, test_text"
   ]
  },
  {
   "cell_type": "code",
   "execution_count": 58,
   "id": "1358781f-2bd7-453b-ab9c-412a92366603",
   "metadata": {},
   "outputs": [],
   "source": [
    "def extract_line_points(line_text):\n",
    "    \"\"\" given text repr of lines, return array of shape\n",
    "    [n_points, n_endpoints, n_dims] \n",
    "    where n_endpoints should be 2 for lines\n",
    "    and n_dims should be 2 for (x,y)\n",
    "    \"\"\"\n",
    "    \n",
    "    line_list = [[[int(i) for i in point.split(\",\")] \n",
    "            for point in row.split(\" -> \")]\n",
    "            for row in line_text.split(\"\\n\")]\n",
    "    \n",
    "    return np.array(line_list)\n",
    "\n",
    "def init_diagram(line_arr):\n",
    "    \"\"\" given array representation of lines, initialize diagram\n",
    "    diagram is similar to that in AOC instructions except uses array instead of text\n",
    "    and 0 in place of `.` for no lines\n",
    "    \"\"\"\n",
    "    \n",
    "    max_x, max_y = np.max(line_arr[:,:,:], axis=(0,1))\n",
    "    \n",
    "    return np.zeros((max_x+1, max_y+1))\n",
    "\n",
    "def apply_lines(line_arr, diagram, part_2 = False):\n",
    "    \n",
    "    for line in line_arr:\n",
    "        \n",
    "        x_start, y_start, x_end, y_end = line.flat\n",
    "        diag_flag = (x_start != x_end) and (y_start != y_end)\n",
    "        diag_down = (x_end - x_start) != (y_end - y_start)\n",
    "        \n",
    "        # print(f\"{line=} {diag_flag=} {diag_down=}\") \n",
    "        \n",
    "        # make sure coords are ascending\n",
    "        if x_start > x_end: \n",
    "            x_start, x_end = x_end, x_start\n",
    "        if y_start > y_end: \n",
    "            y_start, y_end = y_end, y_start\n",
    "            \n",
    "        x_slice = slice(x_start, x_end+1)\n",
    "        y_slice = slice(y_start, y_end+1)\n",
    "        \n",
    "        if not diag_flag:  \n",
    "            diagram[x_slice, y_slice] = diagram[x_slice, y_slice] + 1\n",
    "        elif part_2:\n",
    "            diagram[x_slice, y_slice] = diagram[x_slice, y_slice] + np.eye(x_end - x_start + 1)[::1 if not diag_down else -1]\n",
    "        \n",
    "        # print(diagram.T)\n",
    "    \n",
    "    return diagram"
   ]
  },
  {
   "cell_type": "code",
   "execution_count": 59,
   "id": "685201cb-f19d-4b98-bc8c-99ace37c4db7",
   "metadata": {},
   "outputs": [
    {
     "name": "stdout",
     "output_type": "stream",
     "text": [
      "5\n"
     ]
    }
   ],
   "source": [
    "line_arr = extract_line_points(curr_text)\n",
    "diagram = init_diagram(line_arr)\n",
    "final_diagram = apply_lines(line_arr, diagram, part_2=False)\n",
    "print(np.sum(final_diagram >= 2))"
   ]
  },
  {
   "cell_type": "code",
   "execution_count": 60,
   "id": "58277203-b11f-4aeb-99df-70a0c6232b8c",
   "metadata": {},
   "outputs": [
    {
     "name": "stdout",
     "output_type": "stream",
     "text": [
      "12\n"
     ]
    }
   ],
   "source": [
    "line_arr = extract_line_points(curr_text)\n",
    "diagram = init_diagram(line_arr)\n",
    "final_diagram = apply_lines(line_arr, diagram, part_2=True)\n",
    "print(np.sum(final_diagram >= 2))"
   ]
  },
  {
   "cell_type": "code",
   "execution_count": null,
   "id": "223b2d09-38aa-4470-8242-d68a63756f20",
   "metadata": {},
   "outputs": [],
   "source": []
  }
 ],
 "metadata": {
  "kernelspec": {
   "display_name": "Python [conda env:ds]",
   "language": "python",
   "name": "conda-env-ds-py"
  },
  "language_info": {
   "codemirror_mode": {
    "name": "ipython",
    "version": 3
   },
   "file_extension": ".py",
   "mimetype": "text/x-python",
   "name": "python",
   "nbconvert_exporter": "python",
   "pygments_lexer": "ipython3",
   "version": "3.9.7"
  }
 },
 "nbformat": 4,
 "nbformat_minor": 5
}

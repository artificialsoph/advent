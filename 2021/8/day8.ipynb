{
 "cells": [
  {
   "cell_type": "code",
   "execution_count": 1,
   "id": "acb62686-46e6-46cc-b1f0-e46e6daefeaa",
   "metadata": {
    "execution": {
     "iopub.execute_input": "2021-12-09T16:29:00.980498Z",
     "iopub.status.busy": "2021-12-09T16:29:00.980214Z",
     "iopub.status.idle": "2021-12-09T16:29:00.988033Z",
     "shell.execute_reply": "2021-12-09T16:29:00.986814Z",
     "shell.execute_reply.started": "2021-12-09T16:29:00.980424Z"
    },
    "tags": []
   },
   "outputs": [],
   "source": [
    "from pathlib import Path"
   ]
  },
  {
   "cell_type": "code",
   "execution_count": 2,
   "id": "732d61b4-a04d-4d1f-8a6a-45a68390e6a7",
   "metadata": {
    "execution": {
     "iopub.execute_input": "2021-12-09T16:29:00.989282Z",
     "iopub.status.busy": "2021-12-09T16:29:00.989076Z",
     "iopub.status.idle": "2021-12-09T16:29:00.994208Z",
     "shell.execute_reply": "2021-12-09T16:29:00.993550Z",
     "shell.execute_reply.started": "2021-12-09T16:29:00.989264Z"
    },
    "tags": []
   },
   "outputs": [],
   "source": [
    "test_text = \"\"\"be cfbegad cbdgef fgaecd cgeb fdcge agebfd fecdb fabcd edb | fdgacbe cefdb cefbgd gcbe\n",
    "edbfga begcd cbg gc gcadebf fbgde acbgfd abcde gfcbed gfec | fcgedb cgb dgebacf gc\n",
    "fgaebd cg bdaec gdafb agbcfd gdcbef bgcad gfac gcb cdgabef | cg cg fdcagb cbg\n",
    "fbegcd cbd adcefb dageb afcb bc aefdc ecdab fgdeca fcdbega | efabcd cedba gadfec cb\n",
    "aecbfdg fbg gf bafeg dbefa fcge gcbea fcaegb dgceab fcbdga | gecf egdcabf bgf bfgea\n",
    "fgeab ca afcebg bdacfeg cfaedg gcfdb baec bfadeg bafgc acf | gebdcfa ecba ca fadegcb\n",
    "dbcfg fgd bdegcaf fgec aegbdf ecdfab fbedc dacgb gdcebf gf | cefg dcbef fcge gbcadfe\n",
    "bdfegc cbegaf gecbf dfcage bdacg ed bedf ced adcbefg gebcd | ed bcgafe cdgba cbgef\n",
    "egadfb cdbfeg cegd fecab cgb gbdefca cg fgcdab egfdb bfceg | gbdfcae bgc cg cgb\n",
    "gcafb gcf dcaebfg ecagb gf abcdeg gaef cafbge fdbac fegbdc | fgae cfgab fg bagce\"\"\"\n",
    "input_text = Path(\"input.txt\").read_text()\n",
    "\n",
    "curr_text = test_text"
   ]
  },
  {
   "cell_type": "code",
   "execution_count": 3,
   "id": "f2d1afa6-88ef-49c8-8659-092281da02cb",
   "metadata": {
    "execution": {
     "iopub.execute_input": "2021-12-09T16:29:00.996805Z",
     "iopub.status.busy": "2021-12-09T16:29:00.996589Z",
     "iopub.status.idle": "2021-12-09T16:29:00.999900Z",
     "shell.execute_reply": "2021-12-09T16:29:00.999336Z",
     "shell.execute_reply.started": "2021-12-09T16:29:00.996784Z"
    },
    "tags": []
   },
   "outputs": [],
   "source": [
    "wires = [\n",
    "    [pattern for pattern in wire.replace(\" | \", \" \").split(\" \")]\n",
    "    for wire in curr_text.split(\"\\n\")\n",
    "]"
   ]
  },
  {
   "cell_type": "code",
   "execution_count": 4,
   "id": "a21dfbff-fa13-4f7d-a826-7a81092f066b",
   "metadata": {
    "execution": {
     "iopub.execute_input": "2021-12-09T16:29:01.000994Z",
     "iopub.status.busy": "2021-12-09T16:29:01.000775Z",
     "iopub.status.idle": "2021-12-09T16:29:01.009557Z",
     "shell.execute_reply": "2021-12-09T16:29:01.008945Z",
     "shell.execute_reply.started": "2021-12-09T16:29:01.000976Z"
    },
    "tags": []
   },
   "outputs": [
    {
     "data": {
      "text/plain": [
       "26"
      ]
     },
     "execution_count": 4,
     "metadata": {},
     "output_type": "execute_result"
    }
   ],
   "source": [
    "sum([len(seg) in {2, 4, 3, 7} for wire in wires for seg in wire[-4:]])"
   ]
  },
  {
   "cell_type": "code",
   "execution_count": 5,
   "id": "c328ad0d-6160-4745-858a-def5b5ffd1e8",
   "metadata": {
    "execution": {
     "iopub.execute_input": "2021-12-09T16:29:01.010721Z",
     "iopub.status.busy": "2021-12-09T16:29:01.010434Z",
     "iopub.status.idle": "2021-12-09T16:29:01.017010Z",
     "shell.execute_reply": "2021-12-09T16:29:01.016529Z",
     "shell.execute_reply.started": "2021-12-09T16:29:01.010702Z"
    },
    "tags": []
   },
   "outputs": [],
   "source": [
    "def make_key(pattern):\n",
    "    len_dict = {}\n",
    "\n",
    "    for seg in pattern:\n",
    "        len_dict[len(seg)] = len_dict.get(len(seg), []) + [seg]\n",
    "\n",
    "    key_dict = {\n",
    "        \"1\": len_dict[2][0],\n",
    "        \"4\": len_dict[4][0],\n",
    "        \"7\": len_dict[3][0],\n",
    "        \"8\": len_dict[7][0],\n",
    "    }\n",
    "\n",
    "    decoder_logic = [\n",
    "        (\"3\", 5, lambda x: set(key_dict[\"1\"]) < set(x)),\n",
    "        (\"2\", 5, lambda x: len(set(x) & set(key_dict[\"4\"])) == 2),\n",
    "        (\"5\", 5, lambda x: True),\n",
    "        (\"9\", 6, lambda x: set(key_dict[\"4\"]) < set(x)),\n",
    "        (\"0\", 6, lambda x: set(key_dict[\"1\"]) < set(x)),\n",
    "        (\"6\", 6, lambda x: True),\n",
    "    ]\n",
    "\n",
    "    for target_n, len_n, logic in decoder_logic:\n",
    "\n",
    "        target_seg = [seg for seg in len_dict[len_n] if logic(seg)][0]\n",
    "        key_dict[target_n] = target_seg\n",
    "        len_dict[len_n].remove(target_seg)\n",
    "\n",
    "    return key_dict"
   ]
  },
  {
   "cell_type": "code",
   "execution_count": 6,
   "id": "e0b12632-04a6-4037-8a97-b0952fd12331",
   "metadata": {
    "execution": {
     "iopub.execute_input": "2021-12-09T16:29:01.018116Z",
     "iopub.status.busy": "2021-12-09T16:29:01.017927Z",
     "iopub.status.idle": "2021-12-09T16:29:01.021761Z",
     "shell.execute_reply": "2021-12-09T16:29:01.021318Z",
     "shell.execute_reply.started": "2021-12-09T16:29:01.018098Z"
    },
    "tags": []
   },
   "outputs": [],
   "source": [
    "def apply_key(pattern, key_dict):\n",
    "\n",
    "    inv_dict = {v: k for k, v in key_dict.items()}\n",
    "\n",
    "    return int(\"\".join([inv_dict[seg] for seg in pattern]))\n",
    "\n",
    "\n",
    "def decode(pattern):\n",
    "\n",
    "    pattern = [\"\".join(sorted(seg)) for seg in pattern]\n",
    "\n",
    "    key_dict = make_key(pattern[:10])\n",
    "    return apply_key(pattern[-4:], key_dict)"
   ]
  },
  {
   "cell_type": "code",
   "execution_count": 7,
   "id": "3d807705-bd74-4132-b37e-c826e1601f43",
   "metadata": {
    "execution": {
     "iopub.execute_input": "2021-12-09T16:29:01.022660Z",
     "iopub.status.busy": "2021-12-09T16:29:01.022507Z",
     "iopub.status.idle": "2021-12-09T16:29:01.026045Z",
     "shell.execute_reply": "2021-12-09T16:29:01.025616Z",
     "shell.execute_reply.started": "2021-12-09T16:29:01.022644Z"
    },
    "tags": []
   },
   "outputs": [
    {
     "data": {
      "text/plain": [
       "61229"
      ]
     },
     "execution_count": 7,
     "metadata": {},
     "output_type": "execute_result"
    }
   ],
   "source": [
    "sum(decode(pattern) for pattern in wires)"
   ]
  },
  {
   "cell_type": "code",
   "execution_count": null,
   "id": "fcdd6f86-55ef-4616-aea6-45eee5686dac",
   "metadata": {},
   "outputs": [],
   "source": []
  }
 ],
 "metadata": {
  "kernelspec": {
   "display_name": "Python [conda env:ds]",
   "language": "python",
   "name": "conda-env-ds-py"
  },
  "language_info": {
   "codemirror_mode": {
    "name": "ipython",
    "version": 3
   },
   "file_extension": ".py",
   "mimetype": "text/x-python",
   "name": "python",
   "nbconvert_exporter": "python",
   "pygments_lexer": "ipython3",
   "version": "3.9.7"
  }
 },
 "nbformat": 4,
 "nbformat_minor": 5
}

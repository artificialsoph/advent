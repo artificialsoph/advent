{
 "cells": [
  {
   "cell_type": "code",
   "execution_count": 57,
   "id": "5a3ede3e-0c55-4bc1-bbcf-5d1e164b0775",
   "metadata": {
    "execution": {
     "iopub.execute_input": "2022-12-02T14:47:44.152739Z",
     "iopub.status.busy": "2022-12-02T14:47:44.152439Z",
     "iopub.status.idle": "2022-12-02T14:47:44.156773Z",
     "shell.execute_reply": "2022-12-02T14:47:44.155901Z",
     "shell.execute_reply.started": "2022-12-02T14:47:44.152707Z"
    },
    "tags": []
   },
   "outputs": [],
   "source": [
    "from pathlib import Path\n",
    "\n",
    "import numpy as np"
   ]
  },
  {
   "cell_type": "code",
   "execution_count": 58,
   "id": "ce2b2db7-0d5c-4dab-9fa5-44dde233c586",
   "metadata": {
    "execution": {
     "iopub.execute_input": "2022-12-02T14:47:44.384239Z",
     "iopub.status.busy": "2022-12-02T14:47:44.383947Z",
     "iopub.status.idle": "2022-12-02T14:47:44.387979Z",
     "shell.execute_reply": "2022-12-02T14:47:44.387175Z",
     "shell.execute_reply.started": "2022-12-02T14:47:44.384207Z"
    },
    "tags": []
   },
   "outputs": [],
   "source": [
    "test_input = \"\"\"A Y\n",
    "B X\n",
    "C Z\"\"\""
   ]
  },
  {
   "cell_type": "markdown",
   "id": "e2a40faa-ce31-430e-88c1-c8b0f9e187b0",
   "metadata": {},
   "source": [
    "# Part 1"
   ]
  },
  {
   "cell_type": "code",
   "execution_count": 59,
   "id": "ef08589d-20c1-43c7-a31b-e02eff2df273",
   "metadata": {
    "execution": {
     "iopub.execute_input": "2022-12-02T14:47:44.898959Z",
     "iopub.status.busy": "2022-12-02T14:47:44.898677Z",
     "iopub.status.idle": "2022-12-02T14:47:44.903687Z",
     "shell.execute_reply": "2022-12-02T14:47:44.902599Z",
     "shell.execute_reply.started": "2022-12-02T14:47:44.898927Z"
    },
    "tags": []
   },
   "outputs": [],
   "source": [
    "def make_garray(text_input):\n",
    "\n",
    "    garray = np.array([list(map(ord, gs.split())) for gs in text_input.split(\"\\n\")])\n",
    "    garray = garray - [64, 87]\n",
    "\n",
    "    return garray"
   ]
  },
  {
   "cell_type": "code",
   "execution_count": 60,
   "id": "a7ef4ab5-1247-456d-a202-1bee59af8e78",
   "metadata": {
    "execution": {
     "iopub.execute_input": "2022-12-02T14:47:45.302653Z",
     "iopub.status.busy": "2022-12-02T14:47:45.302067Z",
     "iopub.status.idle": "2022-12-02T14:47:45.307805Z",
     "shell.execute_reply": "2022-12-02T14:47:45.307132Z",
     "shell.execute_reply.started": "2022-12-02T14:47:45.302618Z"
    },
    "tags": []
   },
   "outputs": [
    {
     "data": {
      "text/plain": [
       "array([[1, 2],\n",
       "       [2, 1],\n",
       "       [3, 3]])"
      ]
     },
     "execution_count": 60,
     "metadata": {},
     "output_type": "execute_result"
    }
   ],
   "source": [
    "make_garray(test_input)"
   ]
  },
  {
   "cell_type": "code",
   "execution_count": 61,
   "id": "6a8fad06-7cd8-42d4-ad0f-cf9dfc0426b7",
   "metadata": {
    "execution": {
     "iopub.execute_input": "2022-12-02T14:47:45.564496Z",
     "iopub.status.busy": "2022-12-02T14:47:45.564201Z",
     "iopub.status.idle": "2022-12-02T14:47:45.569502Z",
     "shell.execute_reply": "2022-12-02T14:47:45.568577Z",
     "shell.execute_reply.started": "2022-12-02T14:47:45.564462Z"
    },
    "tags": []
   },
   "outputs": [],
   "source": [
    "def game_points(garray_input):\n",
    "    move_diff = garray_input[:, 1] - garray_input[:, 0]\n",
    "    win_points = ((move_diff == 1) | (move_diff == -2)) * 6\n",
    "    tie_points = (move_diff == 0) * 3\n",
    "    move_points = garray_input[:, 1]\n",
    "\n",
    "    return win_points + tie_points + move_points"
   ]
  },
  {
   "cell_type": "markdown",
   "id": "8cc67421-0f3c-461d-9559-f627daf8a5a9",
   "metadata": {},
   "source": [
    "### SOLN"
   ]
  },
  {
   "cell_type": "code",
   "execution_count": 62,
   "id": "5e85ecdd-9907-4153-a754-7f54c86ea9b7",
   "metadata": {
    "execution": {
     "iopub.execute_input": "2022-12-02T14:47:46.117428Z",
     "iopub.status.busy": "2022-12-02T14:47:46.117133Z",
     "iopub.status.idle": "2022-12-02T14:47:46.122900Z",
     "shell.execute_reply": "2022-12-02T14:47:46.122196Z",
     "shell.execute_reply.started": "2022-12-02T14:47:46.117397Z"
    },
    "tags": []
   },
   "outputs": [
    {
     "data": {
      "text/plain": [
       "15"
      ]
     },
     "execution_count": 62,
     "metadata": {},
     "output_type": "execute_result"
    }
   ],
   "source": [
    "sum(game_points(make_garray(test_input)))"
   ]
  },
  {
   "cell_type": "code",
   "execution_count": 63,
   "id": "125ba704-018b-4e0e-9e57-e132c86ed174",
   "metadata": {
    "execution": {
     "iopub.execute_input": "2022-12-02T14:47:46.459624Z",
     "iopub.status.busy": "2022-12-02T14:47:46.459102Z",
     "iopub.status.idle": "2022-12-02T14:47:46.470998Z",
     "shell.execute_reply": "2022-12-02T14:47:46.470087Z",
     "shell.execute_reply.started": "2022-12-02T14:47:46.459594Z"
    },
    "tags": []
   },
   "outputs": [
    {
     "data": {
      "text/plain": [
       "15632"
      ]
     },
     "execution_count": 63,
     "metadata": {},
     "output_type": "execute_result"
    }
   ],
   "source": [
    "sum(game_points(make_garray(Path(\"input.txt\").read_text())))"
   ]
  },
  {
   "cell_type": "markdown",
   "id": "6706a4b9-9209-4b0e-8821-355b1e8a2825",
   "metadata": {},
   "source": [
    "# Part 2"
   ]
  },
  {
   "cell_type": "code",
   "execution_count": 102,
   "id": "56066885-96b5-4ebe-b686-d1725a96ebfa",
   "metadata": {
    "execution": {
     "iopub.execute_input": "2022-12-02T14:58:22.079619Z",
     "iopub.status.busy": "2022-12-02T14:58:22.079325Z",
     "iopub.status.idle": "2022-12-02T14:58:22.084647Z",
     "shell.execute_reply": "2022-12-02T14:58:22.083755Z",
     "shell.execute_reply.started": "2022-12-02T14:58:22.079586Z"
    },
    "tags": []
   },
   "outputs": [],
   "source": [
    "def find_moves(garray_input):\n",
    "\n",
    "    opp_moves = garray_input[:, 0]\n",
    "    desired_end = garray_input[:, 1] - 2\n",
    "    my_moves = (opp_moves + desired_end) % 3\n",
    "\n",
    "    my_moves[my_moves == 0] = 3 # not pretty. there must be a better way\n",
    "    \n",
    "    garray = np.stack((opp_moves, my_moves), 1)\n",
    "\n",
    "    return garray"
   ]
  },
  {
   "cell_type": "code",
   "execution_count": 98,
   "id": "1a226fb8-095f-4acd-ae34-590859555a67",
   "metadata": {
    "execution": {
     "iopub.execute_input": "2022-12-02T14:57:32.136265Z",
     "iopub.status.busy": "2022-12-02T14:57:32.135967Z",
     "iopub.status.idle": "2022-12-02T14:57:32.142476Z",
     "shell.execute_reply": "2022-12-02T14:57:32.141641Z",
     "shell.execute_reply.started": "2022-12-02T14:57:32.136232Z"
    },
    "tags": []
   },
   "outputs": [
    {
     "data": {
      "text/plain": [
       "array([[1, 1],\n",
       "       [2, 1],\n",
       "       [3, 1]])"
      ]
     },
     "execution_count": 98,
     "metadata": {},
     "output_type": "execute_result"
    }
   ],
   "source": [
    "find_moves(make_garray(test_input))"
   ]
  },
  {
   "cell_type": "code",
   "execution_count": 99,
   "id": "f53aef8d-50d9-41ea-b5d7-468bc4d331c3",
   "metadata": {
    "execution": {
     "iopub.execute_input": "2022-12-02T14:57:33.246950Z",
     "iopub.status.busy": "2022-12-02T14:57:33.246667Z",
     "iopub.status.idle": "2022-12-02T14:57:33.252659Z",
     "shell.execute_reply": "2022-12-02T14:57:33.251936Z",
     "shell.execute_reply.started": "2022-12-02T14:57:33.246916Z"
    },
    "tags": []
   },
   "outputs": [
    {
     "data": {
      "text/plain": [
       "12"
      ]
     },
     "execution_count": 99,
     "metadata": {},
     "output_type": "execute_result"
    }
   ],
   "source": [
    "sum(game_points(find_moves(make_garray(test_input))))"
   ]
  },
  {
   "cell_type": "code",
   "execution_count": 101,
   "id": "bc0339f5-2a8c-4087-9d38-ba1b89f29e89",
   "metadata": {
    "execution": {
     "iopub.execute_input": "2022-12-02T14:57:54.349229Z",
     "iopub.status.busy": "2022-12-02T14:57:54.348940Z",
     "iopub.status.idle": "2022-12-02T14:57:54.361031Z",
     "shell.execute_reply": "2022-12-02T14:57:54.360269Z",
     "shell.execute_reply.started": "2022-12-02T14:57:54.349196Z"
    }
   },
   "outputs": [
    {
     "data": {
      "text/plain": [
       "14416"
      ]
     },
     "execution_count": 101,
     "metadata": {},
     "output_type": "execute_result"
    }
   ],
   "source": [
    "sum(game_points(find_moves(make_garray(Path(\"input.txt\").read_text()))))"
   ]
  }
 ],
 "metadata": {
  "kernelspec": {
   "display_name": "Python [conda env:soph]",
   "language": "python",
   "name": "conda-env-soph-py"
  },
  "language_info": {
   "codemirror_mode": {
    "name": "ipython",
    "version": 3
   },
   "file_extension": ".py",
   "mimetype": "text/x-python",
   "name": "python",
   "nbconvert_exporter": "python",
   "pygments_lexer": "ipython3",
   "version": "3.9.10"
  }
 },
 "nbformat": 4,
 "nbformat_minor": 5
}

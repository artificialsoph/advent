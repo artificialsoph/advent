{
 "cells": [
  {
   "cell_type": "code",
   "execution_count": 1,
   "id": "72469f32-6223-4416-86b1-13dd4eac0f78",
   "metadata": {
    "execution": {
     "iopub.execute_input": "2021-12-10T20:30:33.001967Z",
     "iopub.status.busy": "2021-12-10T20:30:33.001533Z",
     "iopub.status.idle": "2021-12-10T20:30:33.287779Z",
     "shell.execute_reply": "2021-12-10T20:30:33.287331Z",
     "shell.execute_reply.started": "2021-12-10T20:30:33.001902Z"
    },
    "tags": []
   },
   "outputs": [],
   "source": [
    "import re\n",
    "from functools import partial\n",
    "from pathlib import Path\n",
    "\n",
    "import numpy as np"
   ]
  },
  {
   "cell_type": "code",
   "execution_count": 2,
   "id": "8b425f7b-345f-4cf2-92b4-4034e55206d8",
   "metadata": {
    "execution": {
     "iopub.execute_input": "2021-12-10T20:30:33.288784Z",
     "iopub.status.busy": "2021-12-10T20:30:33.288669Z",
     "iopub.status.idle": "2021-12-10T20:30:33.292543Z",
     "shell.execute_reply": "2021-12-10T20:30:33.291868Z",
     "shell.execute_reply.started": "2021-12-10T20:30:33.288769Z"
    },
    "tags": []
   },
   "outputs": [],
   "source": [
    "test_text = \"\"\"[({(<(())[]>[[{[]{<()<>>\n",
    "[(()[<>])]({[<{<<[]>>(\n",
    "{([(<{}[<>[]}>{[]{[(<()>\n",
    "(((({<>}<{<{<>}{[]{[]{}\n",
    "[[<[([]))<([[{}[[()]]]\n",
    "[{[{({}]{}}([{[{{{}}([]\n",
    "{<[[]]>}<{[{[{[]{()[[[]\n",
    "[<(<(<(<{}))><([]([]()\n",
    "<{([([[(<>()){}]>(<<{{\n",
    "<{([{{}}[<[[[<>{}]]]>[]]\"\"\"\n",
    "input_text = Path(\"input.txt\").read_text()\n",
    "\n",
    "curr_text = test_text"
   ]
  },
  {
   "cell_type": "code",
   "execution_count": 3,
   "id": "43cbfcba-a15c-4ab5-81e3-97ab135d6374",
   "metadata": {
    "execution": {
     "iopub.execute_input": "2021-12-10T20:30:33.295006Z",
     "iopub.status.busy": "2021-12-10T20:30:33.294850Z",
     "iopub.status.idle": "2021-12-10T20:30:33.298925Z",
     "shell.execute_reply": "2021-12-10T20:30:33.298298Z",
     "shell.execute_reply.started": "2021-12-10T20:30:33.294990Z"
    },
    "tags": []
   },
   "outputs": [],
   "source": [
    "match_key = {\"{\": \"}\", \"[\": \"]\", \"(\": \")\", \"<\": \">\"}\n",
    "illegal_points = {\")\": 3, \"]\": 57, \"}\": 1197, \">\": 25137}\n",
    "\n",
    "bracket_re = re.compile(r\"[\\{\\[\\(<][\\}\\]\\)>]\")"
   ]
  },
  {
   "cell_type": "code",
   "execution_count": 4,
   "id": "6c6915f3-63e8-419d-9cd8-3336aed6c21d",
   "metadata": {
    "execution": {
     "iopub.execute_input": "2021-12-10T20:30:33.299924Z",
     "iopub.status.busy": "2021-12-10T20:30:33.299803Z",
     "iopub.status.idle": "2021-12-10T20:30:33.305205Z",
     "shell.execute_reply": "2021-12-10T20:30:33.304631Z",
     "shell.execute_reply.started": "2021-12-10T20:30:33.299909Z"
    },
    "tags": []
   },
   "outputs": [],
   "source": [
    "def find_illegal(line, return_incomplete=False):\n",
    "\n",
    "    illegal = []\n",
    "\n",
    "    for i in range(len(line) // 2):\n",
    "\n",
    "        pairs = bracket_re.findall(line)\n",
    "\n",
    "        if not pairs:\n",
    "            break\n",
    "\n",
    "        line = bracket_re.sub(\"\", line)\n",
    "\n",
    "        illegal.extend([p for p in pairs if match_key[p[0]] != p[1]])\n",
    "\n",
    "    return {True: (illegal, line), False: illegal}[return_incomplete]"
   ]
  },
  {
   "cell_type": "code",
   "execution_count": 5,
   "id": "ae3b2ed1-de1e-4d64-9715-1cfe98238fba",
   "metadata": {
    "execution": {
     "iopub.execute_input": "2021-12-10T20:30:33.306436Z",
     "iopub.status.busy": "2021-12-10T20:30:33.306119Z",
     "iopub.status.idle": "2021-12-10T20:30:33.315332Z",
     "shell.execute_reply": "2021-12-10T20:30:33.314191Z",
     "shell.execute_reply.started": "2021-12-10T20:30:33.306381Z"
    },
    "tags": []
   },
   "outputs": [
    {
     "data": {
      "text/plain": [
       "26397"
      ]
     },
     "execution_count": 5,
     "metadata": {},
     "output_type": "execute_result"
    }
   ],
   "source": [
    "illegal_pairs = sum(map(find_illegal, curr_text.split(\"\\n\")), [])\n",
    "sum(map(lambda x: illegal_points[x[1]], illegal_pairs))"
   ]
  },
  {
   "cell_type": "markdown",
   "id": "456c3e84-63b7-4523-a5de-abbbd4c74935",
   "metadata": {
    "tags": []
   },
   "source": [
    "# Part 2"
   ]
  },
  {
   "cell_type": "code",
   "execution_count": 6,
   "id": "6376f38d-9ed5-4a64-ba1a-2934f34ec6f8",
   "metadata": {
    "execution": {
     "iopub.execute_input": "2021-12-10T20:30:33.317353Z",
     "iopub.status.busy": "2021-12-10T20:30:33.317006Z",
     "iopub.status.idle": "2021-12-10T20:30:33.320749Z",
     "shell.execute_reply": "2021-12-10T20:30:33.319881Z",
     "shell.execute_reply.started": "2021-12-10T20:30:33.317330Z"
    },
    "tags": []
   },
   "outputs": [],
   "source": [
    "find_inc = partial(find_illegal, return_incomplete=True)"
   ]
  },
  {
   "cell_type": "code",
   "execution_count": 7,
   "id": "83f245f4-f0bf-44fa-8243-ec9a766beaaf",
   "metadata": {
    "execution": {
     "iopub.execute_input": "2021-12-10T20:30:33.322184Z",
     "iopub.status.busy": "2021-12-10T20:30:33.321797Z",
     "iopub.status.idle": "2021-12-10T20:30:33.325394Z",
     "shell.execute_reply": "2021-12-10T20:30:33.324867Z",
     "shell.execute_reply.started": "2021-12-10T20:30:33.322160Z"
    },
    "tags": []
   },
   "outputs": [],
   "source": [
    "inc_points = {\"{\": 3, \"[\": 2, \"(\": 1, \"<\": 4}\n",
    "\n",
    "\n",
    "def str_points(inc_str):\n",
    "    points = 0\n",
    "    for c in inc_str[::-1]:\n",
    "        points = points * 5 + inc_points[c]\n",
    "    return points"
   ]
  },
  {
   "cell_type": "code",
   "execution_count": 8,
   "id": "f8250b06-6714-4362-896d-2f22db961fc3",
   "metadata": {
    "execution": {
     "iopub.execute_input": "2021-12-10T20:30:33.326343Z",
     "iopub.status.busy": "2021-12-10T20:30:33.326215Z",
     "iopub.status.idle": "2021-12-10T20:30:33.329511Z",
     "shell.execute_reply": "2021-12-10T20:30:33.328927Z",
     "shell.execute_reply.started": "2021-12-10T20:30:33.326326Z"
    },
    "tags": []
   },
   "outputs": [],
   "source": [
    "inc_strings = [\n",
    "    inc for illegal, inc in map(find_inc, curr_text.split(\"\\n\")) if not illegal\n",
    "]\n",
    "inc_scores = [str_points(inc) for inc in inc_strings]"
   ]
  },
  {
   "cell_type": "code",
   "execution_count": 9,
   "id": "0993acd9-1e7b-4e3b-b564-46f39fc091ad",
   "metadata": {
    "execution": {
     "iopub.execute_input": "2021-12-10T20:30:33.330676Z",
     "iopub.status.busy": "2021-12-10T20:30:33.330457Z",
     "iopub.status.idle": "2021-12-10T20:30:33.334581Z",
     "shell.execute_reply": "2021-12-10T20:30:33.334114Z",
     "shell.execute_reply.started": "2021-12-10T20:30:33.330655Z"
    },
    "tags": []
   },
   "outputs": [
    {
     "data": {
      "text/plain": [
       "288957.0"
      ]
     },
     "execution_count": 9,
     "metadata": {},
     "output_type": "execute_result"
    }
   ],
   "source": [
    "np.median(list(map(str_points, inc_strings)))"
   ]
  },
  {
   "cell_type": "code",
   "execution_count": null,
   "id": "f94d6d2d-02fa-4f1e-b6bf-734f909ff25a",
   "metadata": {},
   "outputs": [],
   "source": []
  }
 ],
 "metadata": {
  "kernelspec": {
   "display_name": "Python [conda env:ds]",
   "language": "python",
   "name": "conda-env-ds-py"
  },
  "language_info": {
   "codemirror_mode": {
    "name": "ipython",
    "version": 3
   },
   "file_extension": ".py",
   "mimetype": "text/x-python",
   "name": "python",
   "nbconvert_exporter": "python",
   "pygments_lexer": "ipython3",
   "version": "3.9.7"
  }
 },
 "nbformat": 4,
 "nbformat_minor": 5
}

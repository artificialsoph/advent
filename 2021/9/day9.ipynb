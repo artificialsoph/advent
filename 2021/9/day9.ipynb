{
 "cells": [
  {
   "cell_type": "code",
   "execution_count": 1,
   "id": "a06e1274-5c74-4efd-97f9-b68e15f998f1",
   "metadata": {
    "execution": {
     "iopub.execute_input": "2021-12-09T18:09:27.154731Z",
     "iopub.status.busy": "2021-12-09T18:09:27.154414Z",
     "iopub.status.idle": "2021-12-09T18:09:27.541316Z",
     "shell.execute_reply": "2021-12-09T18:09:27.540724Z",
     "shell.execute_reply.started": "2021-12-09T18:09:27.154648Z"
    },
    "tags": []
   },
   "outputs": [],
   "source": [
    "import numpy as np\n",
    "from pathlib import Path"
   ]
  },
  {
   "cell_type": "code",
   "execution_count": 12,
   "id": "da3a2da8-3dff-448c-9221-5ce6c05f2e87",
   "metadata": {
    "execution": {
     "iopub.execute_input": "2021-12-09T18:10:04.410425Z",
     "iopub.status.busy": "2021-12-09T18:10:04.410171Z",
     "iopub.status.idle": "2021-12-09T18:10:04.414045Z",
     "shell.execute_reply": "2021-12-09T18:10:04.413332Z",
     "shell.execute_reply.started": "2021-12-09T18:10:04.410396Z"
    },
    "tags": []
   },
   "outputs": [],
   "source": [
    "test_text = \"\"\"2199943210\n",
    "3987894921\n",
    "9856789892\n",
    "8767896789\n",
    "9899965678\"\"\"\n",
    "input_text = Path(\"input.txt\").read_text()\n",
    "curr_text = input_text"
   ]
  },
  {
   "cell_type": "code",
   "execution_count": 13,
   "id": "aa57a359-cd81-43d0-88ae-ce41746694f0",
   "metadata": {
    "execution": {
     "iopub.execute_input": "2021-12-09T18:10:04.855906Z",
     "iopub.status.busy": "2021-12-09T18:10:04.855645Z",
     "iopub.status.idle": "2021-12-09T18:10:04.862147Z",
     "shell.execute_reply": "2021-12-09T18:10:04.861401Z",
     "shell.execute_reply.started": "2021-12-09T18:10:04.855879Z"
    },
    "tags": []
   },
   "outputs": [],
   "source": [
    "height_arr = np.array([[int(i) for i in row] for row in curr_text.split(\"\\n\")])"
   ]
  },
  {
   "cell_type": "code",
   "execution_count": 14,
   "id": "2516917a-0cd3-4fe4-8d30-87ff9f7d0c97",
   "metadata": {
    "execution": {
     "iopub.execute_input": "2021-12-09T18:10:05.425894Z",
     "iopub.status.busy": "2021-12-09T18:10:05.425535Z",
     "iopub.status.idle": "2021-12-09T18:10:05.462089Z",
     "shell.execute_reply": "2021-12-09T18:10:05.461479Z",
     "shell.execute_reply.started": "2021-12-09T18:10:05.425866Z"
    },
    "tags": []
   },
   "outputs": [],
   "source": [
    "height_pad = np.pad(\n",
    "    height_arr, pad_width=1, mode=\"constant\", constant_values=height_arr.max()\n",
    ")\n",
    "min_val = np.full_like(height_arr, height_arr.max())\n",
    "\n",
    "for i in range(height_arr.shape[0]):\n",
    "    for j in range(height_arr.shape[1]):\n",
    "        min_val[i, j] = height_pad[i : i + 3, j : j + 3].min()"
   ]
  },
  {
   "cell_type": "code",
   "execution_count": 15,
   "id": "4d67c8d2-48e2-4635-9520-ff12ac1439f2",
   "metadata": {
    "execution": {
     "iopub.execute_input": "2021-12-09T18:10:05.966318Z",
     "iopub.status.busy": "2021-12-09T18:10:05.966067Z",
     "iopub.status.idle": "2021-12-09T18:10:05.971013Z",
     "shell.execute_reply": "2021-12-09T18:10:05.970406Z",
     "shell.execute_reply.started": "2021-12-09T18:10:05.966290Z"
    },
    "tags": []
   },
   "outputs": [
    {
     "data": {
      "text/plain": [
       "247"
      ]
     },
     "execution_count": 15,
     "metadata": {},
     "output_type": "execute_result"
    }
   ],
   "source": [
    "np.sum(min_val == height_arr)"
   ]
  },
  {
   "cell_type": "code",
   "execution_count": 16,
   "id": "15d9d2c8-a95e-4cc4-ad64-3a6841367db7",
   "metadata": {
    "execution": {
     "iopub.execute_input": "2021-12-09T18:10:06.477044Z",
     "iopub.status.busy": "2021-12-09T18:10:06.476751Z",
     "iopub.status.idle": "2021-12-09T18:10:06.481817Z",
     "shell.execute_reply": "2021-12-09T18:10:06.481217Z",
     "shell.execute_reply.started": "2021-12-09T18:10:06.477013Z"
    },
    "tags": []
   },
   "outputs": [
    {
     "data": {
      "text/plain": [
       "600"
      ]
     },
     "execution_count": 16,
     "metadata": {},
     "output_type": "execute_result"
    }
   ],
   "source": [
    "np.sum(height_arr[min_val == height_arr]+1)"
   ]
  },
  {
   "cell_type": "markdown",
   "id": "97f5411e-e7af-42cf-9b38-681bc9fefed5",
   "metadata": {},
   "source": [
    "# Part 2"
   ]
  },
  {
   "cell_type": "code",
   "execution_count": 17,
   "id": "edebe454-4e3a-45c2-b563-b1e33b913f88",
   "metadata": {
    "execution": {
     "iopub.execute_input": "2021-12-09T18:10:12.924436Z",
     "iopub.status.busy": "2021-12-09T18:10:12.924174Z",
     "iopub.status.idle": "2021-12-09T18:10:12.927850Z",
     "shell.execute_reply": "2021-12-09T18:10:12.926824Z",
     "shell.execute_reply.started": "2021-12-09T18:10:12.924408Z"
    },
    "tags": []
   },
   "outputs": [],
   "source": [
    "from scipy import ndimage"
   ]
  },
  {
   "cell_type": "code",
   "execution_count": 18,
   "id": "2fd90a2b-df2c-4291-bccc-3a7b3241c707",
   "metadata": {
    "execution": {
     "iopub.execute_input": "2021-12-09T18:10:13.235261Z",
     "iopub.status.busy": "2021-12-09T18:10:13.235048Z",
     "iopub.status.idle": "2021-12-09T18:10:13.243866Z",
     "shell.execute_reply": "2021-12-09T18:10:13.243226Z",
     "shell.execute_reply.started": "2021-12-09T18:10:13.235240Z"
    },
    "tags": []
   },
   "outputs": [],
   "source": [
    "basin_points = height_arr < 9\n",
    "\n",
    "labels, n_labels = ndimage.label(basin_points)\n",
    "\n",
    "label_size = {}\n",
    "\n",
    "for i in range(1, 1+n_labels):\n",
    "    label_size[i] = np.sum(labels == i)\n"
   ]
  },
  {
   "cell_type": "code",
   "execution_count": 19,
   "id": "1a54d5ab-ee65-44ca-9fc5-6cc5053feb79",
   "metadata": {
    "execution": {
     "iopub.execute_input": "2021-12-09T18:10:13.675915Z",
     "iopub.status.busy": "2021-12-09T18:10:13.675644Z",
     "iopub.status.idle": "2021-12-09T18:10:13.687250Z",
     "shell.execute_reply": "2021-12-09T18:10:13.686530Z",
     "shell.execute_reply.started": "2021-12-09T18:10:13.675891Z"
    },
    "tags": []
   },
   "outputs": [
    {
     "data": {
      "text/plain": [
       "{1: 11,\n",
       " 2: 4,\n",
       " 3: 29,\n",
       " 4: 9,\n",
       " 5: 50,\n",
       " 6: 35,\n",
       " 7: 28,\n",
       " 8: 30,\n",
       " 9: 6,\n",
       " 10: 45,\n",
       " 11: 21,\n",
       " 12: 51,\n",
       " 13: 8,\n",
       " 14: 61,\n",
       " 15: 6,\n",
       " 16: 58,\n",
       " 17: 51,\n",
       " 18: 12,\n",
       " 19: 47,\n",
       " 20: 2,\n",
       " 21: 96,\n",
       " 22: 11,\n",
       " 23: 45,\n",
       " 24: 14,\n",
       " 25: 38,\n",
       " 26: 18,\n",
       " 27: 2,\n",
       " 28: 9,\n",
       " 29: 16,\n",
       " 30: 7,\n",
       " 31: 11,\n",
       " 32: 19,\n",
       " 33: 18,\n",
       " 34: 17,\n",
       " 35: 55,\n",
       " 36: 20,\n",
       " 37: 50,\n",
       " 38: 29,\n",
       " 39: 67,\n",
       " 40: 10,\n",
       " 41: 32,\n",
       " 42: 2,\n",
       " 43: 44,\n",
       " 44: 28,\n",
       " 45: 78,\n",
       " 46: 9,\n",
       " 47: 23,\n",
       " 48: 37,\n",
       " 49: 50,\n",
       " 50: 13,\n",
       " 51: 12,\n",
       " 52: 4,\n",
       " 53: 32,\n",
       " 54: 2,\n",
       " 55: 47,\n",
       " 56: 42,\n",
       " 57: 9,\n",
       " 58: 59,\n",
       " 59: 50,\n",
       " 60: 3,\n",
       " 61: 69,\n",
       " 62: 30,\n",
       " 63: 14,\n",
       " 64: 71,\n",
       " 65: 42,\n",
       " 66: 25,\n",
       " 67: 3,\n",
       " 68: 21,\n",
       " 69: 37,\n",
       " 70: 40,\n",
       " 71: 16,\n",
       " 72: 21,\n",
       " 73: 25,\n",
       " 74: 35,\n",
       " 75: 35,\n",
       " 76: 98,\n",
       " 77: 17,\n",
       " 78: 68,\n",
       " 79: 6,\n",
       " 80: 22,\n",
       " 81: 79,\n",
       " 82: 40,\n",
       " 83: 31,\n",
       " 84: 42,\n",
       " 85: 4,\n",
       " 86: 18,\n",
       " 87: 66,\n",
       " 88: 2,\n",
       " 89: 73,\n",
       " 90: 2,\n",
       " 91: 20,\n",
       " 92: 2,\n",
       " 93: 89,\n",
       " 94: 15,\n",
       " 95: 6,\n",
       " 96: 37,\n",
       " 97: 21,\n",
       " 98: 2,\n",
       " 99: 18,\n",
       " 100: 24,\n",
       " 101: 51,\n",
       " 102: 33,\n",
       " 103: 39,\n",
       " 104: 2,\n",
       " 105: 18,\n",
       " 106: 24,\n",
       " 107: 2,\n",
       " 108: 26,\n",
       " 109: 7,\n",
       " 110: 20,\n",
       " 111: 47,\n",
       " 112: 55,\n",
       " 113: 35,\n",
       " 114: 13,\n",
       " 115: 12,\n",
       " 116: 79,\n",
       " 117: 71,\n",
       " 118: 51,\n",
       " 119: 14,\n",
       " 120: 11,\n",
       " 121: 4,\n",
       " 122: 9,\n",
       " 123: 8,\n",
       " 124: 40,\n",
       " 125: 3,\n",
       " 126: 23,\n",
       " 127: 18,\n",
       " 128: 44,\n",
       " 129: 84,\n",
       " 130: 4,\n",
       " 131: 59,\n",
       " 132: 22,\n",
       " 133: 39,\n",
       " 134: 14,\n",
       " 135: 22,\n",
       " 136: 7,\n",
       " 137: 2,\n",
       " 138: 12,\n",
       " 139: 14,\n",
       " 140: 46,\n",
       " 141: 67,\n",
       " 142: 23,\n",
       " 143: 32,\n",
       " 144: 51,\n",
       " 145: 60,\n",
       " 146: 2,\n",
       " 147: 7,\n",
       " 148: 34,\n",
       " 149: 14,\n",
       " 150: 4,\n",
       " 151: 6,\n",
       " 152: 36,\n",
       " 153: 25,\n",
       " 154: 20,\n",
       " 155: 6,\n",
       " 156: 30,\n",
       " 157: 18,\n",
       " 158: 49,\n",
       " 159: 2,\n",
       " 160: 41,\n",
       " 161: 59,\n",
       " 162: 42,\n",
       " 163: 11,\n",
       " 164: 6,\n",
       " 165: 8,\n",
       " 166: 3,\n",
       " 167: 18,\n",
       " 168: 45,\n",
       " 169: 76,\n",
       " 170: 32,\n",
       " 171: 35,\n",
       " 172: 3,\n",
       " 173: 17,\n",
       " 174: 22,\n",
       " 175: 19,\n",
       " 176: 38,\n",
       " 177: 40,\n",
       " 178: 28,\n",
       " 179: 10,\n",
       " 180: 39,\n",
       " 181: 27,\n",
       " 182: 7,\n",
       " 183: 54,\n",
       " 184: 12,\n",
       " 185: 40,\n",
       " 186: 69,\n",
       " 187: 62,\n",
       " 188: 34,\n",
       " 189: 17,\n",
       " 190: 5,\n",
       " 191: 79,\n",
       " 192: 3,\n",
       " 193: 48,\n",
       " 194: 51,\n",
       " 195: 5,\n",
       " 196: 32,\n",
       " 197: 13,\n",
       " 198: 27,\n",
       " 199: 32,\n",
       " 200: 28,\n",
       " 201: 42,\n",
       " 202: 61,\n",
       " 203: 26,\n",
       " 204: 6,\n",
       " 205: 7,\n",
       " 206: 67,\n",
       " 207: 105,\n",
       " 208: 41,\n",
       " 209: 4,\n",
       " 210: 64,\n",
       " 211: 16,\n",
       " 212: 9,\n",
       " 213: 26,\n",
       " 214: 20,\n",
       " 215: 15,\n",
       " 216: 57,\n",
       " 217: 61,\n",
       " 218: 59,\n",
       " 219: 7,\n",
       " 220: 27,\n",
       " 221: 71,\n",
       " 222: 41,\n",
       " 223: 35,\n",
       " 224: 12,\n",
       " 225: 32,\n",
       " 226: 42,\n",
       " 227: 11,\n",
       " 228: 41,\n",
       " 229: 74,\n",
       " 230: 56,\n",
       " 231: 2,\n",
       " 232: 33,\n",
       " 233: 31,\n",
       " 234: 3,\n",
       " 235: 38,\n",
       " 236: 3,\n",
       " 237: 3,\n",
       " 238: 33,\n",
       " 239: 7,\n",
       " 240: 15,\n",
       " 241: 20,\n",
       " 242: 8,\n",
       " 243: 7,\n",
       " 244: 3,\n",
       " 245: 5,\n",
       " 246: 3,\n",
       " 247: 4}"
      ]
     },
     "execution_count": 19,
     "metadata": {},
     "output_type": "execute_result"
    }
   ],
   "source": [
    "label_size"
   ]
  },
  {
   "cell_type": "code",
   "execution_count": 20,
   "id": "257d5967-ac83-45d5-a5a3-238c6c8cf881",
   "metadata": {
    "execution": {
     "iopub.execute_input": "2021-12-09T18:10:19.829181Z",
     "iopub.status.busy": "2021-12-09T18:10:19.828903Z",
     "iopub.status.idle": "2021-12-09T18:10:19.834834Z",
     "shell.execute_reply": "2021-12-09T18:10:19.834075Z",
     "shell.execute_reply.started": "2021-12-09T18:10:19.829154Z"
    },
    "tags": []
   },
   "outputs": [
    {
     "data": {
      "text/plain": [
       "987840"
      ]
     },
     "execution_count": 20,
     "metadata": {},
     "output_type": "execute_result"
    }
   ],
   "source": [
    "top_3 = sorted(range(1,1+n_labels), key=lambda x: label_size[x], reverse=True)[:3]\n",
    "\n",
    "np.prod([label_size[i] for i in top_3])"
   ]
  },
  {
   "cell_type": "code",
   "execution_count": null,
   "id": "6eed81d3-c1eb-4924-bddc-fe224a22f566",
   "metadata": {},
   "outputs": [],
   "source": []
  }
 ],
 "metadata": {
  "kernelspec": {
   "display_name": "Python [conda env:ds]",
   "language": "python",
   "name": "conda-env-ds-py"
  },
  "language_info": {
   "codemirror_mode": {
    "name": "ipython",
    "version": 3
   },
   "file_extension": ".py",
   "mimetype": "text/x-python",
   "name": "python",
   "nbconvert_exporter": "python",
   "pygments_lexer": "ipython3",
   "version": "3.9.7"
  }
 },
 "nbformat": 4,
 "nbformat_minor": 5
}

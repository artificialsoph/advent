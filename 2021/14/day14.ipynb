{
 "cells": [
  {
   "cell_type": "code",
   "execution_count": 40,
   "metadata": {
    "execution": {
     "iopub.execute_input": "2021-12-14T20:40:40.709534Z",
     "iopub.status.busy": "2021-12-14T20:40:40.709237Z",
     "iopub.status.idle": "2021-12-14T20:40:40.712726Z",
     "shell.execute_reply": "2021-12-14T20:40:40.712032Z",
     "shell.execute_reply.started": "2021-12-14T20:40:40.709508Z"
    },
    "id": "BcpFOo8-YHRK",
    "tags": []
   },
   "outputs": [],
   "source": [
    "from collections import Counter, defaultdict\n",
    "from pathlib import Path"
   ]
  },
  {
   "cell_type": "code",
   "execution_count": 2,
   "metadata": {
    "execution": {
     "iopub.execute_input": "2021-12-14T16:49:18.932499Z",
     "iopub.status.busy": "2021-12-14T16:49:18.932284Z",
     "iopub.status.idle": "2021-12-14T16:49:18.936226Z",
     "shell.execute_reply": "2021-12-14T16:49:18.935559Z",
     "shell.execute_reply.started": "2021-12-14T16:49:18.932475Z"
    },
    "id": "yoS41v9bRRml",
    "tags": []
   },
   "outputs": [],
   "source": [
    "test_text = \"\"\"NNCB\n",
    "\n",
    "CH -> B\n",
    "HH -> N\n",
    "CB -> H\n",
    "NH -> C\n",
    "HB -> C\n",
    "HC -> B\n",
    "HN -> C\n",
    "NN -> C\n",
    "BH -> H\n",
    "NC -> B\n",
    "NB -> B\n",
    "BN -> B\n",
    "BB -> N\n",
    "BC -> B\n",
    "CC -> N\n",
    "CN -> C\"\"\"\n",
    "\n",
    "input_text = Path(\"input.txt\").read_text()"
   ]
  },
  {
   "cell_type": "code",
   "execution_count": 3,
   "metadata": {
    "execution": {
     "iopub.execute_input": "2021-12-14T16:49:19.293333Z",
     "iopub.status.busy": "2021-12-14T16:49:19.293131Z",
     "iopub.status.idle": "2021-12-14T16:49:19.299092Z",
     "shell.execute_reply": "2021-12-14T16:49:19.298437Z",
     "shell.execute_reply.started": "2021-12-14T16:49:19.293313Z"
    },
    "id": "2TUwiQtYSo2S",
    "tags": []
   },
   "outputs": [],
   "source": [
    "def polymer_steps(text, n=1):\n",
    "    polymer, insertion_rules = text.split(\"\\n\\n\")\n",
    "    insertion_pairs = [row.split(\" -> \") for row in insertion_rules.split(\"\\n\")]\n",
    "    insertion_dict = dict([(k, k[0] + v.lower() + k[1]) for k, v in insertion_pairs])\n",
    "    for i in range(n):\n",
    "\n",
    "        for k, v in insertion_dict.items():\n",
    "            while k in polymer:\n",
    "                polymer = polymer.replace(k, v)\n",
    "        polymer = polymer.upper()\n",
    "\n",
    "    return polymer\n",
    "\n",
    "\n",
    "assert polymer_steps(test_text, n=1) == \"NCNBCHB\"\n",
    "assert polymer_steps(test_text, n=2) == \"NBCCNBBBCBHCB\"\n",
    "assert polymer_steps(test_text, n=3) == \"NBBBCNCCNBBNBNBBCHBHHBCHB\"\n",
    "assert (\n",
    "    polymer_steps(test_text, n=4) == \"NBBNBNBBCCNBCNCCNBBNBBNBBBNBBNBBCBHCBHHNHCBBCBHCB\"\n",
    ")"
   ]
  },
  {
   "cell_type": "code",
   "execution_count": 4,
   "metadata": {
    "execution": {
     "iopub.execute_input": "2021-12-14T16:49:19.650547Z",
     "iopub.status.busy": "2021-12-14T16:49:19.650276Z",
     "iopub.status.idle": "2021-12-14T16:49:19.654810Z",
     "shell.execute_reply": "2021-12-14T16:49:19.654156Z",
     "shell.execute_reply.started": "2021-12-14T16:49:19.650526Z"
    },
    "id": "mwG-sc-dXGkg",
    "tags": []
   },
   "outputs": [],
   "source": [
    "def part_one(text):\n",
    "\n",
    "    polymer = polymer_steps(text, n=10)\n",
    "\n",
    "    element_counts = Counter(polymer).most_common()\n",
    "\n",
    "    return element_counts[0][1] - element_counts[-1][1]\n",
    "\n",
    "\n",
    "assert part_one(test_text) == 1588"
   ]
  },
  {
   "cell_type": "code",
   "execution_count": 5,
   "metadata": {
    "colab": {
     "base_uri": "https://localhost:8080/"
    },
    "execution": {
     "iopub.execute_input": "2021-12-14T16:49:20.041069Z",
     "iopub.status.busy": "2021-12-14T16:49:20.040850Z",
     "iopub.status.idle": "2021-12-14T16:49:20.063471Z",
     "shell.execute_reply": "2021-12-14T16:49:20.062885Z",
     "shell.execute_reply.started": "2021-12-14T16:49:20.041052Z"
    },
    "id": "QnxfX8ZnY0Ji",
    "outputId": "2c6acee2-7c9f-4d3c-8dc2-d1c34b2ae6ac",
    "tags": []
   },
   "outputs": [
    {
     "data": {
      "text/plain": [
       "2003"
      ]
     },
     "execution_count": 5,
     "metadata": {},
     "output_type": "execute_result"
    }
   ],
   "source": [
    "part_one(input_text)"
   ]
  },
  {
   "cell_type": "code",
   "execution_count": 41,
   "metadata": {
    "execution": {
     "iopub.execute_input": "2021-12-14T20:42:20.928765Z",
     "iopub.status.busy": "2021-12-14T20:42:20.928512Z",
     "iopub.status.idle": "2021-12-14T20:42:20.932773Z",
     "shell.execute_reply": "2021-12-14T20:42:20.932032Z",
     "shell.execute_reply.started": "2021-12-14T20:42:20.928737Z"
    },
    "id": "5Whslv9jc5aT",
    "tags": []
   },
   "outputs": [],
   "source": [
    "def polymer2pairs(polymer):\n",
    "\n",
    "    pair_dict = defaultdict(int)\n",
    "    for i in range(len(polymer) - 1):\n",
    "        pair = polymer[i : i + 2]\n",
    "        pair_dict[pair] += 1\n",
    "\n",
    "    return pair_dict"
   ]
  },
  {
   "cell_type": "code",
   "execution_count": 103,
   "metadata": {
    "execution": {
     "iopub.execute_input": "2021-12-14T21:40:36.114054Z",
     "iopub.status.busy": "2021-12-14T21:40:36.113816Z",
     "iopub.status.idle": "2021-12-14T21:40:36.118697Z",
     "shell.execute_reply": "2021-12-14T21:40:36.118007Z",
     "shell.execute_reply.started": "2021-12-14T21:40:36.114031Z"
    },
    "tags": []
   },
   "outputs": [],
   "source": [
    "def count_letters(pair_dict, end=\"NB\"):\n",
    "\n",
    "    letter_count = defaultdict(int)\n",
    "\n",
    "    for k, v in pair_dict.items():\n",
    "\n",
    "        letter_count[k[0]] += v\n",
    "        letter_count[k[1]] += v\n",
    "\n",
    "    for l in end:\n",
    "        letter_count[l] += 1\n",
    "\n",
    "    return Counter(dict([(k, v // 2) for k, v in letter_count.items()]))"
   ]
  },
  {
   "cell_type": "code",
   "execution_count": 104,
   "metadata": {
    "execution": {
     "iopub.execute_input": "2021-12-14T21:40:37.188821Z",
     "iopub.status.busy": "2021-12-14T21:40:37.188560Z",
     "iopub.status.idle": "2021-12-14T21:40:37.197053Z",
     "shell.execute_reply": "2021-12-14T21:40:37.195699Z",
     "shell.execute_reply.started": "2021-12-14T21:40:37.188794Z"
    },
    "tags": []
   },
   "outputs": [],
   "source": [
    "def polymer_steps(text, n=1):\n",
    "    polymer, insertion_rules = text.split(\"\\n\\n\")\n",
    "    insertion_dict = dict([row.split(\" -> \") for row in insertion_rules.split(\"\\n\")])\n",
    "    pair_dict = polymer2pairs(polymer)\n",
    "\n",
    "    new_pairs = defaultdict(int)\n",
    "\n",
    "    for i in range(n):\n",
    "\n",
    "        new_pairs = defaultdict(int)\n",
    "        for k, v in insertion_dict.items():\n",
    "\n",
    "            if k in pair_dict:\n",
    "                new_pairs[k] += -pair_dict[k]\n",
    "                new_pairs[k[0] + v] += pair_dict[k]\n",
    "                new_pairs[v + k[1]] += pair_dict[k]\n",
    "\n",
    "        for k, v in new_pairs.items():\n",
    "\n",
    "            pair_dict[k] += v\n",
    "    return pair_dict\n",
    "\n",
    "\n",
    "assert count_letters(polymer_steps(test_text, n=1)) == count_letters(\n",
    "    polymer2pairs(\"NCNBCHB\")\n",
    ")\n",
    "assert count_letters(polymer_steps(test_text, n=2)) == count_letters(\n",
    "    polymer2pairs(\"NBCCNBBBCBHCB\")\n",
    ")\n",
    "assert count_letters(polymer_steps(test_text, n=3)) == count_letters(\n",
    "    polymer2pairs(\"NBBBCNCCNBBNBNBBCHBHHBCHB\")\n",
    ")\n",
    "assert count_letters(polymer_steps(test_text, n=4)) == count_letters(\n",
    "    polymer2pairs(\"NBBNBNBBCCNBCNCCNBBNBBNBBBNBBNBBCBHCBHHNHCBBCBHCB\")\n",
    ")"
   ]
  },
  {
   "cell_type": "code",
   "execution_count": 113,
   "metadata": {
    "execution": {
     "iopub.execute_input": "2021-12-14T21:45:41.170800Z",
     "iopub.status.busy": "2021-12-14T21:45:41.170557Z",
     "iopub.status.idle": "2021-12-14T21:45:41.176060Z",
     "shell.execute_reply": "2021-12-14T21:45:41.175355Z",
     "shell.execute_reply.started": "2021-12-14T21:45:41.170777Z"
    },
    "tags": []
   },
   "outputs": [],
   "source": [
    "def part_two(text):\n",
    "    polymer, insertion_rules = text.split(\"\\n\\n\")\n",
    "    element_counts = count_letters(\n",
    "        polymer_steps(text, n=40), end=polymer[0] + polymer[-1]\n",
    "    ).most_common()\n",
    "    return element_counts[0][1] - element_counts[-1][1]\n",
    "\n",
    "\n",
    "assert part_two(test_text) == 2188189693529"
   ]
  },
  {
   "cell_type": "code",
   "execution_count": 114,
   "metadata": {
    "execution": {
     "iopub.execute_input": "2021-12-14T21:45:44.363825Z",
     "iopub.status.busy": "2021-12-14T21:45:44.363579Z",
     "iopub.status.idle": "2021-12-14T21:45:44.373045Z",
     "shell.execute_reply": "2021-12-14T21:45:44.372485Z",
     "shell.execute_reply.started": "2021-12-14T21:45:44.363809Z"
    },
    "tags": []
   },
   "outputs": [
    {
     "data": {
      "text/plain": [
       "2276644000111"
      ]
     },
     "execution_count": 114,
     "metadata": {},
     "output_type": "execute_result"
    }
   ],
   "source": [
    "part_two(input_text)"
   ]
  },
  {
   "cell_type": "code",
   "execution_count": 106,
   "metadata": {
    "execution": {
     "iopub.execute_input": "2021-12-14T21:40:41.959670Z",
     "iopub.status.busy": "2021-12-14T21:40:41.959405Z",
     "iopub.status.idle": "2021-12-14T21:40:41.965325Z",
     "shell.execute_reply": "2021-12-14T21:40:41.964639Z",
     "shell.execute_reply.started": "2021-12-14T21:40:41.959643Z"
    },
    "tags": []
   },
   "outputs": [
    {
     "data": {
      "text/plain": [
       "Counter({'N': 2, 'C': 4, 'B': 6, 'H': 1})"
      ]
     },
     "execution_count": 106,
     "metadata": {},
     "output_type": "execute_result"
    }
   ],
   "source": [
    "count_letters(polymer_steps(test_text, n=2))"
   ]
  },
  {
   "cell_type": "code",
   "execution_count": 95,
   "metadata": {
    "execution": {
     "iopub.execute_input": "2021-12-14T21:36:02.170275Z",
     "iopub.status.busy": "2021-12-14T21:36:02.169980Z",
     "iopub.status.idle": "2021-12-14T21:36:02.175216Z",
     "shell.execute_reply": "2021-12-14T21:36:02.174622Z",
     "shell.execute_reply.started": "2021-12-14T21:36:02.170240Z"
    },
    "tags": []
   },
   "outputs": [
    {
     "data": {
      "text/plain": [
       "{'N': 2, 'B': 6, 'C': 4, 'H': 1}"
      ]
     },
     "execution_count": 95,
     "metadata": {},
     "output_type": "execute_result"
    }
   ],
   "source": [
    "count_letters(polymer2pairs(\"NBCCNBBBCBHCB\"))"
   ]
  },
  {
   "cell_type": "code",
   "execution_count": 83,
   "metadata": {
    "execution": {
     "iopub.execute_input": "2021-12-14T21:02:07.283538Z",
     "iopub.status.busy": "2021-12-14T21:02:07.283322Z",
     "iopub.status.idle": "2021-12-14T21:02:07.286796Z",
     "shell.execute_reply": "2021-12-14T21:02:07.286039Z",
     "shell.execute_reply.started": "2021-12-14T21:02:07.283515Z"
    },
    "tags": []
   },
   "outputs": [
    {
     "name": "stdout",
     "output_type": "stream",
     "text": [
      "hi\n"
     ]
    }
   ],
   "source": [
    "if not letter_count.items():\n",
    "    print(\"hi\")"
   ]
  },
  {
   "cell_type": "code",
   "execution_count": 84,
   "metadata": {
    "execution": {
     "iopub.execute_input": "2021-12-14T21:02:07.554197Z",
     "iopub.status.busy": "2021-12-14T21:02:07.553959Z",
     "iopub.status.idle": "2021-12-14T21:02:07.558141Z",
     "shell.execute_reply": "2021-12-14T21:02:07.557663Z",
     "shell.execute_reply.started": "2021-12-14T21:02:07.554173Z"
    },
    "tags": []
   },
   "outputs": [
    {
     "data": {
      "text/plain": [
       "defaultdict(int, {'NN': 1, 'NC': 1, 'CB': 1})"
      ]
     },
     "execution_count": 84,
     "metadata": {},
     "output_type": "execute_result"
    }
   ],
   "source": [
    "polymer2pairs(\"NNCB\")"
   ]
  },
  {
   "cell_type": "code",
   "execution_count": 85,
   "metadata": {
    "execution": {
     "iopub.execute_input": "2021-12-14T21:02:07.823998Z",
     "iopub.status.busy": "2021-12-14T21:02:07.823746Z",
     "iopub.status.idle": "2021-12-14T21:02:07.827995Z",
     "shell.execute_reply": "2021-12-14T21:02:07.827536Z",
     "shell.execute_reply.started": "2021-12-14T21:02:07.823974Z"
    },
    "tags": []
   },
   "outputs": [
    {
     "data": {
      "text/plain": [
       "{'N': 2, 'C': 1, 'B': 1}"
      ]
     },
     "execution_count": 85,
     "metadata": {},
     "output_type": "execute_result"
    }
   ],
   "source": [
    "count_letters(polymer2pairs(\"NNCB\"))"
   ]
  },
  {
   "cell_type": "code",
   "execution_count": 86,
   "metadata": {
    "execution": {
     "iopub.execute_input": "2021-12-14T21:02:08.634390Z",
     "iopub.status.busy": "2021-12-14T21:02:08.634184Z",
     "iopub.status.idle": "2021-12-14T21:02:08.639039Z",
     "shell.execute_reply": "2021-12-14T21:02:08.638529Z",
     "shell.execute_reply.started": "2021-12-14T21:02:08.634367Z"
    },
    "tags": []
   },
   "outputs": [
    {
     "data": {
      "text/plain": [
       "defaultdict(int,\n",
       "            {'NN': 0,\n",
       "             'NC': 1,\n",
       "             'CB': 0,\n",
       "             'CH': 1,\n",
       "             'HB': 1,\n",
       "             'CN': 1,\n",
       "             'NB': 1,\n",
       "             'BC': 1})"
      ]
     },
     "execution_count": 86,
     "metadata": {},
     "output_type": "execute_result"
    }
   ],
   "source": [
    "polymer_steps(test_text, n=1)"
   ]
  },
  {
   "cell_type": "code",
   "execution_count": 87,
   "metadata": {
    "execution": {
     "iopub.execute_input": "2021-12-14T21:02:10.523792Z",
     "iopub.status.busy": "2021-12-14T21:02:10.523564Z",
     "iopub.status.idle": "2021-12-14T21:02:10.528614Z",
     "shell.execute_reply": "2021-12-14T21:02:10.528038Z",
     "shell.execute_reply.started": "2021-12-14T21:02:10.523768Z"
    },
    "tags": []
   },
   "outputs": [
    {
     "data": {
      "text/plain": [
       "{'N': 2, 'C': 2, 'B': 2, 'H': 1}"
      ]
     },
     "execution_count": 87,
     "metadata": {},
     "output_type": "execute_result"
    }
   ],
   "source": [
    "count_letters(polymer_steps(test_text, n=1))"
   ]
  },
  {
   "cell_type": "code",
   "execution_count": 88,
   "metadata": {
    "execution": {
     "iopub.execute_input": "2021-12-14T21:02:11.483645Z",
     "iopub.status.busy": "2021-12-14T21:02:11.483417Z",
     "iopub.status.idle": "2021-12-14T21:02:11.487657Z",
     "shell.execute_reply": "2021-12-14T21:02:11.487051Z",
     "shell.execute_reply.started": "2021-12-14T21:02:11.483622Z"
    },
    "tags": []
   },
   "outputs": [
    {
     "data": {
      "text/plain": [
       "{'N': 2, 'C': 2, 'B': 2, 'H': 1}"
      ]
     },
     "execution_count": 88,
     "metadata": {},
     "output_type": "execute_result"
    }
   ],
   "source": [
    "count_letters(polymer2pairs(\"NCNBCHB\"))"
   ]
  },
  {
   "cell_type": "code",
   "execution_count": 27,
   "metadata": {
    "execution": {
     "iopub.execute_input": "2021-12-14T20:36:07.499601Z",
     "iopub.status.busy": "2021-12-14T20:36:07.499350Z",
     "iopub.status.idle": "2021-12-14T20:36:07.504393Z",
     "shell.execute_reply": "2021-12-14T20:36:07.503786Z",
     "shell.execute_reply.started": "2021-12-14T20:36:07.499573Z"
    }
   },
   "outputs": [
    {
     "data": {
      "text/plain": [
       "{'NN': 0,\n",
       " 'NC': 0,\n",
       " 'CB': 0,\n",
       " 'CH': 1,\n",
       " 'HC': 0,\n",
       " 'CN': 0,\n",
       " 'NB': 2,\n",
       " 'BN': 0,\n",
       " 'BC': 1,\n",
       " 'HB': 1,\n",
       " 'BH': 1,\n",
       " 'BB': 1,\n",
       " 'CC': 1}"
      ]
     },
     "execution_count": 27,
     "metadata": {},
     "output_type": "execute_result"
    }
   ],
   "source": [
    "polymer_steps(test_text, n=2)"
   ]
  },
  {
   "cell_type": "code",
   "execution_count": 11,
   "metadata": {
    "execution": {
     "iopub.execute_input": "2021-12-14T15:57:25.506079Z",
     "iopub.status.busy": "2021-12-14T15:57:25.505820Z",
     "iopub.status.idle": "2021-12-14T15:57:25.510661Z",
     "shell.execute_reply": "2021-12-14T15:57:25.510058Z",
     "shell.execute_reply.started": "2021-12-14T15:57:25.506045Z"
    }
   },
   "outputs": [
    {
     "data": {
      "text/plain": [
       "{'NN': 1, 'NC': 1, 'CB': 1}"
      ]
     },
     "execution_count": 11,
     "metadata": {},
     "output_type": "execute_result"
    }
   ],
   "source": [
    "polymer2pairs(\"NNCB\")"
   ]
  },
  {
   "cell_type": "code",
   "execution_count": 8,
   "metadata": {
    "colab": {
     "base_uri": "https://localhost:8080/"
    },
    "execution": {
     "iopub.execute_input": "2021-12-14T15:54:51.812616Z",
     "iopub.status.busy": "2021-12-14T15:54:51.812397Z",
     "iopub.status.idle": "2021-12-14T15:54:51.817721Z",
     "shell.execute_reply": "2021-12-14T15:54:51.817065Z",
     "shell.execute_reply.started": "2021-12-14T15:54:51.812594Z"
    },
    "id": "v0a8FpKXSHSZ",
    "outputId": "48bb0034-2062-4407-8d8a-a72940be571e",
    "tags": []
   },
   "outputs": [
    {
     "data": {
      "text/plain": [
       "'NBBNBBNBBNBBNBBNBBNBBNBBNBBNBBNBBNBBNBBNBBNBBNBBNBBNBBNBBNBBNBBNBBNBBNBBNBBNBBNBBNBBNBBNBBNBBNBBNBBNBBNBBNBBNBBNBBNBBNBBNBBNBBNBBNBBNBBNBBNBBNBBNBBNBBNBBNBBNBBNBBNBBNBBNBBNBBNBBNBBNBBNBBNBBNBBNBBNBBNBBNBBNBBNBBNBBNBBNBBNBBNBBNBBNBBNBBNBBNBBNBBNBBNBBNBBNBBNBNBBNBBNBBNBBNBBNBBNBBNBBNBBNBBNBBNBBNBBNBBNBBNBBNBBNBBNBBNBBNBBNBBNBBNBBNBBNBBNBBNBBNBBNBBNBBNBBNBBNBBNBBNBBNBBNBBNBBNBBNBBNBBNBBNBBNBBNBBNBBNBBNBBNBBNBBNBBNBBNBBNBBNBBNBBNBBNBBNBBNBBNBBNBBNBBNBBNBBNBBNBBNBBNBBNBBNBBNBBNBBNBBNBBNBBNBBNBBNBBNBBNBBNBBNBBNBBCCNBCNCCNBBNBNBBCNCCNBBBCCNBCNCCNBBNBBNBBNBBNBBNBNBBNBBNBBNBBNBBCNCCNBBBCCNBCNCCNBBNBBNBBBNBBNBBCCNBCNCCNBBNBNBBCNCCNBBBCCNBCNCCNBBNBBNBBNBBNBBNBBNBBNBBNBBNBBNBBNBBNBBNBBNBBNBBNBBNBBNBBNBBNBBNBNBBNBBNBBNBBNBBNBBNBBNBBNBBNBBNBBNBBNBBNBBNBBNBBNBBNBBNBBNBBNBBCNCCNBBBCCNBCNCCNBBNBBNBBBNBBNBBCCNBCNCCNBBNBNBBCNCCNBBBCCNBCNCCNBBNBBNBBNBBNBBNBBNBBNBBNBBNBBNBBBNBBNBBNBBNBBNBBNBBNBBNBBNBBNBBCCNBCNCCNBBNBNBBCNCCNBBBCCNBCNCCNBBNBBNBBNBBNBBNBNBBNBBNBBNBBNBBCNCCNBBBCCNBCNCCNBBNBBNBBBNBBNBBCCNBCNCCNBBNBNBBCNCCNBBBCCNBCNCCNBBNBBNBBNBBNBBNBBNBBNBBNBBNBBNBBNBBNBBNBBNBBNBBNBBNBBNBBNBBNBBNBBNBBNBBNBBNBBNBBNBBNBBNBBNBBNBBNBBNBBNBBNBBNBBNBBNBBNBBNBBNBBNBBNBBNBBNBBNBBNBBNBBNBBNBBNBBNBBNBBNBBNBBNBBNBBNBBNBBNBBNBBNBBNBBNBBNBBNBBNBBNBBNBBNBBNBBNBBNBBNBBNBBNBBNBBNBBNBBNBBNBBNBBNBBNBBNBBNBBNBBNBBNBBNBBNBBNBBNBBNBBNBBNBBNBBNBBNBBNBBNBBNBBNBBNBBNBBNBBNBBNBBNBBNBBNBBNBBNBBNBBNBBNBBNBBNBBNBBNBBNBBNBBNBBNBBNBBNBBNBBNBBNBBNBBNBBNBBNBBNBBNBBNBBNBBNBBNBBNBBNBBNBBNBBNBBNBBNBBNBBNBBNBBNBBNBBNBBNBBNBBNBBNBBNBBNBBNBBNBBNBBNBBNBBNBBNBBNBBNBBNBBNBBNBBBNBBNBBNBBNBBNBBNBBNBBNBBNBBNBBNBBNBBNBBNBBNBBNBBNBBNBBNBBNBBNBBNBBNBBNBBNBBNBBNBBNBBNBBNBBNBBNBBNBBNBBNBBNBBNBBNBBNBBNBBNBBNBBNBBNBBNBBNBBNBBNBBNBBNBBNBBNBBNBBNBBNBBNBBNBBNBBNBBNBBNBBNBBNBBNBBNBBNBBNBBNBBNBBNBBNBBNBBNBBNBBNBBNBBNBBNBBNBBNBBNBBNBBNBBNBBNBBNBBNBBNBBNBBNBBNBBNBBNBBNBBNBBNBBNBBNBBNBBNBBNBBNBBNBBNBBNBBNBBNBBNBBNBBNBBNBBNBBNBBNBBNBBNBBNBBNBBNBBNBBNBBNBBNBBNBBNBBNBBNBBNBBNBBNBBNBBNBBNBBNBBNBBNBBNBBNBBNBBNBBNBBNBBNBBNBBNBBNBBNBBNBBNBBNBBNBBNBBNBBNBBNBBNBBNBBNBBNBBNBBNBBNBBNBBNBBNBBNBBNBBNBBNBBNBBCBHCBHHNHCBBCBHCBHHNHCNCHBCCNBCBHCBBCBHCBBNBBNBBCBHCBHHNHCBBCBHCBHHNHCNCHBCCNBCBHCBBCNCCNBBBCHBHHBCHBNBBCCNBCNCCNBBNBNBBCBHCBHHNHCBBCBHCBBNBBNBBCBHCBHHNHCBBCBHCBBNBBNBBNBBNBBNBBNBBNBBNBBNBBNBBCBHCBHHNHCBBCBHCBHHNHCNCHBCCNBCBHCBBCBHCBBNBBNBBCBHCBHHNHCBBCBHCBHHNHCNCHBCCNBCBHCBBCNCCNBBBCHBHHBCHBNBBCCNBCNCCNBBNBNBBCBHCBHHNHCBBCBHCBBNBBNBBCNCCNBBBCCNBCNCCNBBNBBNBBBNBBNBBCHBHHBCHBHHNHCNCHBCHBNBBCHBHHBCHBNBBNBBNBBNBBNBBCCNBCNCCNBBNBNBBCNCCNBBBCCNBCNCCNBBNBBNBBNBBNBBNBNBBNBBNBBNBBNBBCBHCBHHNHCBBCBHCBHHNHCNCHBCCNBCBHCBBCBHCBBNBBNBBCBHCBHHNHCBBCBHCBBNBBNBBNBBNBBNBBNBBNBBNBBNBBNBBCBHCBHHNHCBBCBHCBHHNHCNCHBCCNBCBHCBBCBHCBBNBBNBBCBHCBHHNHCBBCBHCBBNBBNBBNBBNBBNBBNBBNBBNBBNBBNBBNBBNBBNBBNBBNBBNBBNBBNBBNBBNBBNBBNBBNBBNBBNBBNBBNBBNBBNBBNBBNBBNBBNBBNBBNBBNBBNBBNBBNBBNBBNBBNBBCBHCBHHNHCBBCBHCBHHNHCNCHBCCNBCBHCBBCBHCBBNBBNBBCBHCBHHNHCBBCBHCBHHNHCNCHBCCNBCBHCBBCNCCNBBBCHBHHBCHBNBBCCNBCNCCNBBNBNBBCBHCBHHNHCBBCBHCBBNBBNBBCBHCBHHNHCBBCBHCBBNBBNBBNBBNBBNBBNBBNBBNBBNBBNBBCBHCBHHNHCBBCBHCBHHNHCNCHBCCNBCBHCBBCBHCBBNBBNBBCBHCBHHNHCBBCBHCB'"
      ]
     },
     "execution_count": 8,
     "metadata": {},
     "output_type": "execute_result"
    }
   ],
   "source": [
    "polymer_steps(test_text, n=10)"
   ]
  },
  {
   "cell_type": "code",
   "execution_count": null,
   "metadata": {
    "colab": {
     "base_uri": "https://localhost:8080/",
     "height": 416
    },
    "id": "F2_mWCgJZ6Lu",
    "outputId": "d0b0f9d6-4244-4005-a8b5-93c68a36f92e"
   },
   "outputs": [
    {
     "ename": "KeyboardInterrupt",
     "evalue": "ignored",
     "output_type": "error",
     "traceback": [
      "\u001b[0;31m---------------------------------------------------------------------------\u001b[0m",
      "\u001b[0;31mKeyboardInterrupt\u001b[0m                         Traceback (most recent call last)",
      "\u001b[0;32m<ipython-input-48-a2827c8a914e>\u001b[0m in \u001b[0;36m<module>\u001b[0;34m()\u001b[0m\n\u001b[0;32m----> 1\u001b[0;31m \u001b[0mget_ipython\u001b[0m\u001b[0;34m(\u001b[0m\u001b[0;34m)\u001b[0m\u001b[0;34m.\u001b[0m\u001b[0mmagic\u001b[0m\u001b[0;34m(\u001b[0m\u001b[0;34m'timeit polymer_steps(test_text, n=30)'\u001b[0m\u001b[0;34m)\u001b[0m\u001b[0;34m\u001b[0m\u001b[0;34m\u001b[0m\u001b[0m\n\u001b[0m",
      "\u001b[0;32m/usr/local/lib/python3.7/dist-packages/IPython/core/interactiveshell.py\u001b[0m in \u001b[0;36mmagic\u001b[0;34m(self, arg_s)\u001b[0m\n\u001b[1;32m   2158\u001b[0m         \u001b[0mmagic_name\u001b[0m\u001b[0;34m,\u001b[0m \u001b[0m_\u001b[0m\u001b[0;34m,\u001b[0m \u001b[0mmagic_arg_s\u001b[0m \u001b[0;34m=\u001b[0m \u001b[0marg_s\u001b[0m\u001b[0;34m.\u001b[0m\u001b[0mpartition\u001b[0m\u001b[0;34m(\u001b[0m\u001b[0;34m' '\u001b[0m\u001b[0;34m)\u001b[0m\u001b[0;34m\u001b[0m\u001b[0;34m\u001b[0m\u001b[0m\n\u001b[1;32m   2159\u001b[0m         \u001b[0mmagic_name\u001b[0m \u001b[0;34m=\u001b[0m \u001b[0mmagic_name\u001b[0m\u001b[0;34m.\u001b[0m\u001b[0mlstrip\u001b[0m\u001b[0;34m(\u001b[0m\u001b[0mprefilter\u001b[0m\u001b[0;34m.\u001b[0m\u001b[0mESC_MAGIC\u001b[0m\u001b[0;34m)\u001b[0m\u001b[0;34m\u001b[0m\u001b[0;34m\u001b[0m\u001b[0m\n\u001b[0;32m-> 2160\u001b[0;31m         \u001b[0;32mreturn\u001b[0m \u001b[0mself\u001b[0m\u001b[0;34m.\u001b[0m\u001b[0mrun_line_magic\u001b[0m\u001b[0;34m(\u001b[0m\u001b[0mmagic_name\u001b[0m\u001b[0;34m,\u001b[0m \u001b[0mmagic_arg_s\u001b[0m\u001b[0;34m)\u001b[0m\u001b[0;34m\u001b[0m\u001b[0;34m\u001b[0m\u001b[0m\n\u001b[0m\u001b[1;32m   2161\u001b[0m \u001b[0;34m\u001b[0m\u001b[0m\n\u001b[1;32m   2162\u001b[0m     \u001b[0;31m#-------------------------------------------------------------------------\u001b[0m\u001b[0;34m\u001b[0m\u001b[0;34m\u001b[0m\u001b[0;34m\u001b[0m\u001b[0m\n",
      "\u001b[0;32m/usr/local/lib/python3.7/dist-packages/IPython/core/interactiveshell.py\u001b[0m in \u001b[0;36mrun_line_magic\u001b[0;34m(self, magic_name, line)\u001b[0m\n\u001b[1;32m   2079\u001b[0m                 \u001b[0mkwargs\u001b[0m\u001b[0;34m[\u001b[0m\u001b[0;34m'local_ns'\u001b[0m\u001b[0;34m]\u001b[0m \u001b[0;34m=\u001b[0m \u001b[0msys\u001b[0m\u001b[0;34m.\u001b[0m\u001b[0m_getframe\u001b[0m\u001b[0;34m(\u001b[0m\u001b[0mstack_depth\u001b[0m\u001b[0;34m)\u001b[0m\u001b[0;34m.\u001b[0m\u001b[0mf_locals\u001b[0m\u001b[0;34m\u001b[0m\u001b[0;34m\u001b[0m\u001b[0m\n\u001b[1;32m   2080\u001b[0m             \u001b[0;32mwith\u001b[0m \u001b[0mself\u001b[0m\u001b[0;34m.\u001b[0m\u001b[0mbuiltin_trap\u001b[0m\u001b[0;34m:\u001b[0m\u001b[0;34m\u001b[0m\u001b[0;34m\u001b[0m\u001b[0m\n\u001b[0;32m-> 2081\u001b[0;31m                 \u001b[0mresult\u001b[0m \u001b[0;34m=\u001b[0m \u001b[0mfn\u001b[0m\u001b[0;34m(\u001b[0m\u001b[0;34m*\u001b[0m\u001b[0margs\u001b[0m\u001b[0;34m,\u001b[0m\u001b[0;34m**\u001b[0m\u001b[0mkwargs\u001b[0m\u001b[0;34m)\u001b[0m\u001b[0;34m\u001b[0m\u001b[0;34m\u001b[0m\u001b[0m\n\u001b[0m\u001b[1;32m   2082\u001b[0m             \u001b[0;32mreturn\u001b[0m \u001b[0mresult\u001b[0m\u001b[0;34m\u001b[0m\u001b[0;34m\u001b[0m\u001b[0m\n\u001b[1;32m   2083\u001b[0m \u001b[0;34m\u001b[0m\u001b[0m\n",
      "\u001b[0;32m<decorator-gen-52>\u001b[0m in \u001b[0;36mtimeit\u001b[0;34m(self, line, cell)\u001b[0m\n",
      "\u001b[0;32m/usr/local/lib/python3.7/dist-packages/IPython/core/magic.py\u001b[0m in \u001b[0;36m<lambda>\u001b[0;34m(f, *a, **k)\u001b[0m\n\u001b[1;32m    186\u001b[0m     \u001b[0;31m# but it's overkill for just that one bit of state.\u001b[0m\u001b[0;34m\u001b[0m\u001b[0;34m\u001b[0m\u001b[0;34m\u001b[0m\u001b[0m\n\u001b[1;32m    187\u001b[0m     \u001b[0;32mdef\u001b[0m \u001b[0mmagic_deco\u001b[0m\u001b[0;34m(\u001b[0m\u001b[0marg\u001b[0m\u001b[0;34m)\u001b[0m\u001b[0;34m:\u001b[0m\u001b[0;34m\u001b[0m\u001b[0;34m\u001b[0m\u001b[0m\n\u001b[0;32m--> 188\u001b[0;31m         \u001b[0mcall\u001b[0m \u001b[0;34m=\u001b[0m \u001b[0;32mlambda\u001b[0m \u001b[0mf\u001b[0m\u001b[0;34m,\u001b[0m \u001b[0;34m*\u001b[0m\u001b[0ma\u001b[0m\u001b[0;34m,\u001b[0m \u001b[0;34m**\u001b[0m\u001b[0mk\u001b[0m\u001b[0;34m:\u001b[0m \u001b[0mf\u001b[0m\u001b[0;34m(\u001b[0m\u001b[0;34m*\u001b[0m\u001b[0ma\u001b[0m\u001b[0;34m,\u001b[0m \u001b[0;34m**\u001b[0m\u001b[0mk\u001b[0m\u001b[0;34m)\u001b[0m\u001b[0;34m\u001b[0m\u001b[0;34m\u001b[0m\u001b[0m\n\u001b[0m\u001b[1;32m    189\u001b[0m \u001b[0;34m\u001b[0m\u001b[0m\n\u001b[1;32m    190\u001b[0m         \u001b[0;32mif\u001b[0m \u001b[0mcallable\u001b[0m\u001b[0;34m(\u001b[0m\u001b[0marg\u001b[0m\u001b[0;34m)\u001b[0m\u001b[0;34m:\u001b[0m\u001b[0;34m\u001b[0m\u001b[0;34m\u001b[0m\u001b[0m\n",
      "\u001b[0;32m/usr/local/lib/python3.7/dist-packages/IPython/core/magics/execution.py\u001b[0m in \u001b[0;36mtimeit\u001b[0;34m(self, line, cell)\u001b[0m\n\u001b[1;32m   1055\u001b[0m             \u001b[0mnumber\u001b[0m \u001b[0;34m=\u001b[0m \u001b[0;36m1\u001b[0m\u001b[0;34m\u001b[0m\u001b[0;34m\u001b[0m\u001b[0m\n\u001b[1;32m   1056\u001b[0m             \u001b[0;32mfor\u001b[0m \u001b[0m_\u001b[0m \u001b[0;32min\u001b[0m \u001b[0mrange\u001b[0m\u001b[0;34m(\u001b[0m\u001b[0;36m1\u001b[0m\u001b[0;34m,\u001b[0m \u001b[0;36m10\u001b[0m\u001b[0;34m)\u001b[0m\u001b[0;34m:\u001b[0m\u001b[0;34m\u001b[0m\u001b[0;34m\u001b[0m\u001b[0m\n\u001b[0;32m-> 1057\u001b[0;31m                 \u001b[0mtime_number\u001b[0m \u001b[0;34m=\u001b[0m \u001b[0mtimer\u001b[0m\u001b[0;34m.\u001b[0m\u001b[0mtimeit\u001b[0m\u001b[0;34m(\u001b[0m\u001b[0mnumber\u001b[0m\u001b[0;34m)\u001b[0m\u001b[0;34m\u001b[0m\u001b[0;34m\u001b[0m\u001b[0m\n\u001b[0m\u001b[1;32m   1058\u001b[0m                 \u001b[0mworst_tuning\u001b[0m \u001b[0;34m=\u001b[0m \u001b[0mmax\u001b[0m\u001b[0;34m(\u001b[0m\u001b[0mworst_tuning\u001b[0m\u001b[0;34m,\u001b[0m \u001b[0mtime_number\u001b[0m \u001b[0;34m/\u001b[0m \u001b[0mnumber\u001b[0m\u001b[0;34m)\u001b[0m\u001b[0;34m\u001b[0m\u001b[0;34m\u001b[0m\u001b[0m\n\u001b[1;32m   1059\u001b[0m                 \u001b[0;32mif\u001b[0m \u001b[0mtime_number\u001b[0m \u001b[0;34m>=\u001b[0m \u001b[0;36m0.2\u001b[0m\u001b[0;34m:\u001b[0m\u001b[0;34m\u001b[0m\u001b[0;34m\u001b[0m\u001b[0m\n",
      "\u001b[0;32m/usr/local/lib/python3.7/dist-packages/IPython/core/magics/execution.py\u001b[0m in \u001b[0;36mtimeit\u001b[0;34m(self, number)\u001b[0m\n\u001b[1;32m    137\u001b[0m         \u001b[0mgc\u001b[0m\u001b[0;34m.\u001b[0m\u001b[0mdisable\u001b[0m\u001b[0;34m(\u001b[0m\u001b[0;34m)\u001b[0m\u001b[0;34m\u001b[0m\u001b[0;34m\u001b[0m\u001b[0m\n\u001b[1;32m    138\u001b[0m         \u001b[0;32mtry\u001b[0m\u001b[0;34m:\u001b[0m\u001b[0;34m\u001b[0m\u001b[0;34m\u001b[0m\u001b[0m\n\u001b[0;32m--> 139\u001b[0;31m             \u001b[0mtiming\u001b[0m \u001b[0;34m=\u001b[0m \u001b[0mself\u001b[0m\u001b[0;34m.\u001b[0m\u001b[0minner\u001b[0m\u001b[0;34m(\u001b[0m\u001b[0mit\u001b[0m\u001b[0;34m,\u001b[0m \u001b[0mself\u001b[0m\u001b[0;34m.\u001b[0m\u001b[0mtimer\u001b[0m\u001b[0;34m)\u001b[0m\u001b[0;34m\u001b[0m\u001b[0;34m\u001b[0m\u001b[0m\n\u001b[0m\u001b[1;32m    140\u001b[0m         \u001b[0;32mfinally\u001b[0m\u001b[0;34m:\u001b[0m\u001b[0;34m\u001b[0m\u001b[0;34m\u001b[0m\u001b[0m\n\u001b[1;32m    141\u001b[0m             \u001b[0;32mif\u001b[0m \u001b[0mgcold\u001b[0m\u001b[0;34m:\u001b[0m\u001b[0;34m\u001b[0m\u001b[0;34m\u001b[0m\u001b[0m\n",
      "\u001b[0;32m<magic-timeit>\u001b[0m in \u001b[0;36minner\u001b[0;34m(_it, _timer)\u001b[0m\n",
      "\u001b[0;32m<ipython-input-41-83ac6fbcc91c>\u001b[0m in \u001b[0;36mpolymer_steps\u001b[0;34m(text, n)\u001b[0m\n\u001b[1;32m      7\u001b[0m         \u001b[0;32mfor\u001b[0m \u001b[0mk\u001b[0m\u001b[0;34m,\u001b[0m\u001b[0mv\u001b[0m \u001b[0;32min\u001b[0m \u001b[0minsertion_dict\u001b[0m\u001b[0;34m.\u001b[0m\u001b[0mitems\u001b[0m\u001b[0;34m(\u001b[0m\u001b[0;34m)\u001b[0m\u001b[0;34m:\u001b[0m\u001b[0;34m\u001b[0m\u001b[0;34m\u001b[0m\u001b[0m\n\u001b[1;32m      8\u001b[0m             \u001b[0;32mwhile\u001b[0m \u001b[0mk\u001b[0m \u001b[0;32min\u001b[0m \u001b[0mpolymer\u001b[0m\u001b[0;34m:\u001b[0m\u001b[0;34m\u001b[0m\u001b[0;34m\u001b[0m\u001b[0m\n\u001b[0;32m----> 9\u001b[0;31m                 \u001b[0mpolymer\u001b[0m \u001b[0;34m=\u001b[0m \u001b[0mpolymer\u001b[0m\u001b[0;34m.\u001b[0m\u001b[0mreplace\u001b[0m\u001b[0;34m(\u001b[0m\u001b[0mk\u001b[0m\u001b[0;34m,\u001b[0m \u001b[0mv\u001b[0m\u001b[0;34m)\u001b[0m\u001b[0;34m\u001b[0m\u001b[0;34m\u001b[0m\u001b[0m\n\u001b[0m\u001b[1;32m     10\u001b[0m         \u001b[0mpolymer\u001b[0m \u001b[0;34m=\u001b[0m \u001b[0mpolymer\u001b[0m\u001b[0;34m.\u001b[0m\u001b[0mupper\u001b[0m\u001b[0;34m(\u001b[0m\u001b[0;34m)\u001b[0m\u001b[0;34m\u001b[0m\u001b[0;34m\u001b[0m\u001b[0m\n\u001b[1;32m     11\u001b[0m \u001b[0;34m\u001b[0m\u001b[0m\n",
      "\u001b[0;31mKeyboardInterrupt\u001b[0m: "
     ]
    }
   ],
   "source": [
    "%timeit polymer_steps(test_text, n=30)"
   ]
  },
  {
   "cell_type": "code",
   "execution_count": null,
   "metadata": {
    "id": "g7yql7LcZ8Ka"
   },
   "outputs": [],
   "source": []
  }
 ],
 "metadata": {
  "colab": {
   "collapsed_sections": [],
   "name": "day14.ipynb",
   "provenance": []
  },
  "kernelspec": {
   "display_name": "Python 3 (ipykernel)",
   "language": "python",
   "name": "python3"
  },
  "language_info": {
   "codemirror_mode": {
    "name": "ipython",
    "version": 3
   },
   "file_extension": ".py",
   "mimetype": "text/x-python",
   "name": "python",
   "nbconvert_exporter": "python",
   "pygments_lexer": "ipython3",
   "version": "3.9.7"
  }
 },
 "nbformat": 4,
 "nbformat_minor": 4
}

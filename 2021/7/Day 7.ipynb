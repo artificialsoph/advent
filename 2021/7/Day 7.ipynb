{
 "cells": [
  {
   "cell_type": "code",
   "execution_count": 1,
   "id": "2fc260d9-a88d-4e0c-a020-6dce9b2fd86c",
   "metadata": {
    "execution": {
     "iopub.execute_input": "2021-12-09T16:29:34.159352Z",
     "iopub.status.busy": "2021-12-09T16:29:34.159157Z",
     "iopub.status.idle": "2021-12-09T16:29:34.579724Z",
     "shell.execute_reply": "2021-12-09T16:29:34.579160Z",
     "shell.execute_reply.started": "2021-12-09T16:29:34.159298Z"
    },
    "tags": []
   },
   "outputs": [],
   "source": [
    "from functools import cache\n",
    "from pathlib import Path\n",
    "\n",
    "import numpy as np\n",
    "from tqdm.notebook import tqdm"
   ]
  },
  {
   "cell_type": "code",
   "execution_count": 2,
   "id": "767deeaf-5d71-45e3-a254-c206a5653608",
   "metadata": {
    "execution": {
     "iopub.execute_input": "2021-12-09T16:29:34.581376Z",
     "iopub.status.busy": "2021-12-09T16:29:34.580731Z",
     "iopub.status.idle": "2021-12-09T16:29:34.584961Z",
     "shell.execute_reply": "2021-12-09T16:29:34.584408Z",
     "shell.execute_reply.started": "2021-12-09T16:29:34.581319Z"
    },
    "tags": []
   },
   "outputs": [],
   "source": [
    "test_text = \"16,1,2,0,4,2,7,1,2,14\"\n",
    "input_text = Path(\"input.txt\").read_text()\n",
    "\n",
    "curr_text = test_text  # input_text test_text"
   ]
  },
  {
   "cell_type": "code",
   "execution_count": 3,
   "id": "4c5b7eb0-cc27-4ff6-8980-c0f01268da3e",
   "metadata": {
    "execution": {
     "iopub.execute_input": "2021-12-09T16:29:34.586863Z",
     "iopub.status.busy": "2021-12-09T16:29:34.586699Z",
     "iopub.status.idle": "2021-12-09T16:29:34.589818Z",
     "shell.execute_reply": "2021-12-09T16:29:34.589294Z",
     "shell.execute_reply.started": "2021-12-09T16:29:34.586842Z"
    },
    "tags": []
   },
   "outputs": [],
   "source": [
    "start_arr = np.array([int(i) for i in curr_text.split(\",\")])"
   ]
  },
  {
   "cell_type": "code",
   "execution_count": 4,
   "id": "d08b6a31-0a7e-4c07-ae22-deb27bde2c70",
   "metadata": {
    "execution": {
     "iopub.execute_input": "2021-12-09T16:29:34.590918Z",
     "iopub.status.busy": "2021-12-09T16:29:34.590780Z",
     "iopub.status.idle": "2021-12-09T16:29:34.600911Z",
     "shell.execute_reply": "2021-12-09T16:29:34.600204Z",
     "shell.execute_reply.started": "2021-12-09T16:29:34.590900Z"
    },
    "tags": []
   },
   "outputs": [
    {
     "data": {
      "text/plain": [
       "37.0"
      ]
     },
     "execution_count": 4,
     "metadata": {},
     "output_type": "execute_result"
    }
   ],
   "source": [
    "min_fuel_point = np.median(start_arr)\n",
    "\n",
    "fuel_total = np.sum(np.abs(start_arr - min_fuel_point))\n",
    "fuel_total"
   ]
  },
  {
   "cell_type": "markdown",
   "id": "4b464e16-76d2-4b54-bc98-f920520fb42e",
   "metadata": {},
   "source": [
    "# Part 2"
   ]
  },
  {
   "cell_type": "code",
   "execution_count": 5,
   "id": "6a539610-2970-4976-9bfd-d3363387bc34",
   "metadata": {
    "execution": {
     "iopub.execute_input": "2021-12-09T16:29:34.601937Z",
     "iopub.status.busy": "2021-12-09T16:29:34.601740Z",
     "iopub.status.idle": "2021-12-09T16:29:34.605862Z",
     "shell.execute_reply": "2021-12-09T16:29:34.605198Z",
     "shell.execute_reply.started": "2021-12-09T16:29:34.601916Z"
    },
    "tags": []
   },
   "outputs": [],
   "source": [
    "@cache\n",
    "def crab_fuel(dist):\n",
    "    if dist > 1:\n",
    "        return dist + crab_fuel(dist - 1)\n",
    "    elif dist >= 0:\n",
    "        return dist\n",
    "\n",
    "\n",
    "v_fuel = np.vectorize(crab_fuel)"
   ]
  },
  {
   "cell_type": "code",
   "execution_count": 6,
   "id": "c650adb3-fb95-4d91-ab46-f6e92f3b32e3",
   "metadata": {
    "execution": {
     "iopub.execute_input": "2021-12-09T16:29:34.607375Z",
     "iopub.status.busy": "2021-12-09T16:29:34.607183Z",
     "iopub.status.idle": "2021-12-09T16:29:34.647190Z",
     "shell.execute_reply": "2021-12-09T16:29:34.646661Z",
     "shell.execute_reply.started": "2021-12-09T16:29:34.607357Z"
    },
    "tags": []
   },
   "outputs": [
    {
     "data": {
      "application/vnd.jupyter.widget-view+json": {
       "model_id": "69a389df2f604dd08ac557a212f4886e",
       "version_major": 2,
       "version_minor": 0
      },
      "text/plain": [
       "  0%|          | 0/16 [00:00<?, ?it/s]"
      ]
     },
     "metadata": {},
     "output_type": "display_data"
    }
   ],
   "source": [
    "endpoints = np.arange(start_arr.max())\n",
    "costs = np.zeros_like(endpoints)\n",
    "\n",
    "for i in tqdm(endpoints):\n",
    "    dists = np.abs(start_arr - i, dtype=int)\n",
    "    costs[i] = np.sum(v_fuel(dists))"
   ]
  },
  {
   "cell_type": "code",
   "execution_count": 7,
   "id": "78e5ab5c-15e3-46e8-abb7-29d4e89c6249",
   "metadata": {
    "execution": {
     "iopub.execute_input": "2021-12-09T16:29:34.648670Z",
     "iopub.status.busy": "2021-12-09T16:29:34.648444Z",
     "iopub.status.idle": "2021-12-09T16:29:34.653811Z",
     "shell.execute_reply": "2021-12-09T16:29:34.653106Z",
     "shell.execute_reply.started": "2021-12-09T16:29:34.648649Z"
    },
    "tags": []
   },
   "outputs": [
    {
     "data": {
      "text/plain": [
       "168"
      ]
     },
     "execution_count": 7,
     "metadata": {},
     "output_type": "execute_result"
    }
   ],
   "source": [
    "costs.min()"
   ]
  },
  {
   "cell_type": "code",
   "execution_count": null,
   "id": "ac3395eb-accc-49cd-a993-d04c0e923991",
   "metadata": {},
   "outputs": [],
   "source": []
  }
 ],
 "metadata": {
  "kernelspec": {
   "display_name": "Python [conda env:ds]",
   "language": "python",
   "name": "conda-env-ds-py"
  },
  "language_info": {
   "codemirror_mode": {
    "name": "ipython",
    "version": 3
   },
   "file_extension": ".py",
   "mimetype": "text/x-python",
   "name": "python",
   "nbconvert_exporter": "python",
   "pygments_lexer": "ipython3",
   "version": "3.9.7"
  }
 },
 "nbformat": 4,
 "nbformat_minor": 5
}

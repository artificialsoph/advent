{
 "cells": [
  {
   "cell_type": "code",
   "execution_count": 1,
   "id": "a06e1274-5c74-4efd-97f9-b68e15f998f1",
   "metadata": {
    "execution": {
     "iopub.execute_input": "2021-12-09T18:17:30.390979Z",
     "iopub.status.busy": "2021-12-09T18:17:30.390575Z",
     "iopub.status.idle": "2021-12-09T18:17:30.713472Z",
     "shell.execute_reply": "2021-12-09T18:17:30.712894Z",
     "shell.execute_reply.started": "2021-12-09T18:17:30.390906Z"
    },
    "tags": []
   },
   "outputs": [],
   "source": [
    "from pathlib import Path\n",
    "\n",
    "import numpy as np"
   ]
  },
  {
   "cell_type": "code",
   "execution_count": 2,
   "id": "da3a2da8-3dff-448c-9221-5ce6c05f2e87",
   "metadata": {
    "execution": {
     "iopub.execute_input": "2021-12-09T18:17:30.714380Z",
     "iopub.status.busy": "2021-12-09T18:17:30.714244Z",
     "iopub.status.idle": "2021-12-09T18:17:30.718724Z",
     "shell.execute_reply": "2021-12-09T18:17:30.717819Z",
     "shell.execute_reply.started": "2021-12-09T18:17:30.714362Z"
    },
    "tags": []
   },
   "outputs": [],
   "source": [
    "test_text = \"\"\"2199943210\n",
    "3987894921\n",
    "9856789892\n",
    "8767896789\n",
    "9899965678\"\"\"\n",
    "input_text = Path(\"input.txt\").read_text()\n",
    "curr_text = test_text"
   ]
  },
  {
   "cell_type": "code",
   "execution_count": 3,
   "id": "aa57a359-cd81-43d0-88ae-ce41746694f0",
   "metadata": {
    "execution": {
     "iopub.execute_input": "2021-12-09T18:17:30.721186Z",
     "iopub.status.busy": "2021-12-09T18:17:30.720892Z",
     "iopub.status.idle": "2021-12-09T18:17:30.724960Z",
     "shell.execute_reply": "2021-12-09T18:17:30.724466Z",
     "shell.execute_reply.started": "2021-12-09T18:17:30.721168Z"
    },
    "tags": []
   },
   "outputs": [],
   "source": [
    "height_arr = np.array([[int(i) for i in row] for row in curr_text.split(\"\\n\")])"
   ]
  },
  {
   "cell_type": "code",
   "execution_count": 4,
   "id": "2516917a-0cd3-4fe4-8d30-87ff9f7d0c97",
   "metadata": {
    "execution": {
     "iopub.execute_input": "2021-12-09T18:17:30.725758Z",
     "iopub.status.busy": "2021-12-09T18:17:30.725629Z",
     "iopub.status.idle": "2021-12-09T18:17:30.730443Z",
     "shell.execute_reply": "2021-12-09T18:17:30.729908Z",
     "shell.execute_reply.started": "2021-12-09T18:17:30.725741Z"
    },
    "tags": []
   },
   "outputs": [],
   "source": [
    "height_pad = np.pad(\n",
    "    height_arr, pad_width=1, mode=\"constant\", constant_values=height_arr.max()\n",
    ")\n",
    "min_val = np.full_like(height_arr, height_arr.max())\n",
    "\n",
    "for i in range(height_arr.shape[0]):\n",
    "    for j in range(height_arr.shape[1]):\n",
    "        min_val[i, j] = height_pad[i : i + 3, j : j + 3].min()"
   ]
  },
  {
   "cell_type": "code",
   "execution_count": 5,
   "id": "4d67c8d2-48e2-4635-9520-ff12ac1439f2",
   "metadata": {
    "execution": {
     "iopub.execute_input": "2021-12-09T18:17:30.731564Z",
     "iopub.status.busy": "2021-12-09T18:17:30.731386Z",
     "iopub.status.idle": "2021-12-09T18:17:30.740235Z",
     "shell.execute_reply": "2021-12-09T18:17:30.739740Z",
     "shell.execute_reply.started": "2021-12-09T18:17:30.731542Z"
    },
    "tags": []
   },
   "outputs": [
    {
     "data": {
      "text/plain": [
       "4"
      ]
     },
     "execution_count": 5,
     "metadata": {},
     "output_type": "execute_result"
    }
   ],
   "source": [
    "np.sum(min_val == height_arr)"
   ]
  },
  {
   "cell_type": "code",
   "execution_count": 6,
   "id": "15d9d2c8-a95e-4cc4-ad64-3a6841367db7",
   "metadata": {
    "execution": {
     "iopub.execute_input": "2021-12-09T18:17:30.741474Z",
     "iopub.status.busy": "2021-12-09T18:17:30.741273Z",
     "iopub.status.idle": "2021-12-09T18:17:30.746704Z",
     "shell.execute_reply": "2021-12-09T18:17:30.746034Z",
     "shell.execute_reply.started": "2021-12-09T18:17:30.741454Z"
    },
    "tags": []
   },
   "outputs": [
    {
     "data": {
      "text/plain": [
       "15"
      ]
     },
     "execution_count": 6,
     "metadata": {},
     "output_type": "execute_result"
    }
   ],
   "source": [
    "np.sum(height_arr[min_val == height_arr] + 1)"
   ]
  },
  {
   "cell_type": "markdown",
   "id": "97f5411e-e7af-42cf-9b38-681bc9fefed5",
   "metadata": {},
   "source": [
    "# Part 2"
   ]
  },
  {
   "cell_type": "code",
   "execution_count": 7,
   "id": "edebe454-4e3a-45c2-b563-b1e33b913f88",
   "metadata": {
    "execution": {
     "iopub.execute_input": "2021-12-09T18:17:30.747746Z",
     "iopub.status.busy": "2021-12-09T18:17:30.747565Z",
     "iopub.status.idle": "2021-12-09T18:17:30.820592Z",
     "shell.execute_reply": "2021-12-09T18:17:30.819903Z",
     "shell.execute_reply.started": "2021-12-09T18:17:30.747727Z"
    },
    "tags": []
   },
   "outputs": [],
   "source": [
    "from scipy import ndimage"
   ]
  },
  {
   "cell_type": "code",
   "execution_count": 8,
   "id": "2fd90a2b-df2c-4291-bccc-3a7b3241c707",
   "metadata": {
    "execution": {
     "iopub.execute_input": "2021-12-09T18:17:30.821766Z",
     "iopub.status.busy": "2021-12-09T18:17:30.821548Z",
     "iopub.status.idle": "2021-12-09T18:17:30.825731Z",
     "shell.execute_reply": "2021-12-09T18:17:30.825159Z",
     "shell.execute_reply.started": "2021-12-09T18:17:30.821744Z"
    },
    "tags": []
   },
   "outputs": [],
   "source": [
    "basin_points = height_arr < 9\n",
    "\n",
    "labels, n_labels = ndimage.label(basin_points)\n",
    "\n",
    "label_size = {}\n",
    "\n",
    "for i in range(1, 1 + n_labels):\n",
    "    label_size[i] = np.sum(labels == i)"
   ]
  },
  {
   "cell_type": "code",
   "execution_count": 9,
   "id": "257d5967-ac83-45d5-a5a3-238c6c8cf881",
   "metadata": {
    "execution": {
     "iopub.execute_input": "2021-12-09T18:17:30.827102Z",
     "iopub.status.busy": "2021-12-09T18:17:30.826886Z",
     "iopub.status.idle": "2021-12-09T18:17:30.832061Z",
     "shell.execute_reply": "2021-12-09T18:17:30.831613Z",
     "shell.execute_reply.started": "2021-12-09T18:17:30.827084Z"
    },
    "tags": []
   },
   "outputs": [
    {
     "data": {
      "text/plain": [
       "1134"
      ]
     },
     "execution_count": 9,
     "metadata": {},
     "output_type": "execute_result"
    }
   ],
   "source": [
    "top_3 = sorted(range(1, 1 + n_labels), key=lambda x: label_size[x], reverse=True)[:3]\n",
    "\n",
    "np.prod([label_size[i] for i in top_3])"
   ]
  },
  {
   "cell_type": "code",
   "execution_count": null,
   "id": "6eed81d3-c1eb-4924-bddc-fe224a22f566",
   "metadata": {},
   "outputs": [],
   "source": []
  }
 ],
 "metadata": {
  "kernelspec": {
   "display_name": "Python [conda env:ds]",
   "language": "python",
   "name": "conda-env-ds-py"
  },
  "language_info": {
   "codemirror_mode": {
    "name": "ipython",
    "version": 3
   },
   "file_extension": ".py",
   "mimetype": "text/x-python",
   "name": "python",
   "nbconvert_exporter": "python",
   "pygments_lexer": "ipython3",
   "version": "3.9.7"
  }
 },
 "nbformat": 4,
 "nbformat_minor": 5
}

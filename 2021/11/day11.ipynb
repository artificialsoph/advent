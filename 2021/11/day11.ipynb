{
 "cells": [
  {
   "cell_type": "code",
   "execution_count": 1,
   "id": "baa6a79c-fd02-49b8-8493-eec5f4ae4e45",
   "metadata": {
    "execution": {
     "iopub.execute_input": "2021-12-11T23:09:29.450761Z",
     "iopub.status.busy": "2021-12-11T23:09:29.450230Z",
     "iopub.status.idle": "2021-12-11T23:09:29.814383Z",
     "shell.execute_reply": "2021-12-11T23:09:29.813632Z",
     "shell.execute_reply.started": "2021-12-11T23:09:29.450689Z"
    },
    "tags": []
   },
   "outputs": [],
   "source": [
    "import numpy as np\n",
    "from pathlib import Path"
   ]
  },
  {
   "cell_type": "code",
   "execution_count": 2,
   "id": "69dce2e8-afb5-4990-9af7-bb98ffe9af92",
   "metadata": {
    "execution": {
     "iopub.execute_input": "2021-12-11T23:09:29.815476Z",
     "iopub.status.busy": "2021-12-11T23:09:29.815150Z",
     "iopub.status.idle": "2021-12-11T23:09:29.819445Z",
     "shell.execute_reply": "2021-12-11T23:09:29.818956Z",
     "shell.execute_reply.started": "2021-12-11T23:09:29.815458Z"
    },
    "tags": []
   },
   "outputs": [],
   "source": [
    "test_text = \"\"\"5483143223\n",
    "2745854711\n",
    "5264556173\n",
    "6141336146\n",
    "6357385478\n",
    "4167524645\n",
    "2176841721\n",
    "6882881134\n",
    "4846848554\n",
    "5283751526\"\"\"\n",
    "input_text = Path(\"input.txt\").read_text()\n",
    "curr_text = test_text"
   ]
  },
  {
   "cell_type": "code",
   "execution_count": 3,
   "id": "2a7481aa-6475-4428-b257-d65afdddaaf1",
   "metadata": {
    "execution": {
     "iopub.execute_input": "2021-12-11T23:09:29.821651Z",
     "iopub.status.busy": "2021-12-11T23:09:29.821435Z",
     "iopub.status.idle": "2021-12-11T23:09:29.825195Z",
     "shell.execute_reply": "2021-12-11T23:09:29.824580Z",
     "shell.execute_reply.started": "2021-12-11T23:09:29.821631Z"
    },
    "tags": []
   },
   "outputs": [],
   "source": [
    "oct_arr = np.array([[int(i) for i in row] for row in curr_text.split(\"\\n\")])"
   ]
  },
  {
   "cell_type": "code",
   "execution_count": 4,
   "id": "f8eb938c-acd5-4865-94d5-574ff02f5588",
   "metadata": {
    "execution": {
     "iopub.execute_input": "2021-12-11T23:09:29.826435Z",
     "iopub.status.busy": "2021-12-11T23:09:29.826125Z",
     "iopub.status.idle": "2021-12-11T23:09:29.831657Z",
     "shell.execute_reply": "2021-12-11T23:09:29.831069Z",
     "shell.execute_reply.started": "2021-12-11T23:09:29.826416Z"
    },
    "tags": []
   },
   "outputs": [],
   "source": [
    "def step_oct(start_arr):\n",
    "    size_x, size_y = start_arr.shape\n",
    "\n",
    "    new_arr = start_arr + 1\n",
    "    flashed = []\n",
    "\n",
    "    for i in range(100):\n",
    "        to_flash = [tuple(ind) for ind in np.argwhere(new_arr > 9)]\n",
    "\n",
    "        to_flash = [ind for ind in to_flash if not (ind in flashed)]\n",
    "\n",
    "        if not to_flash:\n",
    "            break\n",
    "\n",
    "        for flash_i in to_flash:\n",
    "\n",
    "            slice_x = slice(max(0, flash_i[0] - 1), flash_i[0] + 2)\n",
    "            slice_y = slice(max(0, flash_i[1] - 1), flash_i[1] + 2)\n",
    "            new_arr[slice_x, slice_y] = new_arr[slice_x, slice_y] + 1\n",
    "            flashed.append(flash_i)\n",
    "\n",
    "    new_arr[new_arr > 9] = 0\n",
    "    return new_arr, len(flashed)"
   ]
  },
  {
   "cell_type": "code",
   "execution_count": 5,
   "id": "1709a41d-abb9-484f-87ba-2219e8203bd7",
   "metadata": {
    "execution": {
     "iopub.execute_input": "2021-12-11T23:09:29.832699Z",
     "iopub.status.busy": "2021-12-11T23:09:29.832528Z",
     "iopub.status.idle": "2021-12-11T23:09:29.868969Z",
     "shell.execute_reply": "2021-12-11T23:09:29.868443Z",
     "shell.execute_reply.started": "2021-12-11T23:09:29.832680Z"
    },
    "tags": []
   },
   "outputs": [
    {
     "name": "stdout",
     "output_type": "stream",
     "text": [
      "1656\n"
     ]
    }
   ],
   "source": [
    "oct_arr = np.array([[int(i) for i in row] for row in curr_text.split(\"\\n\")])\n",
    "flash_counter = 0\n",
    "\n",
    "for i in range(100):\n",
    "\n",
    "    oct_arr, n_flashes = step_oct(oct_arr)\n",
    "    flash_counter = flash_counter + n_flashes\n",
    "print(flash_counter)"
   ]
  },
  {
   "cell_type": "code",
   "execution_count": 6,
   "id": "94deff8e-c8c6-4c32-9326-17f12ed35e8d",
   "metadata": {
    "execution": {
     "iopub.execute_input": "2021-12-11T23:09:29.869826Z",
     "iopub.status.busy": "2021-12-11T23:09:29.869674Z",
     "iopub.status.idle": "2021-12-11T23:09:29.935679Z",
     "shell.execute_reply": "2021-12-11T23:09:29.935248Z",
     "shell.execute_reply.started": "2021-12-11T23:09:29.869808Z"
    },
    "tags": []
   },
   "outputs": [
    {
     "name": "stdout",
     "output_type": "stream",
     "text": [
      "195\n"
     ]
    }
   ],
   "source": [
    "oct_arr = np.array([[int(i) for i in row] for row in curr_text.split(\"\\n\")])\n",
    "for i in range(1,int(1e3)):\n",
    "    oct_arr, n_flashes = step_oct(oct_arr)\n",
    "    if n_flashes == 100:\n",
    "        print(i)\n",
    "        break"
   ]
  },
  {
   "cell_type": "code",
   "execution_count": null,
   "id": "ce680bad-1b01-4ae7-93d0-297d675974f8",
   "metadata": {},
   "outputs": [],
   "source": []
  }
 ],
 "metadata": {
  "kernelspec": {
   "display_name": "Python [conda env:ds]",
   "language": "python",
   "name": "conda-env-ds-py"
  },
  "language_info": {
   "codemirror_mode": {
    "name": "ipython",
    "version": 3
   },
   "file_extension": ".py",
   "mimetype": "text/x-python",
   "name": "python",
   "nbconvert_exporter": "python",
   "pygments_lexer": "ipython3",
   "version": "3.9.7"
  }
 },
 "nbformat": 4,
 "nbformat_minor": 5
}

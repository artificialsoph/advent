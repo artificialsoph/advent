{
 "cells": [
  {
   "cell_type": "code",
   "execution_count": 60,
   "id": "f5094064-b2e5-498b-afa6-9c482092eebe",
   "metadata": {
    "execution": {
     "iopub.execute_input": "2021-12-13T22:25:51.233228Z",
     "iopub.status.busy": "2021-12-13T22:25:51.232834Z",
     "iopub.status.idle": "2021-12-13T22:25:51.236933Z",
     "shell.execute_reply": "2021-12-13T22:25:51.236138Z",
     "shell.execute_reply.started": "2021-12-13T22:25:51.233194Z"
    },
    "tags": []
   },
   "outputs": [],
   "source": [
    "from pathlib import Path\n",
    "import pytesseract\n",
    "from PIL import Image\n",
    "\n",
    "from matplotlib import pyplot as plt\n",
    "from matplotlib import cm\n",
    "import numpy as np"
   ]
  },
  {
   "cell_type": "code",
   "execution_count": 19,
   "id": "c40a0953-dfc2-4686-90f0-4131fd403018",
   "metadata": {
    "execution": {
     "iopub.execute_input": "2021-12-13T19:00:43.612565Z",
     "iopub.status.busy": "2021-12-13T19:00:43.612298Z",
     "iopub.status.idle": "2021-12-13T19:00:43.616319Z",
     "shell.execute_reply": "2021-12-13T19:00:43.615673Z",
     "shell.execute_reply.started": "2021-12-13T19:00:43.612535Z"
    },
    "tags": []
   },
   "outputs": [],
   "source": [
    "test_text = \"\"\"6,10\n",
    "0,14\n",
    "9,10\n",
    "0,3\n",
    "10,4\n",
    "4,11\n",
    "6,0\n",
    "6,12\n",
    "4,1\n",
    "0,13\n",
    "10,12\n",
    "3,4\n",
    "3,0\n",
    "8,4\n",
    "1,10\n",
    "2,14\n",
    "8,10\n",
    "9,0\n",
    "\n",
    "fold along y=7\n",
    "fold along x=5\"\"\"\n",
    "input_text = Path(\"input.txt\").read_text()"
   ]
  },
  {
   "cell_type": "code",
   "execution_count": 3,
   "id": "684d8a0d-9c59-4fd8-bd8a-956e1d093e22",
   "metadata": {
    "execution": {
     "iopub.execute_input": "2021-12-13T18:59:08.103596Z",
     "iopub.status.busy": "2021-12-13T18:59:08.103324Z",
     "iopub.status.idle": "2021-12-13T18:59:08.108724Z",
     "shell.execute_reply": "2021-12-13T18:59:08.108051Z",
     "shell.execute_reply.started": "2021-12-13T18:59:08.103564Z"
    },
    "tags": []
   },
   "outputs": [],
   "source": [
    "def make_arr(text):\n",
    "    coords = text.split(\"\\n\\n\")[0]\n",
    "    coords = np.array([[int(i) for i in row.split(\",\")] for row in coords.split(\"\\n\")])\n",
    "\n",
    "    dots = np.zeros((coords[:, 0].max() + 1, coords[:, 1].max() + 1), dtype=int)\n",
    "\n",
    "    for x, y in coords:\n",
    "        dots[x, y] = 1\n",
    "\n",
    "    return dots"
   ]
  },
  {
   "cell_type": "code",
   "execution_count": 38,
   "id": "25ea6369-6a6b-4027-a8ca-5fd93929f0e9",
   "metadata": {
    "execution": {
     "iopub.execute_input": "2021-12-13T22:07:53.221167Z",
     "iopub.status.busy": "2021-12-13T22:07:53.220909Z",
     "iopub.status.idle": "2021-12-13T22:07:53.226091Z",
     "shell.execute_reply": "2021-12-13T22:07:53.225321Z",
     "shell.execute_reply.started": "2021-12-13T22:07:53.221140Z"
    },
    "tags": []
   },
   "outputs": [],
   "source": [
    "def fold(dots, cmd):\n",
    "\n",
    "    dim, loc = cmd.split(\"=\")\n",
    "    loc = int(loc)\n",
    "\n",
    "    if dim == \"y\":\n",
    "        new_dots = dots[:, :loc] + dots[:, -1 : -(loc + 1) : -1]\n",
    "\n",
    "    if dim == \"x\":\n",
    "        new_dots = dots[:loc, :] + dots[-1 : -(loc + 1) : -1, :]\n",
    "\n",
    "    return (new_dots >= 1).astype(int)"
   ]
  },
  {
   "cell_type": "code",
   "execution_count": 43,
   "id": "319d2ce7-6e51-445f-a23b-3ea9feacf3a8",
   "metadata": {
    "execution": {
     "iopub.execute_input": "2021-12-13T22:08:26.008049Z",
     "iopub.status.busy": "2021-12-13T22:08:26.007796Z",
     "iopub.status.idle": "2021-12-13T22:08:26.012340Z",
     "shell.execute_reply": "2021-12-13T22:08:26.011588Z",
     "shell.execute_reply.started": "2021-12-13T22:08:26.008025Z"
    },
    "tags": []
   },
   "outputs": [],
   "source": [
    "def make_folds(text, lim=None):\n",
    "\n",
    "    dots = make_arr(text)\n",
    "\n",
    "    fold_instructions = text.split(\"\\n\\n\")[1]\n",
    "    for row in fold_instructions.split(\"\\n\")[:lim]:\n",
    "        fold_cmd = row.split(\" \")[-1]\n",
    "        dots = fold(dots, fold_cmd)\n",
    "\n",
    "    return dots"
   ]
  },
  {
   "cell_type": "code",
   "execution_count": 44,
   "id": "64650809-6a0b-4474-b929-c2d26a764b04",
   "metadata": {
    "execution": {
     "iopub.execute_input": "2021-12-13T22:08:26.289376Z",
     "iopub.status.busy": "2021-12-13T22:08:26.289130Z",
     "iopub.status.idle": "2021-12-13T22:08:26.294155Z",
     "shell.execute_reply": "2021-12-13T22:08:26.293561Z",
     "shell.execute_reply.started": "2021-12-13T22:08:26.289352Z"
    },
    "tags": []
   },
   "outputs": [
    {
     "data": {
      "text/plain": [
       "array([[1, 1, 0, 1, 0, 0, 0],\n",
       "       [0, 0, 0, 0, 1, 0, 0],\n",
       "       [1, 0, 0, 0, 0, 0, 0],\n",
       "       [1, 0, 0, 0, 1, 0, 0],\n",
       "       [0, 1, 0, 1, 0, 0, 0],\n",
       "       [0, 0, 0, 0, 0, 0, 0],\n",
       "       [1, 0, 1, 0, 1, 0, 0],\n",
       "       [0, 0, 0, 0, 0, 0, 0],\n",
       "       [0, 0, 0, 0, 1, 0, 0],\n",
       "       [1, 0, 0, 0, 1, 0, 0],\n",
       "       [0, 0, 1, 0, 1, 0, 0]])"
      ]
     },
     "execution_count": 44,
     "metadata": {},
     "output_type": "execute_result"
    }
   ],
   "source": [
    "make_folds(test_text, lim=1)"
   ]
  },
  {
   "cell_type": "code",
   "execution_count": 45,
   "id": "114729c1-fe57-417f-bb25-9e095909eb86",
   "metadata": {
    "execution": {
     "iopub.execute_input": "2021-12-13T22:08:39.299129Z",
     "iopub.status.busy": "2021-12-13T22:08:39.298882Z",
     "iopub.status.idle": "2021-12-13T22:08:39.303754Z",
     "shell.execute_reply": "2021-12-13T22:08:39.303106Z",
     "shell.execute_reply.started": "2021-12-13T22:08:39.299104Z"
    },
    "tags": []
   },
   "outputs": [
    {
     "data": {
      "text/plain": [
       "17"
      ]
     },
     "execution_count": 45,
     "metadata": {},
     "output_type": "execute_result"
    }
   ],
   "source": [
    "np.sum(make_folds(test_text, lim=1))"
   ]
  },
  {
   "cell_type": "code",
   "execution_count": 46,
   "id": "58be80c5-afa7-450f-bc9c-0d0b6f160309",
   "metadata": {
    "execution": {
     "iopub.execute_input": "2021-12-13T22:08:53.456177Z",
     "iopub.status.busy": "2021-12-13T22:08:53.455932Z",
     "iopub.status.idle": "2021-12-13T22:08:53.469466Z",
     "shell.execute_reply": "2021-12-13T22:08:53.468755Z",
     "shell.execute_reply.started": "2021-12-13T22:08:53.456152Z"
    },
    "tags": []
   },
   "outputs": [
    {
     "data": {
      "text/plain": [
       "array([[0, 0, 0, ..., 0, 0, 0],\n",
       "       [0, 0, 0, ..., 0, 0, 0],\n",
       "       [0, 0, 0, ..., 0, 0, 0],\n",
       "       ...,\n",
       "       [0, 0, 0, ..., 0, 0, 0],\n",
       "       [0, 0, 0, ..., 0, 0, 0],\n",
       "       [0, 0, 0, ..., 0, 0, 0]])"
      ]
     },
     "execution_count": 46,
     "metadata": {},
     "output_type": "execute_result"
    }
   ],
   "source": [
    "make_folds(input_text, lim=1)"
   ]
  },
  {
   "cell_type": "code",
   "execution_count": 47,
   "id": "fbb986d7-7cfa-4261-8a97-78308ba0c807",
   "metadata": {
    "execution": {
     "iopub.execute_input": "2021-12-13T22:09:03.611205Z",
     "iopub.status.busy": "2021-12-13T22:09:03.610943Z",
     "iopub.status.idle": "2021-12-13T22:09:03.623806Z",
     "shell.execute_reply": "2021-12-13T22:09:03.623140Z",
     "shell.execute_reply.started": "2021-12-13T22:09:03.611179Z"
    }
   },
   "outputs": [
    {
     "data": {
      "text/plain": [
       "724"
      ]
     },
     "execution_count": 47,
     "metadata": {},
     "output_type": "execute_result"
    }
   ],
   "source": [
    "np.sum(make_folds(input_text, lim=1))"
   ]
  },
  {
   "cell_type": "code",
   "execution_count": 48,
   "id": "3528be60-9731-4fcf-a4a9-1b21c3493290",
   "metadata": {
    "execution": {
     "iopub.execute_input": "2021-12-13T22:09:29.406808Z",
     "iopub.status.busy": "2021-12-13T22:09:29.406557Z",
     "iopub.status.idle": "2021-12-13T22:09:29.411275Z",
     "shell.execute_reply": "2021-12-13T22:09:29.410645Z",
     "shell.execute_reply.started": "2021-12-13T22:09:29.406784Z"
    }
   },
   "outputs": [
    {
     "data": {
      "text/plain": [
       "array([[1, 1, 1, 1, 1, 0, 0],\n",
       "       [1, 0, 0, 0, 1, 0, 0],\n",
       "       [1, 0, 0, 0, 1, 0, 0],\n",
       "       [1, 0, 0, 0, 1, 0, 0],\n",
       "       [1, 1, 1, 1, 1, 0, 0]])"
      ]
     },
     "execution_count": 48,
     "metadata": {},
     "output_type": "execute_result"
    }
   ],
   "source": [
    "make_folds(test_text)"
   ]
  },
  {
   "cell_type": "code",
   "execution_count": 53,
   "id": "d031a561-4886-4a06-a31b-930d20fcc7e1",
   "metadata": {
    "execution": {
     "iopub.execute_input": "2021-12-13T22:11:23.249421Z",
     "iopub.status.busy": "2021-12-13T22:11:23.248992Z",
     "iopub.status.idle": "2021-12-13T22:11:23.374442Z",
     "shell.execute_reply": "2021-12-13T22:11:23.373876Z",
     "shell.execute_reply.started": "2021-12-13T22:11:23.249392Z"
    },
    "tags": []
   },
   "outputs": [
    {
     "data": {
      "text/plain": [
       "<matplotlib.image.AxesImage at 0x7fd180d05e80>"
      ]
     },
     "execution_count": 53,
     "metadata": {},
     "output_type": "execute_result"
    },
    {
     "data": {
      "image/png": "[encoded data removed]",
      "text/plain": [
       "<Figure size 432x288 with 1 Axes>"
      ]
     },
     "metadata": {
      "needs_background": "light"
     },
     "output_type": "display_data"
    }
   ],
   "source": [
    "plt.imshow( make_folds(input_text).T)"
   ]
  },
  {
   "cell_type": "code",
   "execution_count": 77,
   "id": "3288f756-6154-41a6-a98f-d21de36caf7b",
   "metadata": {
    "execution": {
     "iopub.execute_input": "2021-12-13T22:30:17.928309Z",
     "iopub.status.busy": "2021-12-13T22:30:17.927909Z",
     "iopub.status.idle": "2021-12-13T22:30:17.952072Z",
     "shell.execute_reply": "2021-12-13T22:30:17.951525Z",
     "shell.execute_reply.started": "2021-12-13T22:30:17.928214Z"
    },
    "tags": []
   },
   "outputs": [],
   "source": [
    "im_arr = np.pad(make_folds(input_text).T, pad_width=30, mode=\"constant\", constant_values=0)"
   ]
  },
  {
   "cell_type": "code",
   "execution_count": 78,
   "id": "94550bc5-56da-4ad5-b3f2-372394ac56e0",
   "metadata": {
    "execution": {
     "iopub.execute_input": "2021-12-13T22:30:18.255259Z",
     "iopub.status.busy": "2021-12-13T22:30:18.254999Z",
     "iopub.status.idle": "2021-12-13T22:30:18.361428Z",
     "shell.execute_reply": "2021-12-13T22:30:18.360731Z",
     "shell.execute_reply.started": "2021-12-13T22:30:18.255229Z"
    },
    "tags": []
   },
   "outputs": [
    {
     "data": {
      "text/plain": [
       "<matplotlib.image.AxesImage at 0x7fd161d6a8b0>"
      ]
     },
     "execution_count": 78,
     "metadata": {},
     "output_type": "execute_result"
    },
    {
     "data": {
      "image/png": "[encoded data removed]",
      "text/plain": [
       "<Figure size 432x288 with 1 Axes>"
      ]
     },
     "metadata": {
      "needs_background": "light"
     },
     "output_type": "display_data"
    }
   ],
   "source": [
    "plt.imshow(im_arr)"
   ]
  },
  {
   "cell_type": "code",
   "execution_count": 79,
   "id": "1b7f514c-b851-4c03-a4c0-dc260a8a2702",
   "metadata": {
    "execution": {
     "iopub.execute_input": "2021-12-13T22:30:19.004830Z",
     "iopub.status.busy": "2021-12-13T22:30:19.004592Z",
     "iopub.status.idle": "2021-12-13T22:30:19.008729Z",
     "shell.execute_reply": "2021-12-13T22:30:19.008022Z",
     "shell.execute_reply.started": "2021-12-13T22:30:19.004809Z"
    },
    "tags": []
   },
   "outputs": [],
   "source": [
    "im = Image.fromarray(np.uint8(cm.gist_yarg(im_arr)*255))"
   ]
  },
  {
   "cell_type": "code",
   "execution_count": 80,
   "id": "a0159d98-bbbb-455a-be2f-3c5af3b0685e",
   "metadata": {
    "execution": {
     "iopub.execute_input": "2021-12-13T22:30:19.334699Z",
     "iopub.status.busy": "2021-12-13T22:30:19.334438Z",
     "iopub.status.idle": "2021-12-13T22:30:19.503532Z",
     "shell.execute_reply": "2021-12-13T22:30:19.502962Z",
     "shell.execute_reply.started": "2021-12-13T22:30:19.334671Z"
    },
    "tags": []
   },
   "outputs": [
    {
     "data": {
      "text/plain": [
       "''"
      ]
     },
     "execution_count": 80,
     "metadata": {},
     "output_type": "execute_result"
    }
   ],
   "source": [
    "pytesseract.image_to_string(im, )"
   ]
  },
  {
   "cell_type": "code",
   "execution_count": null,
   "id": "8eaa2115-9fe6-436a-8b96-6bbe05f628ff",
   "metadata": {},
   "outputs": [],
   "source": []
  }
 ],
 "metadata": {
  "kernelspec": {
   "display_name": "Python [conda env:ds]",
   "language": "python",
   "name": "conda-env-ds-py"
  },
  "language_info": {
   "codemirror_mode": {
    "name": "ipython",
    "version": 3
   },
   "file_extension": ".py",
   "mimetype": "text/x-python",
   "name": "python",
   "nbconvert_exporter": "python",
   "pygments_lexer": "ipython3",
   "version": "3.9.7"
  }
 },
 "nbformat": 4,
 "nbformat_minor": 5
}

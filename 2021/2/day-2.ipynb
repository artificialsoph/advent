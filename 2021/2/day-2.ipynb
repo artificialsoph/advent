{
 "cells": [
  {
   "cell_type": "code",
   "execution_count": 1,
   "id": "dd4714bd-ca28-4496-b879-6484299ade0b",
   "metadata": {},
   "outputs": [],
   "source": [
    "import pandas as pd"
   ]
  },
  {
   "cell_type": "code",
   "execution_count": 3,
   "id": "2c8b7c73-407d-4e79-aa04-752786d10d2e",
   "metadata": {},
   "outputs": [
    {
     "data": {
      "text/html": [
       "<div>\n",
       "<style scoped>\n",
       "    .dataframe tbody tr th:only-of-type {\n",
       "        vertical-align: middle;\n",
       "    }\n",
       "\n",
       "    .dataframe tbody tr th {\n",
       "        vertical-align: top;\n",
       "    }\n",
       "\n",
       "    .dataframe thead th {\n",
       "        text-align: right;\n",
       "    }\n",
       "</style>\n",
       "<table border=\"1\" class=\"dataframe\">\n",
       "  <thead>\n",
       "    <tr style=\"text-align: right;\">\n",
       "      <th></th>\n",
       "      <th>commands</th>\n",
       "    </tr>\n",
       "  </thead>\n",
       "  <tbody>\n",
       "    <tr>\n",
       "      <th>0</th>\n",
       "      <td>forward 9</td>\n",
       "    </tr>\n",
       "    <tr>\n",
       "      <th>1</th>\n",
       "      <td>forward 9</td>\n",
       "    </tr>\n",
       "    <tr>\n",
       "      <th>2</th>\n",
       "      <td>forward 3</td>\n",
       "    </tr>\n",
       "    <tr>\n",
       "      <th>3</th>\n",
       "      <td>down 2</td>\n",
       "    </tr>\n",
       "    <tr>\n",
       "      <th>4</th>\n",
       "      <td>forward 8</td>\n",
       "    </tr>\n",
       "    <tr>\n",
       "      <th>...</th>\n",
       "      <td>...</td>\n",
       "    </tr>\n",
       "    <tr>\n",
       "      <th>995</th>\n",
       "      <td>up 8</td>\n",
       "    </tr>\n",
       "    <tr>\n",
       "      <th>996</th>\n",
       "      <td>forward 6</td>\n",
       "    </tr>\n",
       "    <tr>\n",
       "      <th>997</th>\n",
       "      <td>down 9</td>\n",
       "    </tr>\n",
       "    <tr>\n",
       "      <th>998</th>\n",
       "      <td>forward 2</td>\n",
       "    </tr>\n",
       "    <tr>\n",
       "      <th>999</th>\n",
       "      <td>forward 6</td>\n",
       "    </tr>\n",
       "  </tbody>\n",
       "</table>\n",
       "<p>1000 rows × 1 columns</p>\n",
       "</div>"
      ],
      "text/plain": [
       "      commands\n",
       "0    forward 9\n",
       "1    forward 9\n",
       "2    forward 3\n",
       "3       down 2\n",
       "4    forward 8\n",
       "..         ...\n",
       "995       up 8\n",
       "996  forward 6\n",
       "997     down 9\n",
       "998  forward 2\n",
       "999  forward 6\n",
       "\n",
       "[1000 rows x 1 columns]"
      ]
     },
     "execution_count": 3,
     "metadata": {},
     "output_type": "execute_result"
    }
   ],
   "source": [
    "day2_df = pd.read_csv(\"data/day2.txt\", names=[\"commands\"])\n",
    "day2_df"
   ]
  },
  {
   "cell_type": "code",
   "execution_count": 18,
   "id": "a5d49b04-0093-4555-8a0b-0a22ea02fec5",
   "metadata": {},
   "outputs": [],
   "source": [
    "day2_df[\"direction\"] = day2_df.commands.apply(lambda x: x.split()[0])\n",
    "day2_df[\"magnitude\"] = day2_df.commands.apply(lambda x: int(x.split()[1]))"
   ]
  },
  {
   "cell_type": "code",
   "execution_count": 19,
   "id": "e33ab98f-6bbb-4a77-ac97-7cecd9b694ae",
   "metadata": {},
   "outputs": [
    {
     "data": {
      "text/plain": [
       "forward    408\n",
       "down       398\n",
       "up         194\n",
       "Name: direction, dtype: int64"
      ]
     },
     "execution_count": 19,
     "metadata": {},
     "output_type": "execute_result"
    }
   ],
   "source": [
    "day2_df.direction.value_counts()"
   ]
  },
  {
   "cell_type": "code",
   "execution_count": 20,
   "id": "075fb8ad-2dc7-4f86-96b1-2a90e7126c5e",
   "metadata": {},
   "outputs": [
    {
     "data": {
      "text/plain": [
       "<AxesSubplot:>"
      ]
     },
     "execution_count": 20,
     "metadata": {},
     "output_type": "execute_result"
    },
    {
     "data": {
      "image/png": "[encoded data removed]",
      "text/plain": [
       "<Figure size 432x288 with 1 Axes>"
      ]
     },
     "metadata": {
      "needs_background": "light"
     },
     "output_type": "display_data"
    }
   ],
   "source": [
    "day2_df.magnitude.hist()"
   ]
  },
  {
   "cell_type": "code",
   "execution_count": 32,
   "id": "a9ac72b5-f110-428f-be82-0c65c18b152f",
   "metadata": {},
   "outputs": [],
   "source": [
    "position = [0,0]\n",
    "\n",
    "for i, command in enumerate(day2_df.commands):\n",
    "    \n",
    "    # if i > 20:\n",
    "    #     break\n",
    "    \n",
    "    direction, magnitude = command.split()\n",
    "    \n",
    "    if direction == \"up\":\n",
    "        position[1] = max(0, position[1] - int(magnitude))\n",
    "        \n",
    "    if direction == \"down\":\n",
    "        position[1] = position[1] + int(magnitude)\n",
    "    \n",
    "    if direction == \"forward\":\n",
    "        position[0] = position[0] + int(magnitude)\n",
    "    \n",
    "    \n",
    "        \n",
    "    # print( command, position)"
   ]
  },
  {
   "cell_type": "code",
   "execution_count": 33,
   "id": "44bfefdc-e738-4ae9-acd9-e5ad2bfbd1a1",
   "metadata": {},
   "outputs": [
    {
     "data": {
      "text/plain": [
       "1989265"
      ]
     },
     "execution_count": 33,
     "metadata": {},
     "output_type": "execute_result"
    }
   ],
   "source": [
    "position[0] * position[1]"
   ]
  },
  {
   "cell_type": "markdown",
   "id": "61df99d7-fee4-4a00-8529-14581fd784f4",
   "metadata": {},
   "source": [
    "# Step 2"
   ]
  },
  {
   "cell_type": "code",
   "execution_count": 35,
   "id": "07a18f61-54f3-459b-9041-b65fae62659d",
   "metadata": {},
   "outputs": [],
   "source": [
    "position = [0,0,0] #horizontal, depth, aim\n",
    "\n",
    "for i, command in enumerate(day2_df.commands):\n",
    "    \n",
    "    # if i > 40:\n",
    "    #     break\n",
    "    \n",
    "    direction, magnitude = command.split()\n",
    "    \n",
    "    if direction == \"up\":\n",
    "        position[2] = position[2] - int(magnitude)\n",
    "        \n",
    "    if direction == \"down\":\n",
    "        position[2] = position[2] + int(magnitude)\n",
    "    \n",
    "    if direction == \"forward\":\n",
    "        position[0] = position[0] + int(magnitude)\n",
    "        position[1] = position[1] + position[2]*int(magnitude)\n",
    "    \n",
    "    # print(i, command, position)"
   ]
  },
  {
   "cell_type": "code",
   "execution_count": 37,
   "id": "802ee0c3-96e4-4009-a4f5-584eb8168c56",
   "metadata": {},
   "outputs": [
    {
     "data": {
      "text/plain": [
       "2089174012"
      ]
     },
     "execution_count": 37,
     "metadata": {},
     "output_type": "execute_result"
    }
   ],
   "source": [
    "position[0]*position[1]"
   ]
  },
  {
   "cell_type": "code",
   "execution_count": null,
   "id": "615a65c5-a425-4bbd-a03d-6507cab491ee",
   "metadata": {},
   "outputs": [],
   "source": []
  }
 ],
 "metadata": {
  "kernelspec": {
   "display_name": "Python [conda env:ds]",
   "language": "python",
   "name": "conda-env-ds-py"
  },
  "language_info": {
   "codemirror_mode": {
    "name": "ipython",
    "version": 3
   },
   "file_extension": ".py",
   "mimetype": "text/x-python",
   "name": "python",
   "nbconvert_exporter": "python",
   "pygments_lexer": "ipython3",
   "version": "3.9.7"
  }
 },
 "nbformat": 4,
 "nbformat_minor": 5
}
